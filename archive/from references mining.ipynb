{
 "cells": [
  {
   "cell_type": "code",
   "execution_count": null,
   "id": "f3f86de7",
   "metadata": {},
   "outputs": [],
   "source": [
    "#not used currently! old method for adding more rows about references to dataframe, but all later code ended up needing\n",
    "#a different format\n",
    "def add_references(df, ref_list_all):\n",
    "    \n",
    "    \n",
    "    row_list = df[df['category'] == 'category: classification'].index\n",
    "    df_class = df[df['category'] == 'category: classification']\n",
    "    \n",
    "    ref_dic = create_ref_dic(ref_list_all)\n",
    "    \n",
    "    oldest_list = []\n",
    "    newest_list = []\n",
    "    range_list = []\n",
    "    class_dic = {}\n",
    "    num_ref = []\n",
    "\n",
    "    for element in row_list:\n",
    "        ref_dic.get(element).sort()\n",
    "        class_dic[element] = ref_dic.get(element) #need this otherwise the sort is forgotten\n",
    "        ref_list = class_dic.get(element)\n",
    "        oldest_list.append(int(ref_list[0]))\n",
    "        newest_list.append(int(ref_list[len(ref_list)-1]))\n",
    "        range_list.append(int(ref_list[len(ref_list)-1])- int(ref_list[0]))\n",
    "        num_ref.append(len(ref_list))\n",
    "   \n",
    "    \n",
    "    data = {'index': row_list,\n",
    "            'Number of references': num_ref,\n",
    "            'Oldest reference': oldest_list,\n",
    "            'Newest reference' : newest_list,\n",
    "            'Range of references': range_list\n",
    "    } \n",
    "    \n",
    "    ref = pd.DataFrame(data)\n",
    "    \n",
    "    df_class = df_class.reset_index()\n",
    "    \n",
    "    df_class = df_class.merge(ref, on = 'index')\n",
    " \n",
    "    \n",
    "    return df_class \n",
    "\n",
    "    "
   ]
  },
  {
   "cell_type": "code",
   "execution_count": null,
   "id": "1855ed83",
   "metadata": {},
   "outputs": [],
   "source": [
    "df_2012class = add_references(df_2012, ref_list2012)\n",
    "\n",
    "df_2021class = add_references(df_2021, ref_list2021)"
   ]
  },
  {
   "cell_type": "code",
   "execution_count": null,
   "id": "9c9e4654",
   "metadata": {},
   "outputs": [],
   "source": [
    "#method that updates the dictionary of index keys and ref list to contain tuples of ref year and age instead\n",
    "#not used currently\n",
    "def calc_age(dic, year):\n",
    "    for key in dic.keys():\n",
    "        ref_list = dic.get(key)\n",
    "        with_age = []\n",
    "        for ref in ref_list:\n",
    "            with_age.append(year-int(ref))\n",
    "        dic[key] = with_age\n",
    "    return dic"
   ]
  },
  {
   "cell_type": "code",
   "execution_count": null,
   "id": "ede988db",
   "metadata": {},
   "outputs": [],
   "source": [
    "#looks very squished but works!\n",
    "#acl code!\n",
    "sns.set_context(\"paper\", font_scale=1.5)\n",
    "ax = sns.boxenplot(data=df, x='year', y='cited_age', palette=[sns.color_palette(\"Blues\")[3]])\n",
    "\n",
    "ax.set_xlabel(\"\")\n",
    "ax.set_ylabel(\"Age of citations\")\n",
    "plt.xticks(rotation=45)"
   ]
  },
  {
   "cell_type": "code",
   "execution_count": null,
   "id": "6b30996a",
   "metadata": {},
   "outputs": [],
   "source": [
    "#acl code\n",
    "df_max = df.groupby(['paper_id', 'year'])[\"cited_age\"].max().reset_index()\n",
    "sns.set_context(\"paper\", font_scale=1.5)\n",
    "ax = sns.boxenplot(data=df_max, x='year', y='cited_age', palette=[sns.color_palette(\"Blues\")[3]])\n",
    "\n",
    "ax.set_xlabel(\"\")\n",
    "ax.set_ylabel(\"Age of citations\")\n",
    "plt.xticks(rotation=45)\n"
   ]
  },
  {
   "cell_type": "code",
   "execution_count": null,
   "id": "a8b7a78b",
   "metadata": {},
   "outputs": [],
   "source": [
    "#acl code\n",
    "# normalize by total no. of *papers* in year\n",
    "pfactor = df['paper_id'].groupby(df['year']).nunique('paper_id').reset_index()\n",
    "counts['count'] = counts['count'].astype(float)\n",
    "pcounts = counts.apply(lambda x: [x[0], x[1], x[2] / float(pfactor[pfactor['year']==x[0]]['paper_id']), x[3]], axis=1, result_type='broadcast')\n",
    "\n",
    "# cumulative count of citations of age X or older\n",
    "# need to reverse first so we start from the oldest...\n",
    "pcounts = pcounts.sort_values(by='cited_age', ascending=False)\n",
    "# then cumulatively sum up, for each year individually\n",
    "pcounts['cumcount'] = pcounts.groupby('year')['count'].transform(pd.Series.cumsum)\n",
    "\n",
    "sns.lineplot(data=pcounts, x='cited_age', y='cumcount', hue='year', legend='full')\n"
   ]
  },
  {
   "cell_type": "code",
   "execution_count": null,
   "id": "cebbf19a",
   "metadata": {},
   "outputs": [],
   "source": [
    "#modified code from acl repo! Used to calculate/show the count of ages per year, looking for maxima\n",
    "#in final version removed all the commented out lines:\n",
    "\n",
    "# Count citations by year & cited_age\n",
    "#counts = df2012_with_year.groupby(['year', 'cited_age']).count()\n",
    "counts = df2021_with_year.groupby(['year', 'cited_age']).count()\n",
    "counts = counts.reset_index().filter(items=['year', 'cited_age', 'venue'])\n",
    "counts.columns.values[-1] = \"count\"\n",
    "#counts[counts['count'] == counts['count'].max()]\n",
    "\n",
    "# Normalize by total no. of citations in year\n",
    "#nfactor = df.groupby(['year']).count().reset_index()\n",
    "#counts['count'] = counts['count'].astype(float)\n",
    "#counts['percent_of_citations'] = counts.apply(lambda x: 100 * x[2] / float(nfactor[nfactor['year']==x[0]]['paper_id']), axis=1)\n",
    "\n",
    "\n",
    "test = counts.sort_values(by = ['cited_age'], ascending = True)\n",
    "test.head(50)\n",
    "\n",
    "#sns.lineplot(data=counts, x='cited_age', y='count', hue='year', legend='full')\n",
    "\n",
    "#plt.savefig('percent of citations vs age of citations')\n",
    "#plt.show()\n"
   ]
  },
  {
   "cell_type": "code",
   "execution_count": null,
   "id": "079415dd",
   "metadata": {},
   "outputs": [],
   "source": [
    "#acl code - can definitely see that that one paper from 1872(?) is insanely skewing things\n",
    "#wait no, this makes no sense? Not sure this is correct at all?\n",
    "\n",
    "#We can sanity-check that this calculation is correct by directly calculating the average number of citations per paper:\n",
    "\n",
    "# no. of citations per paper\n",
    "cpp = df.groupby(['paper_id', 'year']).count()['cited_age'].reset_index()\n",
    "# mean by year\n",
    "cpp.groupby('year').mean()"
   ]
  }
 ],
 "metadata": {
  "kernelspec": {
   "display_name": "Python 3 (ipykernel)",
   "language": "python",
   "name": "python3"
  },
  "language_info": {
   "codemirror_mode": {
    "name": "ipython",
    "version": 3
   },
   "file_extension": ".py",
   "mimetype": "text/x-python",
   "name": "python",
   "nbconvert_exporter": "python",
   "pygments_lexer": "ipython3",
   "version": "3.9.7"
  }
 },
 "nbformat": 4,
 "nbformat_minor": 5
}
