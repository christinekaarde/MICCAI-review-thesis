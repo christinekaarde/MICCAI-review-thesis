{
 "cells": [
  {
   "cell_type": "code",
   "execution_count": null,
   "id": "55992e69",
   "metadata": {},
   "outputs": [],
   "source": [
    "#NOT USED\n",
    "def scan_abstract(file_list):\n",
    "    abstract_indicator = []\n",
    "    for article in file_list:\n",
    "        article = open(article, \"r\")\n",
    "        lines = article.read()\n",
    "        lines = lines[lines.find(\"Abstract\"):lines.find(\"Introduction\")] \n",
    "        \n",
    "        #should narrow down some at least\n",
    "    #presumably the abstract is before the introduction\n",
    "    #print(lines)\n",
    "    \n",
    "        if lines.find(\"classification\") > 0 or lines.find(\"prediction\") > 0 or lines.find(\"detection\") > 0:\n",
    "        #print(\"classificaiton detected\")\n",
    "            abstract_indicator.append(1)\n",
    "        else:\n",
    "            abstract_indicator.append(0)\n",
    "    return abstract_indicator\n",
    "\n",
    "#this should work as long as I have all the texts in separate files\n",
    "# and as txt files. Not sure how it will cope with pdf files - nope, that does not work\n",
    "# but could presumably read them as txt, get Dad to show me how - and then need to bundle them\n",
    "# can I also simply convert epub to txt?\n",
    "#I wonder if calibre can do that? would appear so!"
   ]
  },
  {
   "cell_type": "code",
   "execution_count": null,
   "id": "d945e509",
   "metadata": {},
   "outputs": [],
   "source": []
  }
 ],
 "metadata": {
  "kernelspec": {
   "display_name": "Python 3 (ipykernel)",
   "language": "python",
   "name": "python3"
  },
  "language_info": {
   "codemirror_mode": {
    "name": "ipython",
    "version": 3
   },
   "file_extension": ".py",
   "mimetype": "text/x-python",
   "name": "python",
   "nbconvert_exporter": "python",
   "pygments_lexer": "ipython3",
   "version": "3.9.7"
  }
 },
 "nbformat": 4,
 "nbformat_minor": 5
}
