{
 "cells": [
  {
   "cell_type": "code",
   "execution_count": 1,
   "id": "ec186a24",
   "metadata": {},
   "outputs": [],
   "source": [
    "import pandas as pd"
   ]
  },
  {
   "cell_type": "code",
   "execution_count": 15,
   "id": "ad072bb2",
   "metadata": {},
   "outputs": [
    {
     "data": {
      "text/plain": [
       "'1-9'"
      ]
     },
     "execution_count": 15,
     "metadata": {},
     "output_type": "execute_result"
    }
   ],
   "source": [
    "df_2012 = pd.read_csv(r\"C:\\Users\\chris\\Desktop\\Value-Analysis-Thesis\\mining test\\miccai_2012_first_wave.csv\")\n",
    "\n",
    "page_number_list = df_2012[\"Page numbers\"]\n",
    "\n",
    "page_number_list = page_number_list.to_list()\n",
    "\n",
    "page_number_list[0]"
   ]
  },
  {
   "cell_type": "code",
   "execution_count": 30,
   "id": "65410836",
   "metadata": {},
   "outputs": [],
   "source": [
    "def save_articles(page_number_list):\n",
    "    counter = 0\n",
    "    for element in page_number_list:\n",
    "        pages = element.split(\"-\")\n",
    "        start_page = int(pages[0])+50\n",
    "        end_page = int(pages[1])+50\n",
    "        article = \"\"\n",
    "        for i in range(end_page-start_page):\n",
    "            if start_page < 100:\n",
    "                page = open(r\"C:\\Users\\chris\\Dropbox\\ITU\\Thesis\\book\\miccia_2012_img-0\" + str(start_page) + \".txt\", \"r\", encoding='utf-8')\n",
    "            else:\n",
    "                page = open(r\"C:\\Users\\chris\\Dropbox\\ITU\\Thesis\\book\\miccia_2012_img-\" + str(start_page) + \".txt\", \"r\", encoding='utf-8')\n",
    "            \n",
    "            article = article + page.read() #I'm hoping this adds next page to it\n",
    "            start_page = start_page + 1\n",
    "        \n",
    "        with open(¨'2012_'+str(counter)+'.txt', 'w') as f:\n",
    "            f.write(article)\n",
    "\n",
    "        counter = counter + 1\n",
    "    return article"
   ]
  },
  {
   "cell_type": "code",
   "execution_count": 31,
   "id": "4932711a",
   "metadata": {},
   "outputs": [
    {
     "data": {
      "text/plain": [
       "'Limited Angle C-Arm tomography and Segmentation of the LA 639\\n\\nwith the same angular range as the test image. Thereby, for 150° reconstruc-\\ntions, a segmentation error of about 2mm is obtained. Third, these findings hold\\nfor the whole LAPV plus trachea mesh, but also for the individual anatomical\\nstructures of the mesh, as shown in Table Fourth, if the reconstruction angle\\nis further reduced to 130° or 110°, a segmentation error of about 3mm is ob-\\ntained in matched conditions. Models trained on low reconstruction angles are\\ngenerally more robust in mismatched test conditions, while not being optimal\\nfor large reconstruction angles.\\n\\n_ 6 —— : r\\nE training on\\n& reconstructions from\\n5 200° —+—\\n5 170° —<—\\n5 150° —K—\\n24 130° —E—\\ne 110° Os\\n5\\nBot\\n8\\n3\\n2 2+ _—_.\\noy\\n$\\n® yo n n n\\n200 170 150 130 110\\n\\nangular range used for test reconstruction [degree]\\n\\nFig. 1. Average segmentation error émean of the whole mesh for various training and\\ntest angular ranges\\n\\nTable 2. Average segmentation error of the individual mesh parts in [mm] for various\\ntraining and test angular ranges\\n\\nTest on 200° Test on 170° Test on 150°\\n\\n: Train: Train: Train: Train: : Train:\\n\\n170° 150° 170° 150° 150°\\n\\nWhole mesh 151 1.48 1.59 1.59 1.66 1.98\\nLeft atrium 158 1.49 1.61 1.63 1.76 2.04\\nInf. Left PV 1.87 1.88 2.00 1.83 1.88 2.20\\nInf. Right PV | 1.87 1.81 1.94 1.85 1.77 2.31\\nSup. Left PV 141 1.38 1.65 1.41 1.70 2.08\\nSup. Right PV] 1.67 1.65 1.68 1.61 1.63 | 1.99 1.84\\nTrachea 1.35 136 1.46 1.51 1.52 | 3.00 1.86\\n\\nThese findings are also confirmed by visual inspection of the mesh outline as\\noverlay on angiograms (Fig. 2) and slices of the reconstructed images (Fig. B).\\nThe decreasing depth resolution in anterior-posterior direction can be observed\\nin the transaxial slices for A = 130°,110° resulting in mesh deformations and\\nlarger segmentation errors.\\n640 D. Schafer et al.\\n\\nFig. 2. Oblique view on the joint LAPV and trachea model as wire rendering (left),\\nangiogram of the case shown in Fig. [3] post-processed by local contrast enhancement.\\n(middle), and overlay of corresponding adapted model trained on 200° (right)\\n\\n200° |.0.694mm, 170° |,0.69.mm 150° [,0.82imm\\n\\nFig. 3. Example overlay of segmentation results on the corresponding test data recon-\\nstructions using the trained model from 150° with 10-fold cross-correlation. Transaxial\\nslices (top), sagittal (middle), coronal (bottom). In the top row the angular range A\\nand the error ¢mean is given for the corresponding column.\\n\\n4 Summary and Conclusions\\n\\nA reduction of the angular range from 200° to 170° has only a minimal in-\\nfluence on the segmentation performance (from 1.5mm to 1.6mm). If smaller\\nangular ranges are used in the test images, the decrease in segmentation per-\\nformance can be partly compensated by using a segmentation model trained in\\nLimited Angle C-Arm tomography and Segmentation of the LA 641\\n\\nmatched conditions. Thereby, for 150° reconstructions, a segmentation error of\\nabout 2mm is obtained. Hence, accepting this minor decrease in segmentation\\nperformance, the clinical workflow can be substantially simplified by avoiding\\nlarge C-arm angulations between 60° RAO and 100° RAO.\\n\\nReferences\\n\\n1\\n\\n10.\\n\\n11\\n\\n. Delaney, A.H., Bresler, Y.: Global\\n\\nManzke, R., Meyer, C., Ecabert, O., Peters, J., Noordhock, N.J., Thiagalingam, A.,\\nReddy, V-Y., Chan, R.C., Weese, J.: Automatic Segmentation of Rotational X-Ray\\nImages for Anatomic Intra-Procedural Surface Generation in Atrial Fibrillation\\nAblation Procedures. IEEE Trans. Med. Imag. 29(2), 260-272 (2010)\\n\\nly Convergent Edge-Preserving Regularized Re-\\nconstruction: An Application to Limited-Angle Tomography. IEEE Trans. Imag.\\nProc. 7(2), 204-221 (1998)\\n\\nPersson, M., Bone, D., Elmqvist, H.: Total variation norm for three-dimensional\\niterative reconstruction in limited view angle tomography. Phys. Med. Biol. 46,\\n853-866 (2001)\\n\\nSnyder, D.L., O\\'Sullivan, J.A., Murphy, R.J., Politte, D.G., Whiting, B.R.,\\nWilliamson, J.F.: Image reconstruction for transmission tomography when pro-\\njection data are incomplete. Phys. Med. Biol. 51, 5603-5619 (2006)\\n\\nBachar, G., Siewerdsen, J.H., Daly, M.J., Jaffray, D.A., Irish, J.C.: Image quality\\nand localization accuracy in C-arm tomosynthesis-guided head and neck surgery.\\nMed. Phys. 34, 4664-4677 (2007)\\n\\nFeldkamp, L., Davis, L., Kress, J.: Practical cone-beam algorithm. J. Opt. Soc\\nAm. A 1, 612-619 (1984)\\n\\nEcabert, O., Peters, J., Schramm, H., Lorenz, C., von Berg, J., Walker, M., Vembar,\\nM., Olszewski, M., Subramanyan, K., Lavi, G., Weese, J.: Automatic model-based\\nsegmentation of the heart in CT images. IEEE Trans. Med. Imag. 27(9), 1189-1201\\n(2008)\\n\\n. Li, J.H., Haim, M., Movassaghi, B., Mendel, J.B., Chaudhry, G.M., Haffajee, CL,\\n\\nOrlov, M.V.: Segmentation and registration of three-dimensional rotational an-\\ngiogram on live fluoroscopy to guide atrial fibrillation ablation: A new online imag-\\ning tool. Heart Rhythm 6(2), 231-237 (2009)\\n\\n. Saalbach, A., Wachter-Stehle, I., Kneser, R., Mollus, S., Peters, J., Weese, J.:\\n\\nOptimizing GHT-Based Heart Localization in an Automatic Segmentation Chain.\\nIn: Fichtinger, G., Martel, A., Peters, T. (eds.) MIGCAI 2011, Part III, LNCS,\\nvol. 6893, pp. 463-470. Springer, Heidelberg (2011)\\n\\nPeters, J., Ecabert, O., Meyer, C., Kneser, R., Weese, J.: Optimizing boundary de-\\ntection via Simulated Search with applications to multi-modal heart segmentation\\nMedical Image Analysis 14(1), 70-84 (2010)\\n\\nMeyer, C., Manzke, R., Peters, J., Ecabert, O., Kneser, R., Reddy, V.Y.,\\nChan, R.C., Weese, J.: Automatic Intra-operative Generation of Geometric Left\\nAtrium/Pulmonary Vein Models from Rotational X-Ray Angiography. In: Metaxas,\\nD., Axel, L., Fichtinger, G., Székely, G. (eds.) MICCAI 2008, Part II. LNCS,\\nvol. 5242, pp. 61-69. Springer, Heidelberg (2008)\\n\\nZheng, Y., Wang, T., John, M., Zhou, $.K., Boese, J., Comaniciu, D.: Multi-part\\nLeft Atrium Modeling and Segmentation in C-Arm CT Volumes for Atrial Fib-\\nrillation Ablation. In: Fichtinger, G., Martel, A., Peters, T. (eds.) MICCAI 2011,\\nPart III. LNCS, vol. 6893, pp. 487-495. Springer, Heidelberg (2011)\\n\\nAutomatic Non-rigid Temporal Alignment\\nof IVUS Sequences\\n\\nMarina Alberti!*, Simone Balocco!?, Xavier Carrillo®,\\nand Petia Radeval:?*\\n\\n\\' Dept. of Applied Mathematics and Analysis, University of Barcelona, Spain\\n2 Computer Vision Center, Campus UAB, Bellaterra, Barcelona, Spain\\n% University Hospital “Germans Trias i Pujol”, Badalona, Spain\\nmalberti@cvc.uab.es\\n\\nAbstract. Clinical studies on atherosclerosis regression /progression per-\\nformed by Intravascular Ultrasound analysis require the alignment of\\npullbacks of the same patient before and after clinical interventions.\\nIn this paper, a methodology for the automatic alignment of IVUS se-\\nquences based on the Dynamic Time Warping technique is proposed.\\n‘The method is adapted to the specific IVUS alignment task by apply-\\ning the non-rigid alignment technique to multidimensional morphological\\nsignals, and by introducing a sliding window approach together with a\\nregularization term. To show the effectiveness of our method, an exten-\\nsive validation is performed both on synthetic data and in-vivo TVUS\\nsequences. The proposed method is robust to stent deployment and post\\ndilation surgery and reaches an alignment error of approximately 0.7 mm\\nfor in-vivo data, which is comparable to the inter-observer variability.\\n\\n1 Introduction\\n\\nIntravascular Ultrasound (IVUS) is a catheter-based imaging technique used for\\ndiagnostic purposes and for planning and validation of Percutaneous Coronary\\nIntervention (PCI). IVUS sequences are acquired by dragging an ultrasound\\nemitter carried by a catheter, at constant speed, inside the arterial vessel, from\\nthe distal to the proximal position (pullbacks). The image alignment of the same\\nvessel from different IVUS pullbacks is important from a clinical viewpoint. Af-\\nter performing PCI, frame alignment allows physicians to assess the intervention\\noutcome (i.e., evaluate final lumen dimensions and blood flow restoration, de-\\ntect stent malapposition and inspect side-branch occlusion by deployed stent).\\nAt follow-up, it is crucial to monitor restenosis and the evolution of plaque com-\\nposition. Currently, in plaque regression studies, the longitudinal correspondence\\nof coronary artery segments is manually determined by identifying common land-\\nmarks, such as bifurcations {1 [3]. To our knowledge, no method for the automatic\\nalignment of IVUS sequences has been published in literature.\\n\\n* This work is supported by TIN2009-14404-C02 and CONSOLIDER INGENIO CSD\\n2007-00018.\\n\\nN. Ayache et al. (Eds.): MICCAT 2012, Part I, LNCS 7510, pp. 642-650, 2012\\n© Springer-Verlag Berlin Heidelberg 2012\\nAutomatic Non-rigid Temporal Alignment of IVUS Sequences 643\\n\\nPullback 1\\n\\nFests pagar\\n\\n‘Aiea(n)\\n\\nCC) a a aC?\\nTine mr of one ames). Tine (tebe of aa ramen.\\n\\nPullback 2\\n\\nfeed ghenn\\n\\na a a\\nTine arb ated ames) Tee fuer of ated ames.\\n\\n(a) (b) (}\\n\\nFig. 1. Pair of IVUS sequences of the same vessel: (a) longitudinal views, (b) corre-\\nsponding frames, (c) temporal signals describing the pullbacks\\n\\nDespite the constant catheter speed, an automatic alignment is hampered\\neral obstacles: (1) the heart beating causes a non-rigid deformation of\\nthe vessel, (2) the catheter and the heart motion generate acquisition artifacts,\\nsuch as the catheter longitudinal swinging and the roto-translation of successive\\nframes (see Figure [(b)), (3) the catheter can follow different trajectories inside\\nthe vessel, therefore the acquired image sections might not be orthogonal to the\\nvessel walls, (4) the probe can remain stuck in the vessel for some time and\\nthen accelerate, (5) different initial and end spatial positions of the pullbacks\\ncause partial overlapping (see Figure [[a)) and (6) the vessel morphology can\\nsignificantly change after the intervention or evolve at follow-up. Consequently,\\nthere is no one-to-one correspondence between frames of the two pullbacks, thus\\nmaking image-based alignment approaches inaccurate. Hence, instead of using an\\nimage-based description, in this study the morphological content: of the artery is\\nexploited. IVUS sequences\\ni.e., side-branch location, vi\\n\\nby\\n\\nn be described by temporal morphological signals,\\nsel, lumen and plaque areas (see Figure [c)). Thu\\nthe IVUS alignment task is addressed as a temporal alignment problem,\\n\\nIn different applications, such as speech recognition, activity recognition,\\nshape matching, several methods have been developed for non-rigid signal align-\\nment, like Dynamic Time Warping (DTW), Canonical Time Warping (CTW)\\nand Correlation Optimized Warping (COW) (345). DTW [3] minimizes the Eu-\\nclidean distance of corresponding points of the signals. Canonical Time Warping\\n(CTW) [4] improves DTW by combining it with Canonical Correlation Analysis\\n(CCA), thus adding a feature weighting mechanism. The optimization process\\nrequires the application of CCA at suc > iterations. Correlation Optimized\\nWarping (COW) [5] is a piecewise data alignment method which allows limited\\nchanges in segment lengths and performs a segment-wise correlation optimiza-\\ntion by means of dynamic programming\\n\\n644 M. Alberti et al.\\n\\nTo address the non-rigid correspondence between frames, in this paper a\\nDTW-based framework is adapted to the specific clinical task and compared\\nvs. the CTW and COW techniques. To tackle the partial overlapping problem,\\nthe alignment algorithms are integrated into a sliding window approach. More-\\nover, a regularization term is introduced to penalize significant differences in the\\nglobal temporal expansion/compression of IVUS sequences. Two validations are\\npresented, on synthetic data and on 13 pairs of in-vivo sequences (26 pullbacks)\\n\\n2 Method for IVUS Sequences Alignment\\n\\nThe signal alignment framework is based on the DTW technique. To align two\\nsequences X = [21,22,...%,] and Y = [yi,y2,..-Yny], DTW builds a ma-\\ntrix din, xn,)> Where dl (1 <i <ny;1 <j < ny) represents a dissimilarity\\nmeasure between X(é) and Y(7) (3). In the classical DTW formulation, d(i, 3) is\\ncomputed as the Euclidean distance dg (i, j). Successively, the algorithm finds the\\nwarping path (i.e., a mapping of the time axes of X and Y on a common time axis,\\nf = ([i(k), j(kK)] |k =1,...,)) with the minimum cumulative distance (MCD).\\nThe MCD of the path leading to the entry (i,j) is computed by dynamic pro-\\ngramming as: D (i,j) = d (i,j) + min(D (i — 1,3), D(é—1,j — 1), D (i,j - 1).\\nFinally, the matching cost is calculated as ® (X,Y) = argmin DL, d (i(k), j(k))-\\n£\\n\\n2.1 Multidimensional Profiles Extraction\\n\\nProfile Framework: A pair of corresponding IVUS sequences is described by\\ntemporal morphological profiles (i.\\nphological measurements along the vessel) and defined as a pair of time series\\nX €R™\" and Y € R™*\"», of length nz, ny and dimensionality m. The profiles\\nare invariant to frame rotation, thus making the method independent from the\\n\\nsignals describing the evolution of mor-\\n\\ncatheter torsion. The use of multiple features is aimed to increase the robustness\\nwith respect to 1-D alignment. The following morphological measurements are\\nproposed in this study: (1) vessel area, defined as the area inside the media-\\nadventitia border [i], (2) lumen area [7], (3) area of calcified plaque [§], (4) area\\nof fibro-lipidic plaque [8], (5) angular extension of bifurcations [9]. It is worth\\nnoticing that the framework could potentially provide similar results using a\\ndifferent set of profiles and it is independent from the technique employed for\\nthe measurements.\\n\\nGating Preprocessing: To limit the morphological variations due to vessel\\npulsation and catheter swinging effect, an image-based gating algorithm {14|\\nis applied to the pullbacks in order to select the frames belonging to the end-\\ndiastolic phase. The selected images provide coherent morphological measures,\\nsince the arterial tissues are subject to the same blood pressure. Moreover, the\\n\\npreprocessing assures that the frames are consecutive in the direction of the\\ncatheter movement\\nAutomatic Non-rigid Temporal Alignment of IVUS Sequences 645,\\n\\n2.2 IVUS Alignment Framework\\n\\nSliding Window (SW) Approach: The DTW approach suffers from a lim-\\nitation: it attempts to compute a global matching between all the frames of\\nthe two sequences, even in presence of partial overlapping (see Figure [IKa)).\\nHence, the alignment algorithm is integrated into a sliding window approach.\\nThe two sequences are iteratively slided one along the other and for each step\\nthe alignment between the overlapping subsegments is identified. The optimal\\niteration is selected by minimizing a matching cost ®vorm (Xiter, Yiter)\\n\\n® (Xiter, Yiter) /liter, where Xiter and Yiter are the overlapping subsegments and\\nliter is the length of the overlapping window at iteration iter. In order to de-\\ncrease the computational cost, the allowed overlap ranges from ns — Welast to\\nng, where ng is the length of the shortest sequence.\\n\\nRegularization Cost (RC): In the classical version of DTW [8], an arbitrary\\nband constraint is employed to guide the warping path by limiting its acceptable\\ndomain to a band around the diagonal of the dissimilarity matrix d. In this pa-\\nper, a regularization term, described by a continuous formulation, is introduced\\nto favor warping paths closer to the diagonal. Such improvement automatically\\npenalizes an excessive and non-physiological compression/expansion of the two\\nsequences. In the DTW+5W framework, the dissimilarity measure d(i, j) is com-\\nputed as: d(i,j) = dg(i,j) + wr: dr(i,j), where dr(i,j) — j| is the reg-\\nularization cost (see Figure 2(d)) and we represents the penalization weight.\\nThe regularization is aimed to reduce the alignment error when the profiles are\\n\\naffected by noise corruption, as shown in Figure B{a)-(c).\\n\\nPtbock {ote rare rarer)\\n\\nrout ont egition cn ont rion cost\\n\\nee 8 &\\n\\nPutts 2st tame rambo\\n\\nanton ee ee\\nTe (ged tame abet) Time ged tame surbe)\\n\\nTime ged tame surbe)\\n\\n@) () ©) (a)\\n\\nFig. 2. Example of alignment of noise-corrupted signals. In (b) incorrect alignment\\nby classical DTW, in (c) correct alignment by applying RC, in (d) regularization cost\\nmatrix dr, where the red arrows indicate the penalization increase. In (a), (b), (c), blue\\nlines represent the signals and red lines represent correspondences between frames.\\n\\n3 Experimental Results\\n\\nOur dataset consists of 26 in-vivo TVUS sequences from human coronary arteries.\\nThe acquisitions have been performed both preoperatively and after interven-\\ntion (stent deployment, post dilation), by using an iLab IVUS Imaging Syste:\\n(Boston Scientific). The performance of DTW is fairly compared with two other\\n\\n'"
      ]
     },
     "execution_count": 31,
     "metadata": {},
     "output_type": "execute_result"
    }
   ],
   "source": [
    "save_articles(page_number_list) #technically worked - can open them on my computer fine, but not on jupyter.. odd!"
   ]
  },
  {
   "cell_type": "markdown",
   "id": "0cb30d76",
   "metadata": {},
   "source": [
    "Nope, something is wrong. either I missed something or something from Dad is gibberish - probably me though!\n",
    "\n",
    "\n",
    "\n"
   ]
  },
  {
   "cell_type": "code",
   "execution_count": 33,
   "id": "0b575730",
   "metadata": {},
   "outputs": [],
   "source": [
    "df_2021 = pd.read_csv(r\"C:\\Users\\chris\\Desktop\\Value-Analysis-Thesis\\mining test\\miccai_2021_first_wave.csv\")\n",
    "\n",
    "title_list = df_2021[\"Title\"]\n",
    "\n",
    "title_list = title_list.to_list()"
   ]
  },
  {
   "cell_type": "code",
   "execution_count": 34,
   "id": "bac48938",
   "metadata": {},
   "outputs": [],
   "source": [
    "def save_articles_from_big_file(place, title_list):\n",
    "    part = open(place)\n",
    "    for i in range(len(title_list)):\n",
    "        article = part.read()\n",
    "        article = article[article.find(title_list[i]):article.find(title_list[i+1])] \n",
    "        #should find from one title to the next \n",
    "        \n",
    "        with open('2021_'+str(i)+'.txt', 'w') as f:\n",
    "            f.write(article)\n",
    "        i = i+1\n",
    "    \n",
    "    return article"
   ]
  },
  {
   "cell_type": "code",
   "execution_count": 35,
   "id": "cd9d3891",
   "metadata": {},
   "outputs": [],
   "source": [
    "#need to test if above works at all. But later. Have no clue what I am doing!"
   ]
  },
  {
   "cell_type": "code",
   "execution_count": null,
   "id": "0f7c2aa6",
   "metadata": {},
   "outputs": [],
   "source": []
  }
 ],
 "metadata": {
  "kernelspec": {
   "display_name": "Python 3 (ipykernel)",
   "language": "python",
   "name": "python3"
  },
  "language_info": {
   "codemirror_mode": {
    "name": "ipython",
    "version": 3
   },
   "file_extension": ".py",
   "mimetype": "text/x-python",
   "name": "python",
   "nbconvert_exporter": "python",
   "pygments_lexer": "ipython3",
   "version": "3.9.7"
  }
 },
 "nbformat": 4,
 "nbformat_minor": 5
}
