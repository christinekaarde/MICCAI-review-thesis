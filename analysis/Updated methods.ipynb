{
 "cells": [
  {
   "cell_type": "code",
   "execution_count": 146,
   "id": "3549e80a",
   "metadata": {},
   "outputs": [],
   "source": [
    "import pandas as pd\n",
    "import re"
   ]
  },
  {
   "cell_type": "code",
   "execution_count": 3,
   "id": "7ec11211",
   "metadata": {},
   "outputs": [],
   "source": [
    "#reading in files\n",
    "df_2012 = pd.read_csv(r'C:\\Users\\chris\\Desktop\\Value-Analysis-Thesis\\mining inital data\\database_miccai_2012.csv')\n",
    "df_2021 = pd.read_csv(r'C:\\Users\\chris\\Desktop\\Value-Analysis-Thesis\\mining inital data\\database_miccai_2021.csv')"
   ]
  },
  {
   "cell_type": "code",
   "execution_count": 4,
   "id": "7b861175",
   "metadata": {},
   "outputs": [],
   "source": [
    "#removing unnecessary index column\n",
    "df_2012 = df_2012.drop(\"Unnamed: 0\", axis = 1)\n",
    "df_2021 = df_2021.drop(\"Unnamed: 0\", axis = 1)"
   ]
  },
  {
   "cell_type": "code",
   "execution_count": 5,
   "id": "52099382",
   "metadata": {},
   "outputs": [],
   "source": [
    "#first I create a dictionary of the words in the string\n",
    "#having it as a separate method means only running it once\n",
    "def create_string_dic(string):\n",
    "    list_of_words = string.split(\" \")\n",
    "    string_dictionary = {}\n",
    "    for word in list_of_words:\n",
    "        word = word.lower() #making all words lower case\n",
    "        if word in string_dictionary: #will return true if word already is assigned a value\n",
    "            string_dictionary[word] = string_dictionary.get(word) + 1\n",
    "        else:\n",
    "            string_dictionary[word] = 1\n",
    "    return string_dictionary"
   ]
  },
  {
   "cell_type": "code",
   "execution_count": 6,
   "id": "fec3698d",
   "metadata": {},
   "outputs": [],
   "source": [
    "def check_for_keywords(string_dic, keywords_dic):\n",
    "    running_counter = 0\n",
    "    for word in keywords_dic.keys():\n",
    "        if word in string_dic: #will add value if it exists, otherwise will give the keyword a 0\n",
    "            keywords_dic.get(word).append(string_dic.get(word))\n",
    "            running_counter += string_dic.get(word)\n",
    "        else:\n",
    "            keywords_dic.get(word).append(0)\n",
    "        if 'category' in word: #the last keyword is the category which should\n",
    "            #correspond to the running counter instead of 0 (as I am reasonably sure the word 'category: keyword_category')\n",
    "            #does not occur in the strings I am searching\n",
    "            keywords_dic.get(word)[-1] = (running_counter)\n",
    "    \n",
    "    return keywords_dic"
   ]
  },
  {
   "cell_type": "code",
   "execution_count": 7,
   "id": "f42c1b1d",
   "metadata": {},
   "outputs": [],
   "source": [
    "#finding the abstracts\n",
    "def find_abstract(year, place):\n",
    "    abstract_list = []\n",
    "    with open(place, \"r\", encoding = 'utf-8') as part:\n",
    "        article = part.read()           \n",
    "        abstracts = [i.start() for i in re.finditer(\"Abstract\", article)]\n",
    "        for index in abstracts: \n",
    "            if year == 2012 and article[index+8] != \"s\": #removing the \"Abstracts\", aka the references in 2012\n",
    "                abstract_list.append(article[index:index+2000])\n",
    "            elif year == 2021 and article[index+9] != \"T\": #removing the references in 2021 (\"abstract track\")\n",
    "                abstract_list.append(article[index:index+2000])\n",
    "    return abstract_list\n"
   ]
  },
  {
   "cell_type": "code",
   "execution_count": 8,
   "id": "9cf78249",
   "metadata": {},
   "outputs": [],
   "source": [
    "#saving the abstracts\n",
    "abstract_list2012 = find_abstract(2012, r\"C:\\Users\\chris\\Desktop\\Value-Analysis-Thesis\\combining proceedings txt\\miccai_2012_full_txt.txt\")\n",
    "abstract_list2021 = find_abstract(2021, r\"C:\\Users\\chris\\Desktop\\Value-Analysis-Thesis\\combining proceedings txt\\miccai_2021_full_txt.txt\")"
   ]
  },
  {
   "cell_type": "code",
   "execution_count": 9,
   "id": "b9d9fa68",
   "metadata": {},
   "outputs": [],
   "source": [
    "#getting the titles to combine with abstracts\n",
    "list_of_dic2012 = []\n",
    "titles2012 = df_2012['Title'].to_list()\n",
    "\n",
    "    \n",
    "list_of_dic2021 = []\n",
    "titles2021 = df_2021['Title'].to_list()\n"
   ]
  },
  {
   "cell_type": "code",
   "execution_count": 10,
   "id": "68428545",
   "metadata": {},
   "outputs": [],
   "source": [
    "#combining title and abstract\n",
    "for index in range(len(titles2012)):\n",
    "    titles2012[index] = titles2012[index] + \" \" + abstract_list2012[index]\n",
    "\n",
    "for index in range(len(titles2021)):\n",
    "    titles2021[index] = titles2021[index] + \" \" + abstract_list2021[index] "
   ]
  },
  {
   "cell_type": "code",
   "execution_count": 11,
   "id": "f858cd2c",
   "metadata": {},
   "outputs": [],
   "source": [
    "#creating dictionary of strings to search through - only run once(technically)\n",
    "for title in titles2012:\n",
    "    list_of_dic2012.append(create_string_dic(title))\n",
    "    \n",
    "for title in titles2021:\n",
    "    list_of_dic2021.append(create_string_dic(title))"
   ]
  },
  {
   "cell_type": "code",
   "execution_count": 12,
   "id": "8f580725",
   "metadata": {},
   "outputs": [],
   "source": [
    "#initialising the keyword dictionary and searching the strings for the given key words\n",
    "#creating a dataframe where each column is a keyword and the value is the number of occurences of that word \n",
    "#each row corresponds to the index of the article\n",
    "def generate_keyword_search_df(keywords, list_of_dic):\n",
    "    initial_keywords_dic = {key:[] for key in keywords}\n",
    "    for index in range(len(list_of_dic)):\n",
    "        keyword_dic = (check_for_keywords(list_of_dic[index], initial_keywords_dic))\n",
    "    df = pd.DataFrame(keyword_dic) \n",
    "    return df"
   ]
  },
  {
   "cell_type": "code",
   "execution_count": 17,
   "id": "13372ab2",
   "metadata": {},
   "outputs": [],
   "source": [
    "#reading in the keywords file and creating the list of lowercase words to check for\n",
    "def reading_keywords(place):\n",
    "    with open(place, \"r\", encoding = 'utf-8') as part:\n",
    "        string = part.read()\n",
    "        string = string.lower()\n",
    "        keywords = string.split('\\n') \n",
    "    return keywords"
   ]
  },
  {
   "cell_type": "code",
   "execution_count": 31,
   "id": "9b7fca27",
   "metadata": {},
   "outputs": [],
   "source": [
    "#calling the method above\n",
    "df_2012_keywords = generate_keyword_search_df(reading_keywords('other keywords'), list_of_dic2012)\n",
    "#df_2021_keywords = generate_keyword_search_df(keywords, list_of_dic2021)"
   ]
  },
  {
   "cell_type": "code",
   "execution_count": 110,
   "id": "fca3e009",
   "metadata": {},
   "outputs": [],
   "source": [
    "def check_rules(df, rules_file):\n",
    "    category = 'category: ' + rules_file[:len(rules_file)-6]\n",
    "    with open(rules_file, \"r\", encoding = 'utf-8') as part:\n",
    "        string = part.read()\n",
    "        string = string.lower()\n",
    "        rules = string.split('\\n') \n",
    "        \n",
    "        for rule in rules:\n",
    "            elements = rule.split(' + ')\n",
    "\n",
    "        for index in range(len(df)):\n",
    "            if df.loc[index, elements[0]] > 0 and df.loc[index, elements[1]] > 0:\n",
    "                df.loc[index, category] +=1\n",
    "  \n",
    "    return df[category]"
   ]
  },
  {
   "cell_type": "code",
   "execution_count": 119,
   "id": "dffb692b",
   "metadata": {},
   "outputs": [],
   "source": [
    "keywords_list=['other keywords', 'classification keywords', 'segmentation keywords']\n",
    "rules_list = ['other rules', 'classification rules', 'segmentation rules']\n",
    "\n",
    "index = 0     \n",
    "categoryA = check_rules(generate_keyword_search_df(reading_keywords(keywords_list[index]), list_of_dic2012), rules_list[index])\n",
    "categoryB = check_rules(generate_keyword_search_df(reading_keywords(keywords_list[index+1]), list_of_dic2012), rules_list[index+1])\n",
    "df = pd.merge(categoryA, categoryB, right_index = True, left_index = True)\n",
    "categoryC = check_rules(generate_keyword_search_df(reading_keywords(keywords_list[index+2]), list_of_dic2012), rules_list[index+2])\n",
    "df2012 = df.join(categoryC)"
   ]
  },
  {
   "cell_type": "code",
   "execution_count": 138,
   "id": "f423e9ca",
   "metadata": {},
   "outputs": [
    {
     "data": {
      "text/plain": [
       "0      category: classification\n",
       "1        category: segmentation\n",
       "2      category: classification\n",
       "3      category: classification\n",
       "4      category: classification\n",
       "                 ...           \n",
       "247    category: classification\n",
       "248    category: classification\n",
       "249      category: segmentation\n",
       "250      category: segmentation\n",
       "251             category: other\n",
       "Name: category, Length: 252, dtype: object"
      ]
     },
     "execution_count": 138,
     "metadata": {},
     "output_type": "execute_result"
    }
   ],
   "source": [
    "category = df2012.idxmax(axis = 1)\n",
    "category.name = 'category'\n",
    "category"
   ]
  },
  {
   "cell_type": "code",
   "execution_count": 139,
   "id": "bba83d0f",
   "metadata": {},
   "outputs": [],
   "source": [
    "df= df2012.join(category)"
   ]
  },
  {
   "cell_type": "code",
   "execution_count": 145,
   "id": "092a404e",
   "metadata": {},
   "outputs": [
    {
     "data": {
      "text/plain": [
       "117"
      ]
     },
     "execution_count": 145,
     "metadata": {},
     "output_type": "execute_result"
    }
   ],
   "source": [
    "len(df[df['category'] == 'category: classification'])"
   ]
  },
  {
   "cell_type": "code",
   "execution_count": null,
   "id": "e75720a2",
   "metadata": {},
   "outputs": [],
   "source": []
  }
 ],
 "metadata": {
  "kernelspec": {
   "display_name": "Python 3 (ipykernel)",
   "language": "python",
   "name": "python3"
  },
  "language_info": {
   "codemirror_mode": {
    "name": "ipython",
    "version": 3
   },
   "file_extension": ".py",
   "mimetype": "text/x-python",
   "name": "python",
   "nbconvert_exporter": "python",
   "pygments_lexer": "ipython3",
   "version": "3.9.7"
  }
 },
 "nbformat": 4,
 "nbformat_minor": 5
}
