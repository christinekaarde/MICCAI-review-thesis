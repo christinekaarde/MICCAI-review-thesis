{
 "cells": [
  {
   "cell_type": "code",
   "execution_count": 7,
   "id": "a6b82252",
   "metadata": {},
   "outputs": [],
   "source": [
    "import pandas as pd\n",
    "import re"
   ]
  },
  {
   "cell_type": "code",
   "execution_count": 8,
   "id": "0ce87075",
   "metadata": {},
   "outputs": [],
   "source": [
    "#reading in files (have saved a version without the title analysis added (hopefully))\n",
    "df_2012 = pd.read_csv(r'C:\\Users\\chris\\Desktop\\Value-Analysis-Thesis\\analysis\\database_miccai_2012_first_wave.csv')\n",
    "df_2021 = pd.read_csv(r'C:\\Users\\chris\\Desktop\\Value-Analysis-Thesis\\analysis\\database_miccai_2021_first_wave.csv')"
   ]
  },
  {
   "cell_type": "code",
   "execution_count": 10,
   "id": "0303b97e",
   "metadata": {},
   "outputs": [],
   "source": [
    "#removing unnecessary index column\n",
    "df_2012 = df_2012.drop(\"Unnamed: 0\", axis = 1)\n",
    "df_2021 = df_2021.drop(\"Unnamed: 0\", axis = 1)"
   ]
  },
  {
   "cell_type": "code",
   "execution_count": 46,
   "id": "ed532c7c",
   "metadata": {},
   "outputs": [],
   "source": [
    "#first I create a dictionary of the words in the string\n",
    "#having it as a separate method means only running it once\n",
    "def create_string_dic(string):\n",
    "    list_of_words = string.split(\" \")\n",
    "    string_dictionary = {}\n",
    "    for word in list_of_words:\n",
    "        word = word.lower() #making all words lower case\n",
    "        if word in string_dictionary: #will return true if word already is assigned a value\n",
    "            string_dictionary[word] = string_dictionary.get(word) + 1\n",
    "        else:\n",
    "            string_dictionary[word] = 1\n",
    "    return string_dictionary"
   ]
  },
  {
   "cell_type": "code",
   "execution_count": 123,
   "id": "7e9393c5",
   "metadata": {},
   "outputs": [],
   "source": [
    "def check_for_keywords(string_dic, keywords_dic):\n",
    "    for word in keywords_dic.keys():\n",
    "        if word in string_dic: #will add value if it exists, otherwise will give the keyword a 0\n",
    "            keywords_dic.get(word).append(string_dic.get(word))\n",
    "        else:\n",
    "            keywords_dic.get(word).append(0)\n",
    "         \n",
    "    return keywords_dic"
   ]
  },
  {
   "cell_type": "code",
   "execution_count": 136,
   "id": "f388638d",
   "metadata": {},
   "outputs": [],
   "source": [
    "#finding the abstracts\n",
    "def find_abstract(year, place):\n",
    "    abstract_list = []\n",
    "    with open(place, \"r\", encoding = 'utf-8') as part:\n",
    "        article = part.read()           \n",
    "        abstracts = [i.start() for i in re.finditer(\"Abstract\", article)]\n",
    "        for index in abstracts: \n",
    "            if year == 2012 and article[index+8] != \"s\": #removing the \"Abstracts\", aka the references in 2012\n",
    "                abstract_list.append(article[index:index+2000])\n",
    "            elif year == 2021 and article[index+9] != \"T\": #removing the references in 2021 (\"abstract track\")\n",
    "                abstract_list.append(article[index:index+2000])\n",
    "    return abstract_list\n"
   ]
  },
  {
   "cell_type": "code",
   "execution_count": 137,
   "id": "d7e04c49",
   "metadata": {},
   "outputs": [],
   "source": [
    "#saving the abstracts\n",
    "abstract_list2012 = find_abstract(2012, r\"C:\\Users\\chris\\Desktop\\Value-Analysis-Thesis\\combining proceedings txt\\miccai_2012_full_txt.txt\")\n",
    "abstract_list2021 = find_abstract(2021, r\"C:\\Users\\chris\\Desktop\\Value-Analysis-Thesis\\combining proceedings txt\\miccai_2021_full_txt.txt\")"
   ]
  },
  {
   "cell_type": "code",
   "execution_count": null,
   "id": "dcc3e02b",
   "metadata": {},
   "outputs": [],
   "source": [
    "#getting the titles to combine with abstracts\n",
    "list_of_dic2012 = []\n",
    "titles2012 = df_2012['Title'].to_list()\n",
    "\n",
    "    \n",
    "list_of_dic2021 = []\n",
    "titles2021 = df_2021['Title'].to_list()\n"
   ]
  },
  {
   "cell_type": "code",
   "execution_count": 155,
   "id": "45562019",
   "metadata": {},
   "outputs": [],
   "source": [
    "#combining title and abstract\n",
    "for index in range(len(titles2012)):\n",
    "    titles2012[index] = titles2012[index] + \" \" + abstract_list2012[index]\n",
    "\n",
    "for index in range(len(titles2021)):\n",
    "    titles2021[index] = titles2021[index] + \" \" + abstract_list2021[index] "
   ]
  },
  {
   "cell_type": "code",
   "execution_count": 157,
   "id": "98b599b5",
   "metadata": {},
   "outputs": [],
   "source": [
    "#creating dictionary of strings to search through - only run once(technically)\n",
    "for title in titles2012:\n",
    "    list_of_dic2012.append(create_string_dic(title))\n",
    "    \n",
    "for title in titles2021:\n",
    "    list_of_dic2021.append(create_string_dic(title))"
   ]
  },
  {
   "cell_type": "code",
   "execution_count": 169,
   "id": "effabb9e",
   "metadata": {},
   "outputs": [],
   "source": [
    "#initialising the keyword dictionary and searching the strings for the given key words\n",
    "#creating a dataframe where each column is a keyword and the value is the number of occurences of that word \n",
    "#each row corresponds to the index of the article\n",
    "def generate_keyword_search_df(keywords, list_of_dic):\n",
    "    initial_keywords_dic = {key:[] for key in keywords}\n",
    "    for index in range(len(list_of_dic)):\n",
    "        keyword_dic = (check_for_keywords(list_of_dic[index], initial_keywords_dic))   \n",
    "    df = pd.DataFrame(keyword_dic) \n",
    "    return df"
   ]
  },
  {
   "cell_type": "code",
   "execution_count": 173,
   "id": "d888320b",
   "metadata": {},
   "outputs": [],
   "source": [
    "#calling the method above\n",
    "keywords = ['classification', 'prediction', 'detection', 'segmentation']\n",
    "df_2012_keywords = generate_keyword_search_df(keywords, list_of_dic2012)\n",
    "df_2021_keywords = generate_keyword_search_df(keywords, list_of_dic2021)"
   ]
  },
  {
   "cell_type": "code",
   "execution_count": null,
   "id": "ece29174",
   "metadata": {},
   "outputs": [],
   "source": []
  }
 ],
 "metadata": {
  "kernelspec": {
   "display_name": "Python 3 (ipykernel)",
   "language": "python",
   "name": "python3"
  },
  "language_info": {
   "codemirror_mode": {
    "name": "ipython",
    "version": 3
   },
   "file_extension": ".py",
   "mimetype": "text/x-python",
   "name": "python",
   "nbconvert_exporter": "python",
   "pygments_lexer": "ipython3",
   "version": "3.9.7"
  }
 },
 "nbformat": 4,
 "nbformat_minor": 5
}
