{
 "cells": [
  {
   "cell_type": "code",
   "execution_count": 77,
   "id": "76ac9260",
   "metadata": {},
   "outputs": [],
   "source": [
    "import re\n",
    "import pandas as pd"
   ]
  },
  {
   "cell_type": "code",
   "execution_count": 78,
   "id": "16b796ca",
   "metadata": {},
   "outputs": [],
   "source": [
    "def find_abstract(year, place):\n",
    "        abstract_check = []\n",
    "        abstract_indicator = []\n",
    "        abstract_list = []\n",
    "        with open(place, \"r\", encoding = 'utf-8') as part:\n",
    "            article = part.read()           \n",
    "            abstracts = [i.start() for i in re.finditer(\"Abstract\", article)]\n",
    "            for index in abstracts:\n",
    "                abstract_check.append(article[index-500:index])#used to find and weed out wrong hits\n",
    "                if year == 2012 and article[index+8] != \"s\": #removing the \"Abstracts\", aka the references in 2012\n",
    "                    abstract_list.append(article[index:index+2000])\n",
    "                    if article[index:index+2000].find(\"classification\") > 0 or article[index:index+2000].find(\"prediction\") > 0 or article[index:index+2000].find(\"detection\") > 0:\n",
    "    \n",
    "                        abstract_indicator.append(1)\n",
    "                    else:\n",
    "                        abstract_indicator.append(0)\n",
    "                \n",
    "                elif year == 2021 and article[index+9] != \"T\": #removing the references in 2021 (\"abstract track\")\n",
    "                    abstract_list.append(article[index:index+2000])\n",
    "                    if article[index:index+2000].find(\"classification\") > 0 or article[index:index+2000].find(\"prediction\") > 0 or article[index:index+2000].find(\"detection\") > 0:\n",
    "    \n",
    "                        abstract_indicator.append(1)\n",
    "                    else:\n",
    "                        abstract_indicator.append(0)          \n",
    "       \n",
    "            \n",
    "        return abstract_list, abstract_indicator, abstract_check"
   ]
  },
  {
   "cell_type": "code",
   "execution_count": 79,
   "id": "be6bfa92",
   "metadata": {},
   "outputs": [],
   "source": [
    "abstract_list2012, abstract_indicator2012, abstract_check2012 = find_abstract(2012, r\"C:\\Users\\chris\\Desktop\\Value-Analysis-Thesis\\combining proceedings txt\\miccai_2012_all_parts.txt\")\n",
    "#abstract_list2021, abstract_indicator2021, abstract_check2021 = find_abstract(2021, r\"C:\\Users\\chris\\Desktop\\Value-Analysis-Thesis\\combining proceedings txt\\miccai_2021_all_parts.txt\")\n"
   ]
  },
  {
   "cell_type": "code",
   "execution_count": 83,
   "id": "c4a9119d",
   "metadata": {},
   "outputs": [
    {
     "name": "stdout",
     "output_type": "stream",
     "text": [
      "9\n"
     ]
    }
   ],
   "source": [
    "print(len(abstract_list2021)-532)\n",
    "#should only be 531, but found 536 papers in the database (4 corrections that have been removed and one as of yet unknown)\n",
    "#am finding 541 here, so am finding 9 more instances here than my scraping of the html... HMM!\n",
    "#and by looking at the abstract_check can't seem to find anything that immediately stands out. Annoying!"
   ]
  },
  {
   "cell_type": "markdown",
   "id": "42b46752",
   "metadata": {},
   "source": [
    "Code to add abstract scanning results to df and save to new csv"
   ]
  },
  {
   "cell_type": "code",
   "execution_count": 80,
   "id": "2c435d78",
   "metadata": {},
   "outputs": [],
   "source": [
    "#reading in df\n",
    "df_2012 = pd.read_csv('miccai_2012_first_wave.csv')\n",
    "#df_2021 = pd.read_csv('miccai_2021_first_wave.csv')"
   ]
  },
  {
   "cell_type": "code",
   "execution_count": 81,
   "id": "c3c7c5e1",
   "metadata": {},
   "outputs": [],
   "source": [
    "#adding new columns\n",
    "df_2012['Abstract scanned'] = abstract_indicator2012\n",
    "#df_2021['Abstract scanned'] = abstract_indicator2021"
   ]
  },
  {
   "cell_type": "code",
   "execution_count": 82,
   "id": "91312332",
   "metadata": {},
   "outputs": [],
   "source": [
    "#saving to csv\n",
    "df_2012.to_csv(\"miccai_2012_second_wave.csv\")\n",
    "#df_2021.to_csv(\"miccai_2021_second_wave.csv\")"
   ]
  }
 ],
 "metadata": {
  "kernelspec": {
   "display_name": "Python 3 (ipykernel)",
   "language": "python",
   "name": "python3"
  },
  "language_info": {
   "codemirror_mode": {
    "name": "ipython",
    "version": 3
   },
   "file_extension": ".py",
   "mimetype": "text/x-python",
   "name": "python",
   "nbconvert_exporter": "python",
   "pygments_lexer": "ipython3",
   "version": "3.9.7"
  }
 },
 "nbformat": 4,
 "nbformat_minor": 5
}
