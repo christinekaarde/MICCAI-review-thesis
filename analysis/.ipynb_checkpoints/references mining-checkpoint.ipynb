{
 "cells": [
  {
   "cell_type": "code",
   "execution_count": 180,
   "id": "79094c33",
   "metadata": {},
   "outputs": [],
   "source": [
    "import pandas as pd\n",
    "import re"
   ]
  },
  {
   "cell_type": "code",
   "execution_count": 232,
   "id": "e856935a",
   "metadata": {},
   "outputs": [],
   "source": [
    "#reading in files\n",
    "df_2012 = pd.read_csv('database_miccai_2012_with_cat.csv')\n",
    "df_2021 = pd.read_csv('database_miccai_2021_with_cat.csv')"
   ]
  },
  {
   "cell_type": "code",
   "execution_count": 233,
   "id": "dd702304",
   "metadata": {},
   "outputs": [],
   "source": [
    "#removing unnecessary index column\n",
    "df_2012 = df_2012.drop(\"Unnamed: 0\", axis = 1)\n",
    "df_2021 = df_2021.drop(\"Unnamed: 0\", axis = 1)"
   ]
  },
  {
   "cell_type": "code",
   "execution_count": 183,
   "id": "8ae954f1",
   "metadata": {},
   "outputs": [],
   "source": [
    "#finding the references\n",
    "def find_reference(year, place):\n",
    "    reference_list = []\n",
    "    with open(place, \"r\", encoding = 'utf-8') as part:\n",
    "        article = part.read()\n",
    "        if year == 2012:\n",
    "            references = [i.start() for i in re.finditer(\"References\\n\\n1\", article)]\n",
    "            other_ref = [i.start() for i in re.finditer(\"References\\n\\n\\[1\\]\", article)]\n",
    "            all_ref = references + other_ref\n",
    "            all_ref.sort()\n",
    "            \n",
    "        if year == 2021:\n",
    "            all_ref = [i.start() for i in re.finditer(\"References\", article)]\n",
    "        for index in all_ref: \n",
    "            reference_list.append(article[index:index+8000])\n",
    "\n",
    "    return reference_list\n"
   ]
  },
  {
   "cell_type": "code",
   "execution_count": 234,
   "id": "519a18f5",
   "metadata": {},
   "outputs": [],
   "source": [
    "#saving the references\n",
    "ref_list2012 = find_reference(2012, r\"C:\\Users\\chris\\Desktop\\Value-Analysis-Thesis\\combining proceedings txt\\miccai_2012_full_txt.txt\")\n",
    "ref_list2021 = find_reference(2021, r\"C:\\Users\\chris\\Desktop\\Value-Analysis-Thesis\\combining proceedings txt\\miccai_2021_full_txt.txt\")"
   ]
  },
  {
   "cell_type": "code",
   "execution_count": 185,
   "id": "82f14085",
   "metadata": {
    "scrolled": false
   },
   "outputs": [],
   "source": [
    "def create_ref_dic(ref_list):\n",
    "    year={}\n",
    "    i=0\n",
    "    for element in ref_list:\n",
    "        year[i] = []\n",
    "        references = [i.start() for i in re.finditer(\"\\([0-9][0-9][0-9][0-9]\\)\", element)]\n",
    "        for index in references:\n",
    "            num = element[index+1:index+5]\n",
    "            if int(num) < 2023: #eliminating some mistakes with numbers that are clearly not years\n",
    "                year.get(i).append(num)\n",
    "        i+=1\n",
    "    return year\n"
   ]
  },
  {
   "cell_type": "code",
   "execution_count": 235,
   "id": "46bd6d68",
   "metadata": {},
   "outputs": [],
   "source": [
    "def add_references(df, ref_list_all):\n",
    "    \n",
    "    row_list = df[df['category'] == 'category: classification'].index\n",
    "    df_class = df[df['category'] == 'category: classification']\n",
    "    \n",
    "    ref_dic = create_ref_dic(ref_list_all)\n",
    "    \n",
    "    oldest_list = []\n",
    "    newest_list = []\n",
    "    range_list = []\n",
    "    class_dic = {}\n",
    "\n",
    "    for element in row_list:\n",
    "        ref_dic.get(element).sort()\n",
    "        class_dic[element] = ref_dic.get(element) #need this otherwise the sort is forgotten\n",
    "        ref_list = class_dic.get(element)\n",
    "        oldest_list.append(int(ref_list[0]))\n",
    "        newest_list.append(int(ref_list[len(ref_list)-1]))\n",
    "        range_list.append(int(ref_list[len(ref_list)-1])- int(ref_list[0]))\n",
    "   \n",
    "    \n",
    "    oldest = pd.Series(oldest_list)\n",
    "    oldest.name = 'Oldest reference'\n",
    "\n",
    "    newest = pd.Series(newest_list)\n",
    "    newest.name = 'Newest reference'\n",
    "\n",
    "    ran = pd.Series(range_list)\n",
    "    ran.name = 'Range of references'\n",
    "    \n",
    "    df_class.join(oldest)\n",
    "    df_class.join(newest)\n",
    "    df_class.join(ran)\n",
    "    \n",
    "\n",
    "    return df_class\n",
    "\n",
    "    "
   ]
  },
  {
   "cell_type": "code",
   "execution_count": 236,
   "id": "2178cdc3",
   "metadata": {},
   "outputs": [
    {
     "name": "stdout",
     "output_type": "stream",
     "text": [
      "91\n",
      "294\n"
     ]
    }
   ],
   "source": [
    "df_2012class = add_references(df_2012, ref_list2012)\n",
    "df_2021class = add_references(df_2021, ref_list2021)"
   ]
  },
  {
   "cell_type": "code",
   "execution_count": 240,
   "id": "334d13cc",
   "metadata": {},
   "outputs": [],
   "source": [
    "#saving updated database to csv\n",
    "df_2012class.to_csv(\"database_miccai_2012_with_ref.csv\")\n",
    "df_2021class.to_csv(\"database_miccai_2021_with_ref.csv\")"
   ]
  },
  {
   "cell_type": "code",
   "execution_count": null,
   "id": "8a82f689",
   "metadata": {},
   "outputs": [],
   "source": []
  }
 ],
 "metadata": {
  "kernelspec": {
   "display_name": "Python 3 (ipykernel)",
   "language": "python",
   "name": "python3"
  },
  "language_info": {
   "codemirror_mode": {
    "name": "ipython",
    "version": 3
   },
   "file_extension": ".py",
   "mimetype": "text/x-python",
   "name": "python",
   "nbconvert_exporter": "python",
   "pygments_lexer": "ipython3",
   "version": "3.9.7"
  }
 },
 "nbformat": 4,
 "nbformat_minor": 5
}
