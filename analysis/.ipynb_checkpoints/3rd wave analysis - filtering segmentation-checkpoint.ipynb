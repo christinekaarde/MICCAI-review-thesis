{
 "cells": [
  {
   "cell_type": "code",
   "execution_count": 76,
   "id": "a80c8013",
   "metadata": {},
   "outputs": [],
   "source": [
    "import pandas as pd\n",
    "import re"
   ]
  },
  {
   "cell_type": "code",
   "execution_count": 77,
   "id": "1d52df32",
   "metadata": {},
   "outputs": [],
   "source": [
    "#reading in df\n",
    "df_2012 = pd.read_csv('database_miccai_2012_second_wave.csv')\n",
    "df_2021 = pd.read_csv('database_miccai_2021_second_wave.csv')"
   ]
  },
  {
   "cell_type": "code",
   "execution_count": 78,
   "id": "e915f0e6",
   "metadata": {},
   "outputs": [],
   "source": [
    "def segmentation_in_abstract(year, place):\n",
    "\n",
    "        seg_indicator = []\n",
    "        seg_list = []\n",
    "        with open(place, \"r\", encoding = 'utf-8') as part:\n",
    "            article = part.read()           \n",
    "            abstracts = [i.start() for i in re.finditer(\"Abstract\", article)]\n",
    "            for index in abstracts:\n",
    "                \n",
    "                if year == 2012 and article[index+8] != \"s\": #removing the \"Abstracts\", aka the references in 2012\n",
    "                    seg_list.append(article[index:index+2000])\n",
    "                    if article[index:index+2000].find(\"segmentation\") > 0 or article[index:index+2000].find(\"segment\") > 0:\n",
    "                        seg_indicator.append(1)\n",
    "                    else:\n",
    "                        seg_indicator.append(0)\n",
    "                        \n",
    "                elif year == 2021 and article[index+9] != \"T\": #removing the references in 2021 (\"abstract track\")\n",
    "                    seg_list.append(article[index:index+2000])\n",
    "                    if article[index:index+2000].find(\"segmentation\") > 0 or article[index:index+2000].find(\"segment\") > 0:\n",
    "                        seg_indicator.append(1)\n",
    "                    else:\n",
    "                        seg_indicator.append(0)\n",
    "            \n",
    "        return seg_list, seg_indicator"
   ]
  },
  {
   "cell_type": "code",
   "execution_count": 79,
   "id": "72bb8a13",
   "metadata": {},
   "outputs": [],
   "source": [
    "seg_list2012, seg_indicator2012= segmentation_in_abstract(2012, r\"C:\\Users\\chris\\Desktop\\Value-Analysis-Thesis\\combining proceedings txt\\miccai_2012_full_txt.txt\")\n",
    "seg_list2021, seg_indicator2021 = segmentation_in_abstract(2021, r\"C:\\Users\\chris\\Desktop\\Value-Analysis-Thesis\\combining proceedings txt\\miccai_2021_full_txt.txt\")"
   ]
  },
  {
   "cell_type": "code",
   "execution_count": 80,
   "id": "07a9b9f9",
   "metadata": {},
   "outputs": [],
   "source": [
    "df_2012['Segmentation in abstract'] = seg_indicator2012\n",
    "df_2021['Segmentation in abstract'] = seg_indicator2021"
   ]
  },
  {
   "cell_type": "code",
   "execution_count": 81,
   "id": "af7dd37c",
   "metadata": {},
   "outputs": [],
   "source": [
    "def segmentation_article(df):\n",
    "    seg_list = []\n",
    "    for i in range(len(df)):\n",
    "        if 'Segmentation' in df.loc[i,'Title'] and df.loc[i, 'Segmentation in abstract'] == 1:\n",
    "            seg_list.append(1)\n",
    "        else:\n",
    "            seg_list.append(0)\n",
    "    df['Segmentation article'] = seg_list\n",
    "    #df = df.drop('Segmentation in abstract', axis = 1)\n",
    "    return df"
   ]
  },
  {
   "cell_type": "code",
   "execution_count": 82,
   "id": "b89467cf",
   "metadata": {},
   "outputs": [],
   "source": [
    "df_2012 = segmentation_article(df_2012)\n",
    "df_2021 = segmentation_article(df_2021)"
   ]
  },
  {
   "cell_type": "code",
   "execution_count": 83,
   "id": "fad563e1",
   "metadata": {},
   "outputs": [],
   "source": [
    "#manually updated 2012\n",
    "df_2012.loc[228, \"Classification indicated\"] = 0"
   ]
  },
  {
   "cell_type": "code",
   "execution_count": null,
   "id": "5475d76e",
   "metadata": {},
   "outputs": [],
   "source": []
  }
 ],
 "metadata": {
  "kernelspec": {
   "display_name": "Python 3 (ipykernel)",
   "language": "python",
   "name": "python3"
  },
  "language_info": {
   "codemirror_mode": {
    "name": "ipython",
    "version": 3
   },
   "file_extension": ".py",
   "mimetype": "text/x-python",
   "name": "python",
   "nbconvert_exporter": "python",
   "pygments_lexer": "ipython3",
   "version": "3.9.7"
  }
 },
 "nbformat": 4,
 "nbformat_minor": 5
}
