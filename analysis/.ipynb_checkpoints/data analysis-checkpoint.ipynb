{
 "cells": [
  {
   "cell_type": "code",
   "execution_count": 3,
   "id": "a31e1ade",
   "metadata": {},
   "outputs": [],
   "source": [
    "import pandas as pd\n",
    "import matplotlib.pyplot as plt\n",
    "import numpy as np"
   ]
  },
  {
   "cell_type": "code",
   "execution_count": 4,
   "id": "a643561e",
   "metadata": {},
   "outputs": [],
   "source": [
    "#reading in file\n",
    "df = pd.read_csv('annotations_data.csv')"
   ]
  },
  {
   "cell_type": "code",
   "execution_count": 5,
   "id": "af5311ea",
   "metadata": {},
   "outputs": [],
   "source": [
    "def count_answers(word_list, column):\n",
    "#initialising the dictionary with the known answers\n",
    "    method_dic = {}\n",
    "    for word in word_list:\n",
    "        method_dic[word] = 0\n",
    "\n",
    "    for method in column:\n",
    "        options = method.split(\", \") #this also splits other answers with ,  \n",
    "        for option in options:\n",
    "            if option not in method_dic: #checks if it is a different answer\n",
    "                method_dic['Other'] = method_dic.get('Other')+1\n",
    "                break #ensures that even if the other answer has a , in it, it is only counted once\n",
    "            else: \n",
    "                method_dic[option] = method_dic.get(option)+1\n",
    "    return method_dic"
   ]
  },
  {
   "cell_type": "code",
   "execution_count": 6,
   "id": "a3fd66b4",
   "metadata": {},
   "outputs": [],
   "source": [
    "word_list = ['SVM', 'Graph analysis', 'Supervised learning', 'Unsupervised learning', 'Transfer learning', 'Neural network', 'Other']\n"
   ]
  },
  {
   "cell_type": "code",
   "execution_count": 7,
   "id": "d50e5b6e",
   "metadata": {},
   "outputs": [],
   "source": [
    "perf_list = ['AUC', 'Specificity', 'Accuracy', 'Recall', 'F1 score', 'Sensitivity', 'Other']\n"
   ]
  },
  {
   "cell_type": "code",
   "execution_count": 17,
   "id": "6c8f74aa",
   "metadata": {},
   "outputs": [],
   "source": [
    "def create_viz(df, word_list, column, plot_option, name, count_option, stacked_option):\n",
    "    #narrowing down the df to classification labelled accurately and splitting into 2012 and 2021\n",
    "    df_true = df[df['Is the article accurately labelled as classification?'] == 'Yes']\n",
    "    df_2012 = df_true[df_true['Which year is the article from?'] == 2012]\n",
    "    df_2021 = df_true[df_true['Which year is the article from?'] == 2021]\n",
    "    \n",
    "    #counting the answers \n",
    "    if count_option == 'multiple choice':\n",
    "        data = {'2012': count_answers(word_list, df_2012.iloc[:, column]),\n",
    "       '2021': count_answers(word_list, df_2021.iloc[:, column])}\n",
    "        df = pd.DataFrame.from_dict(data)\n",
    "\n",
    "    elif count_option == 'y/n':\n",
    "        data = {'2012': count_yes_no(df_2012, column),\n",
    "       '2021': count_yes_no(df_2021, column)}\n",
    "        \n",
    "        df = pd.DataFrame.from_dict(data)\n",
    "        row_names = {0:\"Yes\", 1:\"No\", 2:\"Don't know\"}\n",
    "        df.rename(index= row_names, inplace=True)\n",
    "    \n",
    "    \n",
    "    df.plot(kind = plot_option, title = name, stacked = stacked_option)\n",
    "    plt.savefig(name , bbox_inches='tight') #needs a little work, the axis labels are cut off\n",
    "    \n",
    "    \n",
    "    return df\n"
   ]
  },
  {
   "cell_type": "code",
   "execution_count": 27,
   "id": "d653ab23",
   "metadata": {},
   "outputs": [
    {
     "data": {
      "text/html": [
       "<div>\n",
       "<style scoped>\n",
       "    .dataframe tbody tr th:only-of-type {\n",
       "        vertical-align: middle;\n",
       "    }\n",
       "\n",
       "    .dataframe tbody tr th {\n",
       "        vertical-align: top;\n",
       "    }\n",
       "\n",
       "    .dataframe thead th {\n",
       "        text-align: right;\n",
       "    }\n",
       "</style>\n",
       "<table border=\"1\" class=\"dataframe\">\n",
       "  <thead>\n",
       "    <tr style=\"text-align: right;\">\n",
       "      <th></th>\n",
       "      <th>2012</th>\n",
       "      <th>2021</th>\n",
       "    </tr>\n",
       "  </thead>\n",
       "  <tbody>\n",
       "    <tr>\n",
       "      <th>Yes</th>\n",
       "      <td>5</td>\n",
       "      <td>7</td>\n",
       "    </tr>\n",
       "    <tr>\n",
       "      <th>No</th>\n",
       "      <td>4</td>\n",
       "      <td>2</td>\n",
       "    </tr>\n",
       "    <tr>\n",
       "      <th>Don't know</th>\n",
       "      <td>0</td>\n",
       "      <td>0</td>\n",
       "    </tr>\n",
       "  </tbody>\n",
       "</table>\n",
       "</div>"
      ],
      "text/plain": [
       "            2012  2021\n",
       "Yes            5     7\n",
       "No             4     2\n",
       "Don't know     0     0"
      ]
     },
     "execution_count": 27,
     "metadata": {},
     "output_type": "execute_result"
    },
    {
     "data": {
      "image/png": "[encoded data removed]",
      "text/plain": [
       "<Figure size 432x288 with 1 Axes>"
      ]
     },
     "metadata": {
      "needs_background": "light"
     },
     "output_type": "display_data"
    }
   ],
   "source": [
    "create_viz(df, [], 23, 'bar', 'Affiliations', 'y/n', True)"
   ]
  },
  {
   "cell_type": "code",
   "execution_count": 26,
   "id": "91b67d9d",
   "metadata": {
    "scrolled": true
   },
   "outputs": [
    {
     "data": {
      "text/html": [
       "<div>\n",
       "<style scoped>\n",
       "    .dataframe tbody tr th:only-of-type {\n",
       "        vertical-align: middle;\n",
       "    }\n",
       "\n",
       "    .dataframe tbody tr th {\n",
       "        vertical-align: top;\n",
       "    }\n",
       "\n",
       "    .dataframe thead th {\n",
       "        text-align: right;\n",
       "    }\n",
       "</style>\n",
       "<table border=\"1\" class=\"dataframe\">\n",
       "  <thead>\n",
       "    <tr style=\"text-align: right;\">\n",
       "      <th></th>\n",
       "      <th>2012</th>\n",
       "      <th>2021</th>\n",
       "    </tr>\n",
       "  </thead>\n",
       "  <tbody>\n",
       "    <tr>\n",
       "      <th>SVM</th>\n",
       "      <td>4</td>\n",
       "      <td>0</td>\n",
       "    </tr>\n",
       "    <tr>\n",
       "      <th>Graph analysis</th>\n",
       "      <td>2</td>\n",
       "      <td>1</td>\n",
       "    </tr>\n",
       "    <tr>\n",
       "      <th>Supervised learning</th>\n",
       "      <td>0</td>\n",
       "      <td>1</td>\n",
       "    </tr>\n",
       "    <tr>\n",
       "      <th>Unsupervised learning</th>\n",
       "      <td>1</td>\n",
       "      <td>1</td>\n",
       "    </tr>\n",
       "    <tr>\n",
       "      <th>Transfer learning</th>\n",
       "      <td>0</td>\n",
       "      <td>1</td>\n",
       "    </tr>\n",
       "    <tr>\n",
       "      <th>Neural network</th>\n",
       "      <td>0</td>\n",
       "      <td>5</td>\n",
       "    </tr>\n",
       "    <tr>\n",
       "      <th>Other</th>\n",
       "      <td>6</td>\n",
       "      <td>4</td>\n",
       "    </tr>\n",
       "  </tbody>\n",
       "</table>\n",
       "</div>"
      ],
      "text/plain": [
       "                       2012  2021\n",
       "SVM                       4     0\n",
       "Graph analysis            2     1\n",
       "Supervised learning       0     1\n",
       "Unsupervised learning     1     1\n",
       "Transfer learning         0     1\n",
       "Neural network            0     5\n",
       "Other                     6     4"
      ]
     },
     "execution_count": 26,
     "metadata": {},
     "output_type": "execute_result"
    },
    {
     "data": {
      "image/png": "[encoded data removed]",
      "text/plain": [
       "<Figure size 432x288 with 1 Axes>"
      ]
     },
     "metadata": {
      "needs_background": "light"
     },
     "output_type": "display_data"
    }
   ],
   "source": [
    "create_viz(df, word_list, 8, 'bar', 'method', 'multiple choice', False)"
   ]
  },
  {
   "cell_type": "code",
   "execution_count": 25,
   "id": "9afea744",
   "metadata": {},
   "outputs": [
    {
     "data": {
      "text/html": [
       "<div>\n",
       "<style scoped>\n",
       "    .dataframe tbody tr th:only-of-type {\n",
       "        vertical-align: middle;\n",
       "    }\n",
       "\n",
       "    .dataframe tbody tr th {\n",
       "        vertical-align: top;\n",
       "    }\n",
       "\n",
       "    .dataframe thead th {\n",
       "        text-align: right;\n",
       "    }\n",
       "</style>\n",
       "<table border=\"1\" class=\"dataframe\">\n",
       "  <thead>\n",
       "    <tr style=\"text-align: right;\">\n",
       "      <th></th>\n",
       "      <th>2012</th>\n",
       "      <th>2021</th>\n",
       "    </tr>\n",
       "  </thead>\n",
       "  <tbody>\n",
       "    <tr>\n",
       "      <th>AUC</th>\n",
       "      <td>2</td>\n",
       "      <td>4</td>\n",
       "    </tr>\n",
       "    <tr>\n",
       "      <th>Specificity</th>\n",
       "      <td>3</td>\n",
       "      <td>2</td>\n",
       "    </tr>\n",
       "    <tr>\n",
       "      <th>Accuracy</th>\n",
       "      <td>7</td>\n",
       "      <td>6</td>\n",
       "    </tr>\n",
       "    <tr>\n",
       "      <th>Recall</th>\n",
       "      <td>0</td>\n",
       "      <td>0</td>\n",
       "    </tr>\n",
       "    <tr>\n",
       "      <th>F1 score</th>\n",
       "      <td>0</td>\n",
       "      <td>3</td>\n",
       "    </tr>\n",
       "    <tr>\n",
       "      <th>Sensitivity</th>\n",
       "      <td>4</td>\n",
       "      <td>3</td>\n",
       "    </tr>\n",
       "    <tr>\n",
       "      <th>Other</th>\n",
       "      <td>4</td>\n",
       "      <td>4</td>\n",
       "    </tr>\n",
       "  </tbody>\n",
       "</table>\n",
       "</div>"
      ],
      "text/plain": [
       "             2012  2021\n",
       "AUC             2     4\n",
       "Specificity     3     2\n",
       "Accuracy        7     6\n",
       "Recall          0     0\n",
       "F1 score        0     3\n",
       "Sensitivity     4     3\n",
       "Other           4     4"
      ]
     },
     "execution_count": 25,
     "metadata": {},
     "output_type": "execute_result"
    },
    {
     "data": {
      "image/png": "[encoded data removed]",
      "text/plain": [
       "<Figure size 432x288 with 1 Axes>"
      ]
     },
     "metadata": {
      "needs_background": "light"
     },
     "output_type": "display_data"
    }
   ],
   "source": [
    "create_viz(df, perf_list, 9,'bar', 'performance measures', 'multiple choice', False)"
   ]
  },
  {
   "cell_type": "code",
   "execution_count": 22,
   "id": "9813c027",
   "metadata": {},
   "outputs": [],
   "source": [
    "ethics_columns = [25, 27, 29, 31]"
   ]
  },
  {
   "cell_type": "code",
   "execution_count": 10,
   "id": "7b15cad2",
   "metadata": {},
   "outputs": [],
   "source": [
    "def count_yes_no(df, column):\n",
    "    #creating a list of number of yes, no and don't know answers for a certain column in a df\n",
    "    answer_list = [0,0,0] #[yes, no, don't know]\n",
    "    for input in df[df.columns[column]]:\n",
    "        if input == 'Yes':\n",
    "            answer_list[0] += 1\n",
    "        elif input == 'No':\n",
    "            answer_list[1] += 1\n",
    "        else:\n",
    "            answer_list[2] += 1\n",
    "    return answer_list"
   ]
  },
  {
   "cell_type": "code",
   "execution_count": 19,
   "id": "13098439",
   "metadata": {},
   "outputs": [],
   "source": [
    "def create_ethics_viz(df, columns, plot_option, name, year):\n",
    "    #narrowing down the df to classification labelled accurately and splitting into 2012 and 2021\n",
    "    df_true = df[df['Is the article accurately labelled as classification?'] == 'Yes']\n",
    "    if year == 2012:\n",
    "        df = df_true[df_true['Which year is the article from?'] == 2012]\n",
    "    else:\n",
    "        df = df_true[df_true['Which year is the article from?'] == 2021]\n",
    "    \n",
    "    #creating shorter column names - don't like them particularly..\n",
    "    column_names = {}\n",
    "    i = 1\n",
    "    for column in columns:\n",
    "        short_title = 'Ethics ' + str(i)\n",
    "        column_names[column] = short_title\n",
    "        i += 1 \n",
    "        \n",
    "    #counting the answers\n",
    "    data = {column:[] for column in columns}\n",
    "    for column in columns:\n",
    "        data[column] = count_yes_no(df, column)\n",
    "    df = pd.DataFrame(data) \n",
    "    \n",
    "    #renaming columns and rows\n",
    "  \n",
    "    row_names = {0:\"Yes\", 1:\"No\", 2:\"Don't know\"}\n",
    "\n",
    "    df.rename(index= row_names, columns = column_names, inplace=True)\n",
    "        \n",
    "\n",
    "    df.transpose().plot(kind = plot_option, title = name, stacked = True)\n",
    "    plt.savefig(name, bbox_inches='tight') #needs a little work, the axis labels are cut off\n",
    "    \n",
    "    return df\n",
    "    \n"
   ]
  },
  {
   "cell_type": "code",
   "execution_count": 23,
   "id": "5362cdb2",
   "metadata": {},
   "outputs": [
    {
     "data": {
      "text/html": [
       "<div>\n",
       "<style scoped>\n",
       "    .dataframe tbody tr th:only-of-type {\n",
       "        vertical-align: middle;\n",
       "    }\n",
       "\n",
       "    .dataframe tbody tr th {\n",
       "        vertical-align: top;\n",
       "    }\n",
       "\n",
       "    .dataframe thead th {\n",
       "        text-align: right;\n",
       "    }\n",
       "</style>\n",
       "<table border=\"1\" class=\"dataframe\">\n",
       "  <thead>\n",
       "    <tr style=\"text-align: right;\">\n",
       "      <th></th>\n",
       "      <th>Ethics 1</th>\n",
       "      <th>Ethics 2</th>\n",
       "      <th>Ethics 3</th>\n",
       "      <th>Ethics 4</th>\n",
       "    </tr>\n",
       "  </thead>\n",
       "  <tbody>\n",
       "    <tr>\n",
       "      <th>Yes</th>\n",
       "      <td>0</td>\n",
       "      <td>0</td>\n",
       "      <td>0</td>\n",
       "      <td>1</td>\n",
       "    </tr>\n",
       "    <tr>\n",
       "      <th>No</th>\n",
       "      <td>9</td>\n",
       "      <td>9</td>\n",
       "      <td>9</td>\n",
       "      <td>7</td>\n",
       "    </tr>\n",
       "    <tr>\n",
       "      <th>Don't know</th>\n",
       "      <td>0</td>\n",
       "      <td>0</td>\n",
       "      <td>0</td>\n",
       "      <td>1</td>\n",
       "    </tr>\n",
       "  </tbody>\n",
       "</table>\n",
       "</div>"
      ],
      "text/plain": [
       "            Ethics 1  Ethics 2  Ethics 3  Ethics 4\n",
       "Yes                0         0         0         1\n",
       "No                 9         9         9         7\n",
       "Don't know         0         0         0         1"
      ]
     },
     "execution_count": 23,
     "metadata": {},
     "output_type": "execute_result"
    },
    {
     "data": {
      "image/png": "[encoded data removed]",
      "text/plain": [
       "<Figure size 432x288 with 1 Axes>"
      ]
     },
     "metadata": {
      "needs_background": "light"
     },
     "output_type": "display_data"
    }
   ],
   "source": [
    "create_ethics_viz(df, ethics_columns, 'bar', 'Ethics 2012', 2012)"
   ]
  },
  {
   "cell_type": "code",
   "execution_count": 24,
   "id": "84e4a006",
   "metadata": {},
   "outputs": [
    {
     "data": {
      "text/html": [
       "<div>\n",
       "<style scoped>\n",
       "    .dataframe tbody tr th:only-of-type {\n",
       "        vertical-align: middle;\n",
       "    }\n",
       "\n",
       "    .dataframe tbody tr th {\n",
       "        vertical-align: top;\n",
       "    }\n",
       "\n",
       "    .dataframe thead th {\n",
       "        text-align: right;\n",
       "    }\n",
       "</style>\n",
       "<table border=\"1\" class=\"dataframe\">\n",
       "  <thead>\n",
       "    <tr style=\"text-align: right;\">\n",
       "      <th></th>\n",
       "      <th>Ethics 1</th>\n",
       "      <th>Ethics 2</th>\n",
       "      <th>Ethics 3</th>\n",
       "      <th>Ethics 4</th>\n",
       "    </tr>\n",
       "  </thead>\n",
       "  <tbody>\n",
       "    <tr>\n",
       "      <th>Yes</th>\n",
       "      <td>0</td>\n",
       "      <td>2</td>\n",
       "      <td>0</td>\n",
       "      <td>8</td>\n",
       "    </tr>\n",
       "    <tr>\n",
       "      <th>No</th>\n",
       "      <td>9</td>\n",
       "      <td>7</td>\n",
       "      <td>9</td>\n",
       "      <td>1</td>\n",
       "    </tr>\n",
       "    <tr>\n",
       "      <th>Don't know</th>\n",
       "      <td>0</td>\n",
       "      <td>0</td>\n",
       "      <td>0</td>\n",
       "      <td>0</td>\n",
       "    </tr>\n",
       "  </tbody>\n",
       "</table>\n",
       "</div>"
      ],
      "text/plain": [
       "            Ethics 1  Ethics 2  Ethics 3  Ethics 4\n",
       "Yes                0         2         0         8\n",
       "No                 9         7         9         1\n",
       "Don't know         0         0         0         0"
      ]
     },
     "execution_count": 24,
     "metadata": {},
     "output_type": "execute_result"
    },
    {
     "data": {
      "image/png": "[encoded data removed]",
      "text/plain": [
       "<Figure size 432x288 with 1 Axes>"
      ]
     },
     "metadata": {
      "needs_background": "light"
     },
     "output_type": "display_data"
    }
   ],
   "source": [
    "create_ethics_viz(df, ethics_columns, 'bar', 'Ethics 2021', 2021)"
   ]
  },
  {
   "cell_type": "code",
   "execution_count": 112,
   "id": "637e0dc3",
   "metadata": {},
   "outputs": [],
   "source": []
  },
  {
   "cell_type": "code",
   "execution_count": null,
   "id": "eb75e035",
   "metadata": {},
   "outputs": [],
   "source": []
  }
 ],
 "metadata": {
  "kernelspec": {
   "display_name": "Python 3 (ipykernel)",
   "language": "python",
   "name": "python3"
  },
  "language_info": {
   "codemirror_mode": {
    "name": "ipython",
    "version": 3
   },
   "file_extension": ".py",
   "mimetype": "text/x-python",
   "name": "python",
   "nbconvert_exporter": "python",
   "pygments_lexer": "ipython3",
   "version": "3.9.7"
  }
 },
 "nbformat": 4,
 "nbformat_minor": 5
}
