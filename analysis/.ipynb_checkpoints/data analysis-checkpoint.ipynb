{
 "cells": [
  {
   "cell_type": "code",
   "execution_count": 30,
   "id": "a31e1ade",
   "metadata": {},
   "outputs": [],
   "source": [
    "import pandas as pd\n",
    "import matplotlib.pyplot as plt\n",
    "import numpy as np\n",
    "import seaborn as sns"
   ]
  },
  {
   "cell_type": "code",
   "execution_count": 40,
   "id": "a643561e",
   "metadata": {},
   "outputs": [],
   "source": [
    "#reading in file\n",
    "df = pd.read_csv('annotations_data.csv')"
   ]
  },
  {
   "cell_type": "code",
   "execution_count": 41,
   "id": "e702a576",
   "metadata": {},
   "outputs": [
    {
     "data": {
      "text/plain": [
       "52"
      ]
     },
     "execution_count": 41,
     "metadata": {},
     "output_type": "execute_result"
    }
   ],
   "source": [
    "#for me to keep track of how many classification articles I currently have\n",
    "#to be removed later\n",
    "df_true = df[df['Is the article accurately labelled as classification?'] == 'Yes']\n",
    "len(df_true)"
   ]
  },
  {
   "cell_type": "code",
   "execution_count": 51,
   "id": "a6b5117b",
   "metadata": {},
   "outputs": [
    {
     "data": {
      "text/plain": [
       "Tidsstempel                                                                                                                                                             29/09/2022 10.01.00\n",
       "What is the article's index?                                                                                                                                                            268\n",
       "Which year is the article from?                                                                                                                                                        2021\n",
       "Is the article accurately labelled as classification?                                                                                                                                   Yes\n",
       "If not accurately labelled as classification, what would you label it as?                                                                                        It was accurately labelled\n",
       "Please input the quote from which you infer the answer to the previous question (if possible)                                             Categorical Relation-Preserving Contrastive Kn...\n",
       "What is the aim or task of the article? (input quote)                                                                                     we propose a novel Categorical Relation-preser...\n",
       "How does the article justify this aim or task? (input quote)                                                                              The amount of medical images for training deep...\n",
       "Which method is used for classification?                                                                                                             neural network, knowledge distillation\n",
       "Which performance measures are used?                                                                                                      Accuracy, F1 score,  average precision (AP), b...\n",
       "Does the article use segmentation as preprocessing?                                                                                                                                      No\n",
       "Please input the quote from which you infer the answer to the previous question (if possible).1                                                                        Nothing is mentioned\n",
       "Does the dataset used in the article have a title?                                                                                                                                      Yes\n",
       "Please input the quote from which you infer the answer to the previous question (if possible).2                                                  HAM10000 [23, 24] and APTOS datasets [25].\n",
       "What is the size of the used dataset? (input quote)                                                                                       The HAM10000 consists of 10015 dermoscopy imag...\n",
       "What type is the dataset?                                                                                                                                                        Don't know\n",
       "Please input the quote from which you infer the answer to the previous question (if possible).3                                           Dataset: We evaluated our proposed CRCKD frame...\n",
       "Is the survey/method of how the dataset was obtained accessible?                                                                                                                         No\n",
       "Please input the quote from which you infer the answer to the previous question (if possible).4                                                                        Nothing is mentioned\n",
       "Does the article mention the demographics of the patients/images included in the used dataset?                                                                                           No\n",
       "Please input the quote from which you infer the answer to the previous question (if possible).5                                                                        Nothing is mentioned\n",
       "Does the article mention the intent for collecting the dataset? The intended task for the dataset?                                                                                       No\n",
       "Please input the quote from which you infer the answer to the previous question (if possible).6                                                                        Nothing is mentioned\n",
       "Does the article disclose any affiliations?                                                                                                                                             Yes\n",
       "Please input the quote from which you infer the answer to the previous question (if possible).7                                           (1)\\r\\nDepartment of Electronic Engineering, T...\n",
       "Does the article include anything about respect for persons (informed consent, voluntary participation) participating in the dataset?                                                    No\n",
       "Please input the quote from which you infer the answer to the previous question (if possible).8                                                                        Nothing is mentioned\n",
       "Does the article have any mention of benefience, minimising risk/maximising benefit of work?                                                                                             No\n",
       "Please input the quote from which you infer the answer to the previous question (if  possible)                                                                         Nothing is mentioned\n",
       "Does the article have any mention of justice (equal treatment, fair selection of subjects)?                                                                                              No\n",
       "Please input the quote from which you infer the answer to the previous question (if  possible).1                                                                       Nothing is mentioned\n",
       "Does the article mention any respect for law/public interest (transparency in methods/results, accountability for actions)?                                                             Yes\n",
       "Please input the quote from which you infer the answer to the previous question (if  possible).2                                          Also has supplementary electronic material, bu...\n",
       "Are there any other comments/interesting aspects?                                                                                                                                       NaN\n",
       "Name: 3, dtype: object"
      ]
     },
     "execution_count": 51,
     "metadata": {},
     "output_type": "execute_result"
    }
   ],
   "source": [
    "df_true.iloc[3, :]"
   ]
  },
  {
   "cell_type": "code",
   "execution_count": 62,
   "id": "af5311ea",
   "metadata": {},
   "outputs": [],
   "source": [
    "def count_answers(word_list, column):\n",
    "#initialising the dictionary with the known answers\n",
    "    method_dic = {}\n",
    "    for word in word_list:\n",
    "        method_dic[word.lower()] = 0\n",
    "\n",
    "    for method in column:\n",
    "        options = method.split(\", \") #this also splits other answers with ,  \n",
    "        for option in options:\n",
    "            option = option.lower()\n",
    "            if option not in method_dic: #checks if it is a different answer           \n",
    "                method_dic[option] = 1\n",
    "                break #ensures that even if the other answer has a , in it, it is only counted once    \n",
    "            else: \n",
    "                method_dic[option] = method_dic.get(option)+1\n",
    "   \n",
    " #wanted to create a threshold, but not currently working\n",
    "    for key in method_dic.keys(): #deleting the option if only one article uses it and count it as other instead\n",
    "        final_dic = {}\n",
    "        if method_dic.get(key) > 2:\n",
    "            final_dic[key] = method_dic.get(key)\n",
    "        else: \n",
    "            final_dic['other'] = method_dic.get('other')+1\n",
    "        \n",
    "        #maybe a niche case where other is never used? but probably not an issue\n",
    "    return method_dic"
   ]
  },
  {
   "cell_type": "code",
   "execution_count": 7,
   "id": "a3fd66b4",
   "metadata": {},
   "outputs": [],
   "source": [
    "\n",
    "word_list = ['SVM', 'Graph analysis', 'Supervised learning', 'Unsupervised learning', 'Transfer learning', 'Neural network', 'bag of features','multiple kernel learning','Other']\n"
   ]
  },
  {
   "cell_type": "code",
   "execution_count": 46,
   "id": "d50e5b6e",
   "metadata": {},
   "outputs": [],
   "source": [
    "\n",
    "perf_list = ['AUC', 'Specificity', 'Accuracy', 'Recall', 'F1 score', 'Sensitivity', 'mean', 'median', 'standard deviation', 'matthews correlation coefficient', 'Other']\n"
   ]
  },
  {
   "cell_type": "code",
   "execution_count": 16,
   "id": "6c8f74aa",
   "metadata": {},
   "outputs": [],
   "source": [
    "def create_viz(df, word_list, column, plot_option, name, count_option, stacked_option):\n",
    "    #narrowing down the df to classification labelled accurately and splitting into 2012 and 2021\n",
    "    df_true = df[df['Is the article accurately labelled as classification?'] == 'Yes']\n",
    "    df_2012 = df_true[df_true['Which year is the article from?'] == 2012]\n",
    "    df_2021 = df_true[df_true['Which year is the article from?'] == 2021]\n",
    "    \n",
    "    #counting the answers \n",
    "    if count_option == 'multiple choice':\n",
    "        data = {'2012': count_answers(word_list, df_2012.iloc[:, column]),\n",
    "       '2021': count_answers(word_list, df_2021.iloc[:, column])}\n",
    "        df = pd.DataFrame.from_dict(data)\n",
    "\n",
    "    elif count_option == 'y/n':\n",
    "        data = {'2012': count_yes_no(df_2012, column),\n",
    "       '2021': count_yes_no(df_2021, column)}\n",
    "        \n",
    "        df = pd.DataFrame.from_dict(data)\n",
    "        if name == 'Dataset type':\n",
    "            row_names = {0:\"Public\", 1:\"Private\", 2:\"Don't know\"}\n",
    "        else: row_names = {0:\"Yes\", 1:\"No\", 2:\"Don't know\"}\n",
    "        \n",
    "        df.rename(index= row_names, inplace=True)\n",
    "  \n",
    "   \n",
    "        \n",
    "    color_dic = {'2012': '#066570', '2021': '#5eb1bf'}\n",
    "    \n",
    "    if 'used' in name:\n",
    "        fig = df.plot(kind = plot_option, title = name, stacked = stacked_option, color =color_dic)\n",
    "        fig.set_xlabel('number of articles')\n",
    "        plt.xticks(rotation = 0)\n",
    "    else:\n",
    "        fig = df.plot(kind = plot_option, title = name, stacked = stacked_option, color =color_dic)\n",
    "        fig.set_ylabel('number of articles')\n",
    "        plt.xticks(rotation = 45)\n",
    "        \n",
    "    for container in fig.containers:\n",
    "        fig.bar_label(container, label_type='center', color = 'white')\n",
    "\n",
    "    \n",
    "    plt.savefig(name , bbox_inches='tight')\n",
    "    \n",
    "    \n",
    "    return df\n"
   ]
  },
  {
   "cell_type": "code",
   "execution_count": 17,
   "id": "2f2bebc7",
   "metadata": {},
   "outputs": [],
   "source": [
    "ethics_columns = [25, 27, 29, 31]"
   ]
  },
  {
   "cell_type": "code",
   "execution_count": 18,
   "id": "ff5ec62c",
   "metadata": {},
   "outputs": [],
   "source": [
    "def count_yes_no(df, column):\n",
    "    #creating a list of number of yes, no and don't know answers for a certain column in a df\n",
    "    answer_list = [0,0,0] #[yes, no, don't know] [public, private, don't know]\n",
    "    for input in df[df.columns[column]]:\n",
    "        if input == 'Yes' or input == 'Public':\n",
    "            answer_list[0] += 1\n",
    "        elif input == 'No' or input == 'Private':\n",
    "            answer_list[1] += 1\n",
    "        else:\n",
    "            answer_list[2] += 1\n",
    "    return answer_list"
   ]
  },
  {
   "cell_type": "code",
   "execution_count": 19,
   "id": "71d78b45",
   "metadata": {},
   "outputs": [],
   "source": [
    "def create_ethics_viz(df, columns, plot_option, name, year):\n",
    "    #narrowing down the df to classification labelled accurately and splitting into 2012 and 2021\n",
    "    df_true = df[df['Is the article accurately labelled as classification?'] == 'Yes']\n",
    "    if year == 2012:\n",
    "        df = df_true[df_true['Which year is the article from?'] == 2012]\n",
    "    else:\n",
    "        df = df_true[df_true['Which year is the article from?'] == 2021]\n",
    "    \n",
    "       \n",
    "    #counting the answers\n",
    "    data = {column:[] for column in columns}\n",
    "    for column in columns:\n",
    "        data[column] = count_yes_no(df, column)\n",
    "    df = pd.DataFrame(data) \n",
    "    \n",
    "    #renaming columns and rows\n",
    "\n",
    "    column_names = {columns[0]:'Respect for persons', columns[1]:'Benefience', columns[2]:'Justice', columns[3]:'Repect for law/public interest'}\n",
    "  \n",
    "    row_names = {0:\"Yes\", 1:\"No\", 2:\"Don't know\"}\n",
    "\n",
    "    df.rename(index= row_names, columns = column_names, inplace=True)\n",
    "    \n",
    "    color_dic = {'Yes': '#066570', 'No': '#5eb1bf', \"Don't know\": 'grey'}\n",
    "   \n",
    "\n",
    "    fig = df.transpose().plot(kind = plot_option, title = name, stacked = True, color = color_dic)\n",
    "    for container in fig.containers:\n",
    "        fig.bar_label(container, label_type='center', color = 'white')\n",
    "    fig.set_xlabel(\"number of articles\")\n",
    "    fig.legend( loc='lower center', ncol=3)\n",
    "    plt.savefig(name , bbox_inches='tight')\n",
    "\n",
    "\n",
    "\n",
    "    return df"
   ]
  },
  {
   "cell_type": "code",
   "execution_count": 20,
   "id": "8824055d",
   "metadata": {
    "scrolled": true
   },
   "outputs": [
    {
     "data": {
      "text/html": [
       "<div>\n",
       "<style scoped>\n",
       "    .dataframe tbody tr th:only-of-type {\n",
       "        vertical-align: middle;\n",
       "    }\n",
       "\n",
       "    .dataframe tbody tr th {\n",
       "        vertical-align: top;\n",
       "    }\n",
       "\n",
       "    .dataframe thead th {\n",
       "        text-align: right;\n",
       "    }\n",
       "</style>\n",
       "<table border=\"1\" class=\"dataframe\">\n",
       "  <thead>\n",
       "    <tr style=\"text-align: right;\">\n",
       "      <th></th>\n",
       "      <th>2012</th>\n",
       "      <th>2021</th>\n",
       "    </tr>\n",
       "  </thead>\n",
       "  <tbody>\n",
       "    <tr>\n",
       "      <th>Yes</th>\n",
       "      <td>15</td>\n",
       "      <td>5</td>\n",
       "    </tr>\n",
       "    <tr>\n",
       "      <th>No</th>\n",
       "      <td>11</td>\n",
       "      <td>21</td>\n",
       "    </tr>\n",
       "    <tr>\n",
       "      <th>Don't know</th>\n",
       "      <td>0</td>\n",
       "      <td>0</td>\n",
       "    </tr>\n",
       "  </tbody>\n",
       "</table>\n",
       "</div>"
      ],
      "text/plain": [
       "            2012  2021\n",
       "Yes           15     5\n",
       "No            11    21\n",
       "Don't know     0     0"
      ]
     },
     "execution_count": 20,
     "metadata": {},
     "output_type": "execute_result"
    },
    {
     "data": {
      "image/png": "[encoded data removed]",
      "text/plain": [
       "<Figure size 432x288 with 1 Axes>"
      ]
     },
     "metadata": {
      "needs_background": "light"
     },
     "output_type": "display_data"
    }
   ],
   "source": [
    "create_viz(df, [], 10, 'bar', 'Segmentation as preprocessing step', 'y/n', True)"
   ]
  },
  {
   "cell_type": "code",
   "execution_count": 21,
   "id": "179a2c08",
   "metadata": {
    "scrolled": true
   },
   "outputs": [
    {
     "data": {
      "text/html": [
       "<div>\n",
       "<style scoped>\n",
       "    .dataframe tbody tr th:only-of-type {\n",
       "        vertical-align: middle;\n",
       "    }\n",
       "\n",
       "    .dataframe tbody tr th {\n",
       "        vertical-align: top;\n",
       "    }\n",
       "\n",
       "    .dataframe thead th {\n",
       "        text-align: right;\n",
       "    }\n",
       "</style>\n",
       "<table border=\"1\" class=\"dataframe\">\n",
       "  <thead>\n",
       "    <tr style=\"text-align: right;\">\n",
       "      <th></th>\n",
       "      <th>2012</th>\n",
       "      <th>2021</th>\n",
       "    </tr>\n",
       "  </thead>\n",
       "  <tbody>\n",
       "    <tr>\n",
       "      <th>Public</th>\n",
       "      <td>6</td>\n",
       "      <td>16</td>\n",
       "    </tr>\n",
       "    <tr>\n",
       "      <th>Private</th>\n",
       "      <td>19</td>\n",
       "      <td>8</td>\n",
       "    </tr>\n",
       "    <tr>\n",
       "      <th>Don't know</th>\n",
       "      <td>1</td>\n",
       "      <td>2</td>\n",
       "    </tr>\n",
       "  </tbody>\n",
       "</table>\n",
       "</div>"
      ],
      "text/plain": [
       "            2012  2021\n",
       "Public         6    16\n",
       "Private       19     8\n",
       "Don't know     1     2"
      ]
     },
     "execution_count": 21,
     "metadata": {},
     "output_type": "execute_result"
    },
    {
     "data": {
      "image/png": "[encoded data removed]",
      "text/plain": [
       "<Figure size 432x288 with 1 Axes>"
      ]
     },
     "metadata": {
      "needs_background": "light"
     },
     "output_type": "display_data"
    }
   ],
   "source": [
    "create_viz(df, [], 15, 'bar', 'Dataset type', 'y/n', True)"
   ]
  },
  {
   "cell_type": "code",
   "execution_count": 22,
   "id": "ad683399",
   "metadata": {
    "scrolled": true
   },
   "outputs": [
    {
     "data": {
      "text/html": [
       "<div>\n",
       "<style scoped>\n",
       "    .dataframe tbody tr th:only-of-type {\n",
       "        vertical-align: middle;\n",
       "    }\n",
       "\n",
       "    .dataframe tbody tr th {\n",
       "        vertical-align: top;\n",
       "    }\n",
       "\n",
       "    .dataframe thead th {\n",
       "        text-align: right;\n",
       "    }\n",
       "</style>\n",
       "<table border=\"1\" class=\"dataframe\">\n",
       "  <thead>\n",
       "    <tr style=\"text-align: right;\">\n",
       "      <th></th>\n",
       "      <th>2012</th>\n",
       "      <th>2021</th>\n",
       "    </tr>\n",
       "  </thead>\n",
       "  <tbody>\n",
       "    <tr>\n",
       "      <th>Yes</th>\n",
       "      <td>13</td>\n",
       "      <td>21</td>\n",
       "    </tr>\n",
       "    <tr>\n",
       "      <th>No</th>\n",
       "      <td>13</td>\n",
       "      <td>5</td>\n",
       "    </tr>\n",
       "    <tr>\n",
       "      <th>Don't know</th>\n",
       "      <td>0</td>\n",
       "      <td>0</td>\n",
       "    </tr>\n",
       "  </tbody>\n",
       "</table>\n",
       "</div>"
      ],
      "text/plain": [
       "            2012  2021\n",
       "Yes           13    21\n",
       "No            13     5\n",
       "Don't know     0     0"
      ]
     },
     "execution_count": 22,
     "metadata": {},
     "output_type": "execute_result"
    },
    {
     "data": {
      "image/png": "[encoded data removed]",
      "text/plain": [
       "<Figure size 432x288 with 1 Axes>"
      ]
     },
     "metadata": {
      "needs_background": "light"
     },
     "output_type": "display_data"
    }
   ],
   "source": [
    "create_viz(df, [], 23, 'bar', 'Acknowledgment of funding', 'y/n', True)"
   ]
  },
  {
   "cell_type": "code",
   "execution_count": 63,
   "id": "91b67d9d",
   "metadata": {
    "scrolled": true
   },
   "outputs": [
    {
     "data": {
      "text/html": [
       "<div>\n",
       "<style scoped>\n",
       "    .dataframe tbody tr th:only-of-type {\n",
       "        vertical-align: middle;\n",
       "    }\n",
       "\n",
       "    .dataframe tbody tr th {\n",
       "        vertical-align: top;\n",
       "    }\n",
       "\n",
       "    .dataframe thead th {\n",
       "        text-align: right;\n",
       "    }\n",
       "</style>\n",
       "<table border=\"1\" class=\"dataframe\">\n",
       "  <thead>\n",
       "    <tr style=\"text-align: right;\">\n",
       "      <th></th>\n",
       "      <th>2012</th>\n",
       "      <th>2021</th>\n",
       "    </tr>\n",
       "  </thead>\n",
       "  <tbody>\n",
       "    <tr>\n",
       "      <th>svm</th>\n",
       "      <td>11.0</td>\n",
       "      <td>0.0</td>\n",
       "    </tr>\n",
       "    <tr>\n",
       "      <th>graph analysis</th>\n",
       "      <td>4.0</td>\n",
       "      <td>3.0</td>\n",
       "    </tr>\n",
       "    <tr>\n",
       "      <th>supervised learning</th>\n",
       "      <td>0.0</td>\n",
       "      <td>1.0</td>\n",
       "    </tr>\n",
       "    <tr>\n",
       "      <th>unsupervised learning</th>\n",
       "      <td>2.0</td>\n",
       "      <td>1.0</td>\n",
       "    </tr>\n",
       "    <tr>\n",
       "      <th>transfer learning</th>\n",
       "      <td>0.0</td>\n",
       "      <td>1.0</td>\n",
       "    </tr>\n",
       "    <tr>\n",
       "      <th>neural network</th>\n",
       "      <td>1.0</td>\n",
       "      <td>22.0</td>\n",
       "    </tr>\n",
       "    <tr>\n",
       "      <th>other</th>\n",
       "      <td>0.0</td>\n",
       "      <td>0.0</td>\n",
       "    </tr>\n",
       "    <tr>\n",
       "      <th>linear dynamical system</th>\n",
       "      <td>1.0</td>\n",
       "      <td>NaN</td>\n",
       "    </tr>\n",
       "    <tr>\n",
       "      <th>multiple multi-variate random forest regression</th>\n",
       "      <td>1.0</td>\n",
       "      <td>NaN</td>\n",
       "    </tr>\n",
       "    <tr>\n",
       "      <th>conditional random fields</th>\n",
       "      <td>1.0</td>\n",
       "      <td>NaN</td>\n",
       "    </tr>\n",
       "    <tr>\n",
       "      <th>hierarchical manifold learning</th>\n",
       "      <td>1.0</td>\n",
       "      <td>NaN</td>\n",
       "    </tr>\n",
       "    <tr>\n",
       "      <th>learning vector quantization</th>\n",
       "      <td>1.0</td>\n",
       "      <td>NaN</td>\n",
       "    </tr>\n",
       "    <tr>\n",
       "      <th>logistic classifier</th>\n",
       "      <td>2.0</td>\n",
       "      <td>NaN</td>\n",
       "    </tr>\n",
       "    <tr>\n",
       "      <th>multimodality atlas</th>\n",
       "      <td>1.0</td>\n",
       "      <td>NaN</td>\n",
       "    </tr>\n",
       "    <tr>\n",
       "      <th>randomized trees</th>\n",
       "      <td>1.0</td>\n",
       "      <td>NaN</td>\n",
       "    </tr>\n",
       "    <tr>\n",
       "      <th>probabilistic classification model</th>\n",
       "      <td>1.0</td>\n",
       "      <td>NaN</td>\n",
       "    </tr>\n",
       "    <tr>\n",
       "      <th>knowledge distillation</th>\n",
       "      <td>NaN</td>\n",
       "      <td>1.0</td>\n",
       "    </tr>\n",
       "    <tr>\n",
       "      <th>map regression</th>\n",
       "      <td>NaN</td>\n",
       "      <td>1.0</td>\n",
       "    </tr>\n",
       "    <tr>\n",
       "      <th>representation learning</th>\n",
       "      <td>NaN</td>\n",
       "      <td>1.0</td>\n",
       "    </tr>\n",
       "    <tr>\n",
       "      <th>constrained contrastive distribution learning</th>\n",
       "      <td>NaN</td>\n",
       "      <td>1.0</td>\n",
       "    </tr>\n",
       "  </tbody>\n",
       "</table>\n",
       "</div>"
      ],
      "text/plain": [
       "                                                 2012  2021\n",
       "svm                                              11.0   0.0\n",
       "graph analysis                                    4.0   3.0\n",
       "supervised learning                               0.0   1.0\n",
       "unsupervised learning                             2.0   1.0\n",
       "transfer learning                                 0.0   1.0\n",
       "neural network                                    1.0  22.0\n",
       "other                                             0.0   0.0\n",
       " linear dynamical system                          1.0   NaN\n",
       "multiple multi-variate random forest regression   1.0   NaN\n",
       "conditional random fields                         1.0   NaN\n",
       "hierarchical manifold learning                    1.0   NaN\n",
       "learning vector quantization                      1.0   NaN\n",
       "logistic classifier                               2.0   NaN\n",
       "multimodality atlas                               1.0   NaN\n",
       "randomized trees                                  1.0   NaN\n",
       "probabilistic classification model                1.0   NaN\n",
       "knowledge distillation                            NaN   1.0\n",
       "map regression                                    NaN   1.0\n",
       "representation learning                           NaN   1.0\n",
       "constrained contrastive distribution learning     NaN   1.0"
      ]
     },
     "execution_count": 63,
     "metadata": {},
     "output_type": "execute_result"
    },
    {
     "data": {
      "image/png": "[encoded data removed]",
      "text/plain": [
       "<Figure size 432x288 with 1 Axes>"
      ]
     },
     "metadata": {
      "needs_background": "light"
     },
     "output_type": "display_data"
    }
   ],
   "source": [
    "create_viz(df, word_list, 8, 'barh', 'Classification method used', 'multiple choice', False)"
   ]
  },
  {
   "cell_type": "code",
   "execution_count": 47,
   "id": "9afea744",
   "metadata": {},
   "outputs": [
    {
     "data": {
      "text/html": [
       "<div>\n",
       "<style scoped>\n",
       "    .dataframe tbody tr th:only-of-type {\n",
       "        vertical-align: middle;\n",
       "    }\n",
       "\n",
       "    .dataframe tbody tr th {\n",
       "        vertical-align: top;\n",
       "    }\n",
       "\n",
       "    .dataframe thead th {\n",
       "        text-align: right;\n",
       "    }\n",
       "</style>\n",
       "<table border=\"1\" class=\"dataframe\">\n",
       "  <thead>\n",
       "    <tr style=\"text-align: right;\">\n",
       "      <th></th>\n",
       "      <th>2012</th>\n",
       "      <th>2021</th>\n",
       "    </tr>\n",
       "  </thead>\n",
       "  <tbody>\n",
       "    <tr>\n",
       "      <th>auc</th>\n",
       "      <td>6.0</td>\n",
       "      <td>14.0</td>\n",
       "    </tr>\n",
       "    <tr>\n",
       "      <th>specificity</th>\n",
       "      <td>5.0</td>\n",
       "      <td>9.0</td>\n",
       "    </tr>\n",
       "    <tr>\n",
       "      <th>accuracy</th>\n",
       "      <td>19.0</td>\n",
       "      <td>13.0</td>\n",
       "    </tr>\n",
       "    <tr>\n",
       "      <th>recall</th>\n",
       "      <td>5.0</td>\n",
       "      <td>4.0</td>\n",
       "    </tr>\n",
       "    <tr>\n",
       "      <th>f1 score</th>\n",
       "      <td>2.0</td>\n",
       "      <td>8.0</td>\n",
       "    </tr>\n",
       "    <tr>\n",
       "      <th>sensitivity</th>\n",
       "      <td>7.0</td>\n",
       "      <td>10.0</td>\n",
       "    </tr>\n",
       "    <tr>\n",
       "      <th>mean</th>\n",
       "      <td>1.0</td>\n",
       "      <td>0.0</td>\n",
       "    </tr>\n",
       "    <tr>\n",
       "      <th>median</th>\n",
       "      <td>1.0</td>\n",
       "      <td>0.0</td>\n",
       "    </tr>\n",
       "    <tr>\n",
       "      <th>standard deviation</th>\n",
       "      <td>1.0</td>\n",
       "      <td>0.0</td>\n",
       "    </tr>\n",
       "    <tr>\n",
       "      <th>matthews correlation coefficient</th>\n",
       "      <td>0.0</td>\n",
       "      <td>1.0</td>\n",
       "    </tr>\n",
       "    <tr>\n",
       "      <th>other</th>\n",
       "      <td>0.0</td>\n",
       "      <td>0.0</td>\n",
       "    </tr>\n",
       "    <tr>\n",
       "      <th>precision</th>\n",
       "      <td>6.0</td>\n",
       "      <td>3.0</td>\n",
       "    </tr>\n",
       "    <tr>\n",
       "      <th>rmsd</th>\n",
       "      <td>1.0</td>\n",
       "      <td>NaN</td>\n",
       "    </tr>\n",
       "    <tr>\n",
       "      <th>average precision (ap)</th>\n",
       "      <td>NaN</td>\n",
       "      <td>1.0</td>\n",
       "    </tr>\n",
       "    <tr>\n",
       "      <th>symmetric mean absolute percentage</th>\n",
       "      <td>NaN</td>\n",
       "      <td>1.0</td>\n",
       "    </tr>\n",
       "    <tr>\n",
       "      <th>log loss</th>\n",
       "      <td>NaN</td>\n",
       "      <td>1.0</td>\n",
       "    </tr>\n",
       "    <tr>\n",
       "      <th>balanced accuracy</th>\n",
       "      <td>NaN</td>\n",
       "      <td>2.0</td>\n",
       "    </tr>\n",
       "    <tr>\n",
       "      <th>quadratic-weighted kappa score</th>\n",
       "      <td>NaN</td>\n",
       "      <td>1.0</td>\n",
       "    </tr>\n",
       "  </tbody>\n",
       "</table>\n",
       "</div>"
      ],
      "text/plain": [
       "                                     2012  2021\n",
       "auc                                   6.0  14.0\n",
       "specificity                           5.0   9.0\n",
       "accuracy                             19.0  13.0\n",
       "recall                                5.0   4.0\n",
       "f1 score                              2.0   8.0\n",
       "sensitivity                           7.0  10.0\n",
       "mean                                  1.0   0.0\n",
       "median                                1.0   0.0\n",
       "standard deviation                    1.0   0.0\n",
       "matthews correlation coefficient      0.0   1.0\n",
       "other                                 0.0   0.0\n",
       "precision                             6.0   3.0\n",
       "rmsd                                  1.0   NaN\n",
       " average precision (ap)               NaN   1.0\n",
       "symmetric mean absolute percentage    NaN   1.0\n",
       "log loss                              NaN   1.0\n",
       "balanced accuracy                     NaN   2.0\n",
       " quadratic-weighted kappa score       NaN   1.0"
      ]
     },
     "execution_count": 47,
     "metadata": {},
     "output_type": "execute_result"
    },
    {
     "data": {
      "image/png": "[encoded data removed]",
      "text/plain": [
       "<Figure size 432x288 with 1 Axes>"
      ]
     },
     "metadata": {
      "needs_background": "light"
     },
     "output_type": "display_data"
    }
   ],
   "source": [
    "create_viz(df, perf_list, 9,'barh', 'Performance measures used', 'multiple choice', False)"
   ]
  },
  {
   "cell_type": "code",
   "execution_count": 25,
   "id": "554b6de9",
   "metadata": {},
   "outputs": [
    {
     "data": {
      "text/html": [
       "<div>\n",
       "<style scoped>\n",
       "    .dataframe tbody tr th:only-of-type {\n",
       "        vertical-align: middle;\n",
       "    }\n",
       "\n",
       "    .dataframe tbody tr th {\n",
       "        vertical-align: top;\n",
       "    }\n",
       "\n",
       "    .dataframe thead th {\n",
       "        text-align: right;\n",
       "    }\n",
       "</style>\n",
       "<table border=\"1\" class=\"dataframe\">\n",
       "  <thead>\n",
       "    <tr style=\"text-align: right;\">\n",
       "      <th></th>\n",
       "      <th>Respect for persons</th>\n",
       "      <th>Benefience</th>\n",
       "      <th>Justice</th>\n",
       "      <th>Repect for law/public interest</th>\n",
       "    </tr>\n",
       "  </thead>\n",
       "  <tbody>\n",
       "    <tr>\n",
       "      <th>Yes</th>\n",
       "      <td>1</td>\n",
       "      <td>0</td>\n",
       "      <td>0</td>\n",
       "      <td>4</td>\n",
       "    </tr>\n",
       "    <tr>\n",
       "      <th>No</th>\n",
       "      <td>25</td>\n",
       "      <td>26</td>\n",
       "      <td>26</td>\n",
       "      <td>21</td>\n",
       "    </tr>\n",
       "    <tr>\n",
       "      <th>Don't know</th>\n",
       "      <td>0</td>\n",
       "      <td>0</td>\n",
       "      <td>0</td>\n",
       "      <td>1</td>\n",
       "    </tr>\n",
       "  </tbody>\n",
       "</table>\n",
       "</div>"
      ],
      "text/plain": [
       "            Respect for persons  Benefience  Justice  \\\n",
       "Yes                           1           0        0   \n",
       "No                           25          26       26   \n",
       "Don't know                    0           0        0   \n",
       "\n",
       "            Repect for law/public interest  \n",
       "Yes                                      4  \n",
       "No                                      21  \n",
       "Don't know                               1  "
      ]
     },
     "execution_count": 25,
     "metadata": {},
     "output_type": "execute_result"
    },
    {
     "data": {
      "image/png": "[encoded data removed]",
      "text/plain": [
       "<Figure size 432x288 with 1 Axes>"
      ]
     },
     "metadata": {
      "needs_background": "light"
     },
     "output_type": "display_data"
    }
   ],
   "source": [
    "create_ethics_viz(df, ethics_columns, 'barh', 'Mention of ethics 2012', 2012)"
   ]
  },
  {
   "cell_type": "code",
   "execution_count": 26,
   "id": "0c5a4225",
   "metadata": {},
   "outputs": [
    {
     "data": {
      "text/html": [
       "<div>\n",
       "<style scoped>\n",
       "    .dataframe tbody tr th:only-of-type {\n",
       "        vertical-align: middle;\n",
       "    }\n",
       "\n",
       "    .dataframe tbody tr th {\n",
       "        vertical-align: top;\n",
       "    }\n",
       "\n",
       "    .dataframe thead th {\n",
       "        text-align: right;\n",
       "    }\n",
       "</style>\n",
       "<table border=\"1\" class=\"dataframe\">\n",
       "  <thead>\n",
       "    <tr style=\"text-align: right;\">\n",
       "      <th></th>\n",
       "      <th>Respect for persons</th>\n",
       "      <th>Benefience</th>\n",
       "      <th>Justice</th>\n",
       "      <th>Repect for law/public interest</th>\n",
       "    </tr>\n",
       "  </thead>\n",
       "  <tbody>\n",
       "    <tr>\n",
       "      <th>Yes</th>\n",
       "      <td>1</td>\n",
       "      <td>2</td>\n",
       "      <td>0</td>\n",
       "      <td>13</td>\n",
       "    </tr>\n",
       "    <tr>\n",
       "      <th>No</th>\n",
       "      <td>25</td>\n",
       "      <td>23</td>\n",
       "      <td>26</td>\n",
       "      <td>13</td>\n",
       "    </tr>\n",
       "    <tr>\n",
       "      <th>Don't know</th>\n",
       "      <td>0</td>\n",
       "      <td>1</td>\n",
       "      <td>0</td>\n",
       "      <td>0</td>\n",
       "    </tr>\n",
       "  </tbody>\n",
       "</table>\n",
       "</div>"
      ],
      "text/plain": [
       "            Respect for persons  Benefience  Justice  \\\n",
       "Yes                           1           2        0   \n",
       "No                           25          23       26   \n",
       "Don't know                    0           1        0   \n",
       "\n",
       "            Repect for law/public interest  \n",
       "Yes                                     13  \n",
       "No                                      13  \n",
       "Don't know                               0  "
      ]
     },
     "execution_count": 26,
     "metadata": {},
     "output_type": "execute_result"
    },
    {
     "data": {
      "image/png": "[encoded data removed]",
      "text/plain": [
       "<Figure size 432x288 with 1 Axes>"
      ]
     },
     "metadata": {
      "needs_background": "light"
     },
     "output_type": "display_data"
    }
   ],
   "source": [
    "create_ethics_viz(df, ethics_columns, 'barh', 'Mention of ethics 2021', 2021)"
   ]
  },
  {
   "cell_type": "code",
   "execution_count": 112,
   "id": "b5599b7e",
   "metadata": {},
   "outputs": [],
   "source": []
  },
  {
   "cell_type": "code",
   "execution_count": null,
   "id": "3b623c85",
   "metadata": {},
   "outputs": [],
   "source": []
  }
 ],
 "metadata": {
  "kernelspec": {
   "display_name": "Python 3 (ipykernel)",
   "language": "python",
   "name": "python3"
  },
  "language_info": {
   "codemirror_mode": {
    "name": "ipython",
    "version": 3
   },
   "file_extension": ".py",
   "mimetype": "text/x-python",
   "name": "python",
   "nbconvert_exporter": "python",
   "pygments_lexer": "ipython3",
   "version": "3.9.7"
  }
 },
 "nbformat": 4,
 "nbformat_minor": 5
}
