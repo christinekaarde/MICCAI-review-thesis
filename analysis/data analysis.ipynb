{
 "cells": [
  {
   "cell_type": "code",
   "execution_count": 1,
   "id": "a31e1ade",
   "metadata": {},
   "outputs": [],
   "source": [
    "import pandas as pd\n",
    "import matplotlib.pyplot as plt\n",
    "import numpy as np\n",
    "import seaborn as sns"
   ]
  },
  {
   "cell_type": "code",
   "execution_count": 2,
   "id": "a643561e",
   "metadata": {},
   "outputs": [],
   "source": [
    "#reading in file\n",
    "df = pd.read_csv('annotations_data.csv')"
   ]
  },
  {
   "cell_type": "code",
   "execution_count": 5,
   "id": "e702a576",
   "metadata": {},
   "outputs": [
    {
     "data": {
      "text/plain": [
       "27"
      ]
     },
     "execution_count": 5,
     "metadata": {},
     "output_type": "execute_result"
    }
   ],
   "source": [
    "#for me to keep track of how many classification articles I currently have\n",
    "#to be removed later\n",
    "df_true = df[df['Is the article accurately labelled as classification?'] == 'Yes']\n",
    "len(df_true)"
   ]
  },
  {
   "cell_type": "code",
   "execution_count": 6,
   "id": "af5311ea",
   "metadata": {},
   "outputs": [],
   "source": [
    "def count_answers(word_list, column):\n",
    "#initialising the dictionary with the known answers\n",
    "    method_dic = {}\n",
    "    for word in word_list:\n",
    "        method_dic[word] = 0\n",
    "\n",
    "    for method in column:\n",
    "        options = method.split(\", \") #this also splits other answers with ,  \n",
    "        for option in options:\n",
    "            if option not in method_dic: #checks if it is a different answer\n",
    "                method_dic['Other'] = method_dic.get('Other')+1\n",
    "                break #ensures that even if the other answer has a , in it, it is only counted once\n",
    "            else: \n",
    "                method_dic[option] = method_dic.get(option)+1\n",
    "    return method_dic"
   ]
  },
  {
   "cell_type": "code",
   "execution_count": 7,
   "id": "a3fd66b4",
   "metadata": {},
   "outputs": [],
   "source": [
    "word_list = ['SVM', 'Graph analysis', 'Supervised learning', 'Unsupervised learning', 'Transfer learning', 'Neural network', 'Other']\n"
   ]
  },
  {
   "cell_type": "code",
   "execution_count": 8,
   "id": "d50e5b6e",
   "metadata": {},
   "outputs": [],
   "source": [
    "perf_list = ['AUC', 'Specificity', 'Accuracy', 'Recall', 'F1 score', 'Sensitivity', 'Other']\n"
   ]
  },
  {
   "cell_type": "code",
   "execution_count": 169,
   "id": "6c8f74aa",
   "metadata": {},
   "outputs": [],
   "source": [
    "def create_viz(df, word_list, column, plot_option, name, count_option, stacked_option):\n",
    "    #narrowing down the df to classification labelled accurately and splitting into 2012 and 2021\n",
    "    df_true = df[df['Is the article accurately labelled as classification?'] == 'Yes']\n",
    "    df_2012 = df_true[df_true['Which year is the article from?'] == 2012]\n",
    "    df_2021 = df_true[df_true['Which year is the article from?'] == 2021]\n",
    "    \n",
    "    #counting the answers \n",
    "    if count_option == 'multiple choice':\n",
    "        data = {'2012': count_answers(word_list, df_2012.iloc[:, column]),\n",
    "       '2021': count_answers(word_list, df_2021.iloc[:, column])}\n",
    "        df = pd.DataFrame.from_dict(data)\n",
    "\n",
    "    elif count_option == 'y/n':\n",
    "        data = {'2012': count_yes_no(df_2012, column),\n",
    "       '2021': count_yes_no(df_2021, column)}\n",
    "        \n",
    "        df = pd.DataFrame.from_dict(data)\n",
    "        if name == 'Dataset type':\n",
    "            row_names = {0:\"Public\", 1:\"Private\", 2:\"Don't know\"}\n",
    "        else: row_names = {0:\"Yes\", 1:\"No\", 2:\"Don't know\"}\n",
    "        \n",
    "        df.rename(index= row_names, inplace=True)\n",
    "  \n",
    "   \n",
    "        \n",
    "    color_dic = {'2012': '#066570', '2021': '#5eb1bf'}\n",
    "    \n",
    "    if 'used' in name:\n",
    "        fig = df.plot(kind = plot_option, title = name, stacked = stacked_option, color =color_dic)\n",
    "        fig.set_xlabel('number of articles')\n",
    "        plt.xticks(rotation = 0)\n",
    "    else:\n",
    "        fig = df.plot(kind = plot_option, title = name, stacked = stacked_option, color =color_dic)\n",
    "        fig.set_ylabel('number of articles')\n",
    "        plt.xticks(rotation = 45)\n",
    "        \n",
    "    for container in fig.containers:\n",
    "        fig.bar_label(container, label_type='center', color = 'white')\n",
    "\n",
    "    \n",
    "    plt.savefig(name , bbox_inches='tight')\n",
    "    \n",
    "    \n",
    "    return df\n"
   ]
  },
  {
   "cell_type": "code",
   "execution_count": 10,
   "id": "2f2bebc7",
   "metadata": {},
   "outputs": [],
   "source": [
    "ethics_columns = [25, 27, 29, 31]"
   ]
  },
  {
   "cell_type": "code",
   "execution_count": 13,
   "id": "ff5ec62c",
   "metadata": {},
   "outputs": [],
   "source": [
    "def count_yes_no(df, column):\n",
    "    #creating a list of number of yes, no and don't know answers for a certain column in a df\n",
    "    answer_list = [0,0,0] #[yes, no, don't know] [public, private, don't know]\n",
    "    for input in df[df.columns[column]]:\n",
    "        if input == 'Yes' or input == 'Public':\n",
    "            answer_list[0] += 1\n",
    "        elif input == 'No' or input == 'Private':\n",
    "            answer_list[1] += 1\n",
    "        else:\n",
    "            answer_list[2] += 1\n",
    "    return answer_list"
   ]
  },
  {
   "cell_type": "code",
   "execution_count": 166,
   "id": "71d78b45",
   "metadata": {},
   "outputs": [],
   "source": [
    "def create_ethics_viz(df, columns, plot_option, name, year):\n",
    "    #narrowing down the df to classification labelled accurately and splitting into 2012 and 2021\n",
    "    df_true = df[df['Is the article accurately labelled as classification?'] == 'Yes']\n",
    "    if year == 2012:\n",
    "        df = df_true[df_true['Which year is the article from?'] == 2012]\n",
    "    else:\n",
    "        df = df_true[df_true['Which year is the article from?'] == 2021]\n",
    "    \n",
    "       \n",
    "    #counting the answers\n",
    "    data = {column:[] for column in columns}\n",
    "    for column in columns:\n",
    "        data[column] = count_yes_no(df, column)\n",
    "    df = pd.DataFrame(data) \n",
    "    \n",
    "    #renaming columns and rows\n",
    "\n",
    "    column_names = {columns[0]:'Respect for persons', columns[1]:'Benefience', columns[2]:'Justice', columns[3]:'Repect for law/public interest'}\n",
    "  \n",
    "    row_names = {0:\"Yes\", 1:\"No\", 2:\"Don't know\"}\n",
    "\n",
    "    df.rename(index= row_names, columns = column_names, inplace=True)\n",
    "    \n",
    "    color_dic = {'Yes': '#066570', 'No': '#5eb1bf', \"Don't know\": 'grey'}\n",
    "   \n",
    "\n",
    "    fig = df.transpose().plot(kind = plot_option, title = name, stacked = True, color = color_dic)\n",
    "    for container in fig.containers:\n",
    "        fig.bar_label(container, label_type='center', color = 'white')\n",
    "    fig.set_xlabel(\"number of articles\")\n",
    "    fig.legend( loc='lower center', ncol=3)\n",
    "    plt.savefig(name , bbox_inches='tight')\n",
    "\n",
    "\n",
    "\n",
    "    return df"
   ]
  },
  {
   "cell_type": "code",
   "execution_count": 159,
   "id": "8824055d",
   "metadata": {
    "scrolled": true
   },
   "outputs": [
    {
     "data": {
      "text/html": [
       "<div>\n",
       "<style scoped>\n",
       "    .dataframe tbody tr th:only-of-type {\n",
       "        vertical-align: middle;\n",
       "    }\n",
       "\n",
       "    .dataframe tbody tr th {\n",
       "        vertical-align: top;\n",
       "    }\n",
       "\n",
       "    .dataframe thead th {\n",
       "        text-align: right;\n",
       "    }\n",
       "</style>\n",
       "<table border=\"1\" class=\"dataframe\">\n",
       "  <thead>\n",
       "    <tr style=\"text-align: right;\">\n",
       "      <th></th>\n",
       "      <th>2012</th>\n",
       "      <th>2021</th>\n",
       "    </tr>\n",
       "  </thead>\n",
       "  <tbody>\n",
       "    <tr>\n",
       "      <th>Yes</th>\n",
       "      <td>8</td>\n",
       "      <td>3</td>\n",
       "    </tr>\n",
       "    <tr>\n",
       "      <th>No</th>\n",
       "      <td>8</td>\n",
       "      <td>8</td>\n",
       "    </tr>\n",
       "    <tr>\n",
       "      <th>Don't know</th>\n",
       "      <td>0</td>\n",
       "      <td>0</td>\n",
       "    </tr>\n",
       "  </tbody>\n",
       "</table>\n",
       "</div>"
      ],
      "text/plain": [
       "            2012  2021\n",
       "Yes            8     3\n",
       "No             8     8\n",
       "Don't know     0     0"
      ]
     },
     "execution_count": 159,
     "metadata": {},
     "output_type": "execute_result"
    },
    {
     "data": {
      "image/png": "[encoded data removed]",
      "text/plain": [
       "<Figure size 432x288 with 1 Axes>"
      ]
     },
     "metadata": {
      "needs_background": "light"
     },
     "output_type": "display_data"
    }
   ],
   "source": [
    "create_viz(df, [], 10, 'bar', 'Segmentation as preprocessing step', 'y/n', True)"
   ]
  },
  {
   "cell_type": "code",
   "execution_count": 160,
   "id": "179a2c08",
   "metadata": {
    "scrolled": true
   },
   "outputs": [
    {
     "data": {
      "text/html": [
       "<div>\n",
       "<style scoped>\n",
       "    .dataframe tbody tr th:only-of-type {\n",
       "        vertical-align: middle;\n",
       "    }\n",
       "\n",
       "    .dataframe tbody tr th {\n",
       "        vertical-align: top;\n",
       "    }\n",
       "\n",
       "    .dataframe thead th {\n",
       "        text-align: right;\n",
       "    }\n",
       "</style>\n",
       "<table border=\"1\" class=\"dataframe\">\n",
       "  <thead>\n",
       "    <tr style=\"text-align: right;\">\n",
       "      <th></th>\n",
       "      <th>2012</th>\n",
       "      <th>2021</th>\n",
       "    </tr>\n",
       "  </thead>\n",
       "  <tbody>\n",
       "    <tr>\n",
       "      <th>Public</th>\n",
       "      <td>4</td>\n",
       "      <td>7</td>\n",
       "    </tr>\n",
       "    <tr>\n",
       "      <th>Private</th>\n",
       "      <td>11</td>\n",
       "      <td>2</td>\n",
       "    </tr>\n",
       "    <tr>\n",
       "      <th>Don't know</th>\n",
       "      <td>1</td>\n",
       "      <td>2</td>\n",
       "    </tr>\n",
       "  </tbody>\n",
       "</table>\n",
       "</div>"
      ],
      "text/plain": [
       "            2012  2021\n",
       "Public         4     7\n",
       "Private       11     2\n",
       "Don't know     1     2"
      ]
     },
     "execution_count": 160,
     "metadata": {},
     "output_type": "execute_result"
    },
    {
     "data": {
      "image/png": "[encoded data removed]",
      "text/plain": [
       "<Figure size 432x288 with 1 Axes>"
      ]
     },
     "metadata": {
      "needs_background": "light"
     },
     "output_type": "display_data"
    }
   ],
   "source": [
    "create_viz(df, [], 15, 'bar', 'Dataset type', 'y/n', True)"
   ]
  },
  {
   "cell_type": "code",
   "execution_count": 161,
   "id": "ad683399",
   "metadata": {
    "scrolled": true
   },
   "outputs": [
    {
     "data": {
      "text/html": [
       "<div>\n",
       "<style scoped>\n",
       "    .dataframe tbody tr th:only-of-type {\n",
       "        vertical-align: middle;\n",
       "    }\n",
       "\n",
       "    .dataframe tbody tr th {\n",
       "        vertical-align: top;\n",
       "    }\n",
       "\n",
       "    .dataframe thead th {\n",
       "        text-align: right;\n",
       "    }\n",
       "</style>\n",
       "<table border=\"1\" class=\"dataframe\">\n",
       "  <thead>\n",
       "    <tr style=\"text-align: right;\">\n",
       "      <th></th>\n",
       "      <th>2012</th>\n",
       "      <th>2021</th>\n",
       "    </tr>\n",
       "  </thead>\n",
       "  <tbody>\n",
       "    <tr>\n",
       "      <th>Yes</th>\n",
       "      <td>9</td>\n",
       "      <td>8</td>\n",
       "    </tr>\n",
       "    <tr>\n",
       "      <th>No</th>\n",
       "      <td>7</td>\n",
       "      <td>3</td>\n",
       "    </tr>\n",
       "    <tr>\n",
       "      <th>Don't know</th>\n",
       "      <td>0</td>\n",
       "      <td>0</td>\n",
       "    </tr>\n",
       "  </tbody>\n",
       "</table>\n",
       "</div>"
      ],
      "text/plain": [
       "            2012  2021\n",
       "Yes            9     8\n",
       "No             7     3\n",
       "Don't know     0     0"
      ]
     },
     "execution_count": 161,
     "metadata": {},
     "output_type": "execute_result"
    },
    {
     "data": {
      "image/png": "[encoded data removed]",
      "text/plain": [
       "<Figure size 432x288 with 1 Axes>"
      ]
     },
     "metadata": {
      "needs_background": "light"
     },
     "output_type": "display_data"
    }
   ],
   "source": [
    "create_viz(df, [], 23, 'bar', 'Acknowledgment of funding', 'y/n', True)"
   ]
  },
  {
   "cell_type": "code",
   "execution_count": 162,
   "id": "91b67d9d",
   "metadata": {
    "scrolled": true
   },
   "outputs": [
    {
     "data": {
      "text/html": [
       "<div>\n",
       "<style scoped>\n",
       "    .dataframe tbody tr th:only-of-type {\n",
       "        vertical-align: middle;\n",
       "    }\n",
       "\n",
       "    .dataframe tbody tr th {\n",
       "        vertical-align: top;\n",
       "    }\n",
       "\n",
       "    .dataframe thead th {\n",
       "        text-align: right;\n",
       "    }\n",
       "</style>\n",
       "<table border=\"1\" class=\"dataframe\">\n",
       "  <thead>\n",
       "    <tr style=\"text-align: right;\">\n",
       "      <th></th>\n",
       "      <th>2012</th>\n",
       "      <th>2021</th>\n",
       "    </tr>\n",
       "  </thead>\n",
       "  <tbody>\n",
       "    <tr>\n",
       "      <th>SVM</th>\n",
       "      <td>7</td>\n",
       "      <td>0</td>\n",
       "    </tr>\n",
       "    <tr>\n",
       "      <th>Graph analysis</th>\n",
       "      <td>2</td>\n",
       "      <td>2</td>\n",
       "    </tr>\n",
       "    <tr>\n",
       "      <th>Supervised learning</th>\n",
       "      <td>0</td>\n",
       "      <td>1</td>\n",
       "    </tr>\n",
       "    <tr>\n",
       "      <th>Unsupervised learning</th>\n",
       "      <td>1</td>\n",
       "      <td>1</td>\n",
       "    </tr>\n",
       "    <tr>\n",
       "      <th>Transfer learning</th>\n",
       "      <td>0</td>\n",
       "      <td>1</td>\n",
       "    </tr>\n",
       "    <tr>\n",
       "      <th>Neural network</th>\n",
       "      <td>0</td>\n",
       "      <td>7</td>\n",
       "    </tr>\n",
       "    <tr>\n",
       "      <th>Other</th>\n",
       "      <td>10</td>\n",
       "      <td>4</td>\n",
       "    </tr>\n",
       "  </tbody>\n",
       "</table>\n",
       "</div>"
      ],
      "text/plain": [
       "                       2012  2021\n",
       "SVM                       7     0\n",
       "Graph analysis            2     2\n",
       "Supervised learning       0     1\n",
       "Unsupervised learning     1     1\n",
       "Transfer learning         0     1\n",
       "Neural network            0     7\n",
       "Other                    10     4"
      ]
     },
     "execution_count": 162,
     "metadata": {},
     "output_type": "execute_result"
    },
    {
     "data": {
      "image/png": "[encoded data removed]",
      "text/plain": [
       "<Figure size 432x288 with 1 Axes>"
      ]
     },
     "metadata": {
      "needs_background": "light"
     },
     "output_type": "display_data"
    }
   ],
   "source": [
    "create_viz(df, word_list, 8, 'barh', 'Classification method used', 'multiple choice', False)"
   ]
  },
  {
   "cell_type": "code",
   "execution_count": 151,
   "id": "9afea744",
   "metadata": {},
   "outputs": [
    {
     "data": {
      "text/html": [
       "<div>\n",
       "<style scoped>\n",
       "    .dataframe tbody tr th:only-of-type {\n",
       "        vertical-align: middle;\n",
       "    }\n",
       "\n",
       "    .dataframe tbody tr th {\n",
       "        vertical-align: top;\n",
       "    }\n",
       "\n",
       "    .dataframe thead th {\n",
       "        text-align: right;\n",
       "    }\n",
       "</style>\n",
       "<table border=\"1\" class=\"dataframe\">\n",
       "  <thead>\n",
       "    <tr style=\"text-align: right;\">\n",
       "      <th></th>\n",
       "      <th>2012</th>\n",
       "      <th>2021</th>\n",
       "    </tr>\n",
       "  </thead>\n",
       "  <tbody>\n",
       "    <tr>\n",
       "      <th>AUC</th>\n",
       "      <td>4</td>\n",
       "      <td>5</td>\n",
       "    </tr>\n",
       "    <tr>\n",
       "      <th>Specificity</th>\n",
       "      <td>4</td>\n",
       "      <td>4</td>\n",
       "    </tr>\n",
       "    <tr>\n",
       "      <th>Accuracy</th>\n",
       "      <td>10</td>\n",
       "      <td>7</td>\n",
       "    </tr>\n",
       "    <tr>\n",
       "      <th>Recall</th>\n",
       "      <td>0</td>\n",
       "      <td>0</td>\n",
       "    </tr>\n",
       "    <tr>\n",
       "      <th>F1 score</th>\n",
       "      <td>0</td>\n",
       "      <td>3</td>\n",
       "    </tr>\n",
       "    <tr>\n",
       "      <th>Sensitivity</th>\n",
       "      <td>5</td>\n",
       "      <td>5</td>\n",
       "    </tr>\n",
       "    <tr>\n",
       "      <th>Other</th>\n",
       "      <td>9</td>\n",
       "      <td>4</td>\n",
       "    </tr>\n",
       "  </tbody>\n",
       "</table>\n",
       "</div>"
      ],
      "text/plain": [
       "             2012  2021\n",
       "AUC             4     5\n",
       "Specificity     4     4\n",
       "Accuracy       10     7\n",
       "Recall          0     0\n",
       "F1 score        0     3\n",
       "Sensitivity     5     5\n",
       "Other           9     4"
      ]
     },
     "execution_count": 151,
     "metadata": {},
     "output_type": "execute_result"
    },
    {
     "data": {
      "image/png": "[encoded data removed]",
      "text/plain": [
       "<Figure size 432x288 with 1 Axes>"
      ]
     },
     "metadata": {
      "needs_background": "light"
     },
     "output_type": "display_data"
    }
   ],
   "source": [
    "create_viz(df, perf_list, 9,'barh', 'Performance measures used', 'multiple choice', False)"
   ]
  },
  {
   "cell_type": "code",
   "execution_count": 167,
   "id": "554b6de9",
   "metadata": {},
   "outputs": [
    {
     "data": {
      "text/html": [
       "<div>\n",
       "<style scoped>\n",
       "    .dataframe tbody tr th:only-of-type {\n",
       "        vertical-align: middle;\n",
       "    }\n",
       "\n",
       "    .dataframe tbody tr th {\n",
       "        vertical-align: top;\n",
       "    }\n",
       "\n",
       "    .dataframe thead th {\n",
       "        text-align: right;\n",
       "    }\n",
       "</style>\n",
       "<table border=\"1\" class=\"dataframe\">\n",
       "  <thead>\n",
       "    <tr style=\"text-align: right;\">\n",
       "      <th></th>\n",
       "      <th>Respect for persons</th>\n",
       "      <th>Benefience</th>\n",
       "      <th>Justice</th>\n",
       "      <th>Repect for law/public interest</th>\n",
       "    </tr>\n",
       "  </thead>\n",
       "  <tbody>\n",
       "    <tr>\n",
       "      <th>Yes</th>\n",
       "      <td>0</td>\n",
       "      <td>0</td>\n",
       "      <td>0</td>\n",
       "      <td>3</td>\n",
       "    </tr>\n",
       "    <tr>\n",
       "      <th>No</th>\n",
       "      <td>16</td>\n",
       "      <td>16</td>\n",
       "      <td>16</td>\n",
       "      <td>12</td>\n",
       "    </tr>\n",
       "    <tr>\n",
       "      <th>Don't know</th>\n",
       "      <td>0</td>\n",
       "      <td>0</td>\n",
       "      <td>0</td>\n",
       "      <td>1</td>\n",
       "    </tr>\n",
       "  </tbody>\n",
       "</table>\n",
       "</div>"
      ],
      "text/plain": [
       "            Respect for persons  Benefience  Justice  \\\n",
       "Yes                           0           0        0   \n",
       "No                           16          16       16   \n",
       "Don't know                    0           0        0   \n",
       "\n",
       "            Repect for law/public interest  \n",
       "Yes                                      3  \n",
       "No                                      12  \n",
       "Don't know                               1  "
      ]
     },
     "execution_count": 167,
     "metadata": {},
     "output_type": "execute_result"
    },
    {
     "data": {
      "image/png": "[encoded data removed]",
      "text/plain": [
       "<Figure size 432x288 with 1 Axes>"
      ]
     },
     "metadata": {
      "needs_background": "light"
     },
     "output_type": "display_data"
    }
   ],
   "source": [
    "create_ethics_viz(df, ethics_columns, 'barh', 'Mention of ethics 2012', 2012)"
   ]
  },
  {
   "cell_type": "code",
   "execution_count": 168,
   "id": "0c5a4225",
   "metadata": {},
   "outputs": [
    {
     "data": {
      "text/html": [
       "<div>\n",
       "<style scoped>\n",
       "    .dataframe tbody tr th:only-of-type {\n",
       "        vertical-align: middle;\n",
       "    }\n",
       "\n",
       "    .dataframe tbody tr th {\n",
       "        vertical-align: top;\n",
       "    }\n",
       "\n",
       "    .dataframe thead th {\n",
       "        text-align: right;\n",
       "    }\n",
       "</style>\n",
       "<table border=\"1\" class=\"dataframe\">\n",
       "  <thead>\n",
       "    <tr style=\"text-align: right;\">\n",
       "      <th></th>\n",
       "      <th>Respect for persons</th>\n",
       "      <th>Benefience</th>\n",
       "      <th>Justice</th>\n",
       "      <th>Repect for law/public interest</th>\n",
       "    </tr>\n",
       "  </thead>\n",
       "  <tbody>\n",
       "    <tr>\n",
       "      <th>Yes</th>\n",
       "      <td>0</td>\n",
       "      <td>2</td>\n",
       "      <td>0</td>\n",
       "      <td>9</td>\n",
       "    </tr>\n",
       "    <tr>\n",
       "      <th>No</th>\n",
       "      <td>11</td>\n",
       "      <td>9</td>\n",
       "      <td>11</td>\n",
       "      <td>2</td>\n",
       "    </tr>\n",
       "    <tr>\n",
       "      <th>Don't know</th>\n",
       "      <td>0</td>\n",
       "      <td>0</td>\n",
       "      <td>0</td>\n",
       "      <td>0</td>\n",
       "    </tr>\n",
       "  </tbody>\n",
       "</table>\n",
       "</div>"
      ],
      "text/plain": [
       "            Respect for persons  Benefience  Justice  \\\n",
       "Yes                           0           2        0   \n",
       "No                           11           9       11   \n",
       "Don't know                    0           0        0   \n",
       "\n",
       "            Repect for law/public interest  \n",
       "Yes                                      9  \n",
       "No                                       2  \n",
       "Don't know                               0  "
      ]
     },
     "execution_count": 168,
     "metadata": {},
     "output_type": "execute_result"
    },
    {
     "data": {
      "image/png": "[encoded data removed]",
      "text/plain": [
       "<Figure size 432x288 with 1 Axes>"
      ]
     },
     "metadata": {
      "needs_background": "light"
     },
     "output_type": "display_data"
    }
   ],
   "source": [
    "create_ethics_viz(df, ethics_columns, 'barh', 'Mention of ethics 2021', 2021)"
   ]
  },
  {
   "cell_type": "code",
   "execution_count": 112,
   "id": "b5599b7e",
   "metadata": {},
   "outputs": [],
   "source": []
  },
  {
   "cell_type": "code",
   "execution_count": null,
   "id": "3b623c85",
   "metadata": {},
   "outputs": [],
   "source": []
  }
 ],
 "metadata": {
  "kernelspec": {
   "display_name": "Python 3 (ipykernel)",
   "language": "python",
   "name": "python3"
  },
  "language_info": {
   "codemirror_mode": {
    "name": "ipython",
    "version": 3
   },
   "file_extension": ".py",
   "mimetype": "text/x-python",
   "name": "python",
   "nbconvert_exporter": "python",
   "pygments_lexer": "ipython3",
   "version": "3.9.7"
  }
 },
 "nbformat": 4,
 "nbformat_minor": 5
}
