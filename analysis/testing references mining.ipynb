{
 "cells": [
  {
   "cell_type": "code",
   "execution_count": 1,
   "id": "18e86c12",
   "metadata": {},
   "outputs": [],
   "source": [
    "import pandas as pd\n",
    "import re"
   ]
  },
  {
   "cell_type": "code",
   "execution_count": 2,
   "id": "34e40ca6",
   "metadata": {},
   "outputs": [],
   "source": [
    "#reading in files\n",
    "df_2012 = pd.read_csv(r'C:\\Users\\chris\\Desktop\\Value-Analysis-Thesis\\mining inital data\\database_miccai_2012.csv')\n",
    "df_2021 = pd.read_csv(r'C:\\Users\\chris\\Desktop\\Value-Analysis-Thesis\\mining inital data\\database_miccai_2021.csv')\n"
   ]
  },
  {
   "cell_type": "code",
   "execution_count": 3,
   "id": "87ee5de7",
   "metadata": {},
   "outputs": [],
   "source": [
    "#removing unnecessary index column\n",
    "df_2012 = df_2012.drop(\"Unnamed: 0\", axis = 1)\n",
    "df_2021 = df_2021.drop(\"Unnamed: 0\", axis = 1)"
   ]
  },
  {
   "cell_type": "code",
   "execution_count": 161,
   "id": "87e00d30",
   "metadata": {},
   "outputs": [],
   "source": [
    "#finding the references\n",
    "def find_reference(year, place):\n",
    "    reference_list = []\n",
    "    with open(place, \"r\", encoding = 'utf-8') as part:\n",
    "        article = part.read()\n",
    "        if year == 2012:\n",
    "            references = [i.start() for i in re.finditer(\"References\\n\\n1\", article)]\n",
    "            other_ref = [i.start() for i in re.finditer(\"References\\n\\n\\[1\\]\", article)]\n",
    "            all_ref = references + other_ref\n",
    "            all_ref.sort()\n",
    "            \n",
    "        if year == 2021:\n",
    "            all_ref = [i.start() for i in re.finditer(\"References\", article)]\n",
    "        for index in all_ref: \n",
    "            reference_list.append(article[index:index+8000])\n",
    "\n",
    "    return reference_list\n"
   ]
  },
  {
   "cell_type": "code",
   "execution_count": 162,
   "id": "e63a4e5a",
   "metadata": {},
   "outputs": [],
   "source": [
    "#saving the references\n",
    "ref_list2012 = find_reference(2012, r\"C:\\Users\\chris\\Desktop\\Value-Analysis-Thesis\\combining proceedings txt\\miccai_2012_full_txt.txt\")\n",
    "ref_list2021 = find_reference(2021, r\"C:\\Users\\chris\\Desktop\\Value-Analysis-Thesis\\combining proceedings txt\\miccai_2021_full_txt.txt\")"
   ]
  },
  {
   "cell_type": "code",
   "execution_count": 164,
   "id": "8ff0ea0a",
   "metadata": {
    "scrolled": false
   },
   "outputs": [],
   "source": [
    "def create_ref_dic(ref_list):\n",
    "    year={}\n",
    "    i=0\n",
    "    for element in ref_list:\n",
    "        year[i] = []\n",
    "        references = [i.start() for i in re.finditer(\"\\([0-9][0-9][0-9][0-9]\\)\", element)]\n",
    "        for index in references:\n",
    "            year.get(i).append(element[index+1:index+5])\n",
    "        i+=1\n",
    "    return year\n",
    "#checking manually the number of references seems to match for 2012! YAY!\n",
    "#for 2021 I see the first one is technically wrong, there is a link that has no year, so the number doesn't match the\n",
    "#number of actual references, but does match the number of references with year which I suppose is what I'm interested in\n",
    "#but looks like I take enough of the text to catch everything"
   ]
  },
  {
   "cell_type": "code",
   "execution_count": 165,
   "id": "06a91840",
   "metadata": {},
   "outputs": [],
   "source": [
    "ref_dic2012 = create_ref_dic(ref_list2012)\n",
    "ref_dic2021 = create_ref_dic(ref_list2021)"
   ]
  },
  {
   "cell_type": "markdown",
   "id": "bd29ac9f",
   "metadata": {},
   "source": [
    "Not too bad. Think next steps is to add this "
   ]
  }
 ],
 "metadata": {
  "kernelspec": {
   "display_name": "Python 3 (ipykernel)",
   "language": "python",
   "name": "python3"
  },
  "language_info": {
   "codemirror_mode": {
    "name": "ipython",
    "version": 3
   },
   "file_extension": ".py",
   "mimetype": "text/x-python",
   "name": "python",
   "nbconvert_exporter": "python",
   "pygments_lexer": "ipython3",
   "version": "3.9.7"
  }
 },
 "nbformat": 4,
 "nbformat_minor": 5
}
