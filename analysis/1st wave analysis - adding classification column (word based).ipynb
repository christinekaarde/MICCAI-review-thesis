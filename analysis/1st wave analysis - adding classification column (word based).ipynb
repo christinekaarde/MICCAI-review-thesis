{
 "cells": [
  {
   "cell_type": "code",
   "execution_count": 24,
   "id": "b7e01b42",
   "metadata": {},
   "outputs": [],
   "source": [
    "import pandas as pd"
   ]
  },
  {
   "cell_type": "code",
   "execution_count": 25,
   "id": "412a4b2e",
   "metadata": {},
   "outputs": [],
   "source": [
    "#reading in the files - needs to have the filenames/placement updated!\n",
    "\n",
    "df_2012 = pd.read_csv(r'C:\\Users\\chris\\Desktop\\Value-Analysis-Thesis\\mining inital data\\miccai_2012.csv')\n",
    "df_2021 = pd.read_csv(r'C:\\Users\\chris\\Desktop\\Value-Analysis-Thesis\\mining inital data\\miccai_2021.csv')"
   ]
  },
  {
   "cell_type": "code",
   "execution_count": 26,
   "id": "de309d00",
   "metadata": {},
   "outputs": [
    {
     "name": "stdout",
     "output_type": "stream",
     "text": [
      "<class 'pandas.core.frame.DataFrame'>\n",
      "Int64Index: 252 entries, 0 to 252\n",
      "Data columns (total 6 columns):\n",
      " #   Column               Non-Null Count  Dtype  \n",
      "---  ------               --------------  -----  \n",
      " 0   Unnamed: 0           252 non-null    int64  \n",
      " 1   Title                252 non-null    object \n",
      " 2   Authors              252 non-null    object \n",
      " 3   Page numbers         252 non-null    object \n",
      " 4   DOI                  252 non-null    object \n",
      " 5   Year of publication  252 non-null    float64\n",
      "dtypes: float64(1), int64(1), object(4)\n",
      "memory usage: 13.8+ KB\n"
     ]
    }
   ],
   "source": [
    "#dropping erratum article from 2012\n",
    "df_2012.drop(df_2012[df_2012[\"Title\"].str.contains(\"Erratum\")].index, inplace = True)\n",
    "df_2012.info()"
   ]
  },
  {
   "cell_type": "code",
   "execution_count": 27,
   "id": "61b78600",
   "metadata": {},
   "outputs": [
    {
     "name": "stdout",
     "output_type": "stream",
     "text": [
      "<class 'pandas.core.frame.DataFrame'>\n",
      "Int64Index: 532 entries, 0 to 535\n",
      "Data columns (total 6 columns):\n",
      " #   Column               Non-Null Count  Dtype \n",
      "---  ------               --------------  ----- \n",
      " 0   Unnamed: 0           532 non-null    int64 \n",
      " 1   Title                532 non-null    object\n",
      " 2   Authors              532 non-null    object\n",
      " 3   Page numbers         532 non-null    object\n",
      " 4   DOI                  532 non-null    object\n",
      " 5   Year of publication  532 non-null    int64 \n",
      "dtypes: int64(2), object(4)\n",
      "memory usage: 29.1+ KB\n"
     ]
    }
   ],
   "source": [
    "#dropping corrections to articles from 2021 - still one more article found than according to \n",
    "#description on Springer!\n",
    "\n",
    "df_2021.drop(df_2021[df_2021[\"Title\"].str.contains(\"Correction to\")].index, inplace=True)\n",
    "df_2021.info()"
   ]
  },
  {
   "cell_type": "code",
   "execution_count": 28,
   "id": "fa84b105",
   "metadata": {},
   "outputs": [],
   "source": [
    "#looks at the titles and checks if the word classification, prediction or detection are present\n",
    "#creates a list of 0's and 1's accordingly\n",
    "def titleAnalysis(df):\n",
    "    class_list =[]\n",
    "    for index in df['Title']:\n",
    "        if index.lower().find(\"classification\") > 0 or index.lower().find(\"prediction\") > 0 or index.lower().find(\"detection\") > 0:\n",
    "            class_list.append(1)\n",
    "        else:\n",
    "            class_list.append(0)\n",
    "    return class_list"
   ]
  },
  {
   "cell_type": "code",
   "execution_count": 29,
   "id": "148f9e6d",
   "metadata": {},
   "outputs": [],
   "source": [
    "#calls method for inital title analysis and adds list to the dataframe\n",
    "classification_list = titleAnalysis(df_2012)\n",
    "\n",
    "df_2012['Classification indicated'] = classification_list"
   ]
  },
  {
   "cell_type": "code",
   "execution_count": 30,
   "id": "748bba88",
   "metadata": {},
   "outputs": [
    {
     "data": {
      "text/plain": [
       "Unnamed: 0                  35\n",
       "Title                       35\n",
       "Authors                     35\n",
       "Page numbers                35\n",
       "DOI                         35\n",
       "Year of publication         35\n",
       "Classification indicated    35\n",
       "dtype: int64"
      ]
     },
     "execution_count": 30,
     "metadata": {},
     "output_type": "execute_result"
    }
   ],
   "source": [
    "#apparently this found 35 articles\n",
    "df_2012[df_2012['Classification indicated'] == 1].count()"
   ]
  },
  {
   "cell_type": "code",
   "execution_count": 31,
   "id": "406208bd",
   "metadata": {},
   "outputs": [],
   "source": [
    "#now replicating for 2021\n",
    "\n",
    "classification_list = titleAnalysis(df_2021)\n",
    "\n",
    "df_2021['Classification indicated'] = classification_list"
   ]
  },
  {
   "cell_type": "code",
   "execution_count": 32,
   "id": "f7b3aef4",
   "metadata": {},
   "outputs": [
    {
     "data": {
      "text/plain": [
       "Unnamed: 0                  104\n",
       "Title                       104\n",
       "Authors                     104\n",
       "Page numbers                104\n",
       "DOI                         104\n",
       "Year of publication         104\n",
       "Classification indicated    104\n",
       "dtype: int64"
      ]
     },
     "execution_count": 32,
     "metadata": {},
     "output_type": "execute_result"
    }
   ],
   "source": [
    "#found 104 articles in 2021\n",
    "df_2021[df_2021['Classification indicated'] == 1].count()"
   ]
  },
  {
   "cell_type": "code",
   "execution_count": 33,
   "id": "f80516af",
   "metadata": {},
   "outputs": [],
   "source": [
    "#this should probably output an edited csv for next section to work on!\n",
    "df_2012.to_csv(\"miccai_2012_first_wave.csv\")\n",
    "df_2021.to_csv(\"miccai_2021_first_wave.csv\")"
   ]
  },
  {
   "cell_type": "code",
   "execution_count": 34,
   "id": "ed8a19e5",
   "metadata": {},
   "outputs": [
    {
     "name": "stdout",
     "output_type": "stream",
     "text": [
      "<class 'pandas.core.frame.DataFrame'>\n",
      "Int64Index: 532 entries, 0 to 535\n",
      "Data columns (total 7 columns):\n",
      " #   Column                    Non-Null Count  Dtype \n",
      "---  ------                    --------------  ----- \n",
      " 0   Unnamed: 0                532 non-null    int64 \n",
      " 1   Title                     532 non-null    object\n",
      " 2   Authors                   532 non-null    object\n",
      " 3   Page numbers              532 non-null    object\n",
      " 4   DOI                       532 non-null    object\n",
      " 5   Year of publication       532 non-null    int64 \n",
      " 6   Classification indicated  532 non-null    int64 \n",
      "dtypes: int64(3), object(4)\n",
      "memory usage: 33.2+ KB\n"
     ]
    }
   ],
   "source": [
    "df_2021.info()"
   ]
  },
  {
   "cell_type": "code",
   "execution_count": null,
   "id": "ef4b2f63",
   "metadata": {},
   "outputs": [],
   "source": []
  }
 ],
 "metadata": {
  "kernelspec": {
   "display_name": "Python 3 (ipykernel)",
   "language": "python",
   "name": "python3"
  },
  "language_info": {
   "codemirror_mode": {
    "name": "ipython",
    "version": 3
   },
   "file_extension": ".py",
   "mimetype": "text/x-python",
   "name": "python",
   "nbconvert_exporter": "python",
   "pygments_lexer": "ipython3",
   "version": "3.9.7"
  }
 },
 "nbformat": 4,
 "nbformat_minor": 5
}
