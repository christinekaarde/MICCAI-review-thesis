{
 "cells": [
  {
   "cell_type": "code",
   "execution_count": 43,
   "id": "4c721e0d",
   "metadata": {},
   "outputs": [],
   "source": [
    "def scan_abstract(file_name):\n",
    "    abstract_indicator = []\n",
    "    counter = 0\n",
    "    article = open(file_name, \"r\")\n",
    "    abstract_indicator.append(0)\n",
    "    abstract_found = False\n",
    "    lines = article.read()\n",
    "   \n",
    "    lines = lines[lines.find(\"Abstract\"):lines.find(\"Introduction\")] #should narrow down some at least\n",
    "    #presumably the abstract is before the introduction\n",
    "    #print(lines)\n",
    "    \n",
    "    if lines.find(\"classification\") > 0 or lines.find(\"prediction\") > 0:\n",
    "        #print(\"classificaiton detected\")\n",
    "        abstract_indicator[counter] = 1\n",
    "\n",
    "    return abstract_indicator\n",
    "\n",
    "\n",
    "    \n",
    "        "
   ]
  },
  {
   "cell_type": "code",
   "execution_count": 44,
   "id": "d1d8863a",
   "metadata": {},
   "outputs": [],
   "source": [
    "test = scan_abstract(\"abstract mining positive.txt\")"
   ]
  },
  {
   "cell_type": "code",
   "execution_count": 45,
   "id": "33c175f6",
   "metadata": {},
   "outputs": [
    {
     "data": {
      "text/plain": [
       "[1]"
      ]
     },
     "execution_count": 45,
     "metadata": {},
     "output_type": "execute_result"
    }
   ],
   "source": [
    "test"
   ]
  },
  {
   "cell_type": "code",
   "execution_count": null,
   "id": "7f825002",
   "metadata": {},
   "outputs": [],
   "source": []
  }
 ],
 "metadata": {
  "kernelspec": {
   "display_name": "Python 3 (ipykernel)",
   "language": "python",
   "name": "python3"
  },
  "language_info": {
   "codemirror_mode": {
    "name": "ipython",
    "version": 3
   },
   "file_extension": ".py",
   "mimetype": "text/x-python",
   "name": "python",
   "nbconvert_exporter": "python",
   "pygments_lexer": "ipython3",
   "version": "3.9.7"
  }
 },
 "nbformat": 4,
 "nbformat_minor": 5
}
