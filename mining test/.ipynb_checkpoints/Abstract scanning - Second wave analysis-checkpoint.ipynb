{
 "cells": [
  {
   "cell_type": "code",
   "execution_count": 58,
   "id": "e190c40b",
   "metadata": {},
   "outputs": [],
   "source": [
    "def scan_abstract(file_list):\n",
    "    abstract_indicator = []\n",
    "    for article in file_list:\n",
    "        article = open(article, \"r\")\n",
    "        lines = article.read()\n",
    "        lines = lines[lines.find(\"Abstract\"):lines.find(\"Introduction\")] #should narrow down some at least\n",
    "    #presumably the abstract is before the introduction\n",
    "    #print(lines)\n",
    "    \n",
    "        if lines.find(\"classification\") > 0 or lines.find(\"prediction\") > 0 or lines.find(\"detection\") > 0:\n",
    "        #print(\"classificaiton detected\")\n",
    "            abstract_indicator.append(1)\n",
    "        else:\n",
    "            abstract_indicator.append(0)\n",
    "    return abstract_indicator\n",
    "\n",
    "#this should work as long as I have all the texts in separate files\n",
    "# and as txt files. Not sure how it will cope with pdf files - nope, that does not work\n",
    "# but could presumably read them as txt, get Dad to show me how - and then need to bundle them\n",
    "# can I also simply convert epub to txt?\n",
    "#I wonder if calibre can do that? would appear so!\n",
    "\n",
    "    \n"
   ]
  },
  {
   "cell_type": "code",
   "execution_count": 59,
   "id": "e5669d9d",
   "metadata": {},
   "outputs": [],
   "source": [
    "file_list = [\"abstract mining positive.txt\", \"test abstract mining.txt\"]\n",
    "test = scan_abstract(file_list)"
   ]
  },
  {
   "cell_type": "code",
   "execution_count": 60,
   "id": "4d31bb85",
   "metadata": {},
   "outputs": [
    {
     "data": {
      "text/plain": [
       "[1, 0]"
      ]
     },
     "execution_count": 60,
     "metadata": {},
     "output_type": "execute_result"
    }
   ],
   "source": [
    "test"
   ]
  },
  {
   "cell_type": "code",
   "execution_count": null,
   "id": "16b796ca",
   "metadata": {},
   "outputs": [],
   "source": []
  }
 ],
 "metadata": {
  "kernelspec": {
   "display_name": "Python 3 (ipykernel)",
   "language": "python",
   "name": "python3"
  },
  "language_info": {
   "codemirror_mode": {
    "name": "ipython",
    "version": 3
   },
   "file_extension": ".py",
   "mimetype": "text/x-python",
   "name": "python",
   "nbconvert_exporter": "python",
   "pygments_lexer": "ipython3",
   "version": "3.9.7"
  }
 },
 "nbformat": 4,
 "nbformat_minor": 5
}
