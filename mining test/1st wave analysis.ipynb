{
 "cells": [
  {
   "cell_type": "code",
   "execution_count": 1,
   "id": "b7e01b42",
   "metadata": {},
   "outputs": [],
   "source": [
    "import pandas as pd"
   ]
  },
  {
   "cell_type": "code",
   "execution_count": 3,
   "id": "412a4b2e",
   "metadata": {},
   "outputs": [],
   "source": [
    "#reading in the files\n",
    "df_2012 = pd.read_csv('miccai_2012.csv')\n",
    "df_2021 = pd.read_csv('miccai_2021.csv')"
   ]
  },
  {
   "cell_type": "code",
   "execution_count": 14,
   "id": "7261fb7a",
   "metadata": {},
   "outputs": [
    {
     "name": "stdout",
     "output_type": "stream",
     "text": [
      "<class 'pandas.core.frame.DataFrame'>\n",
      "Int64Index: 252 entries, 0 to 252\n",
      "Data columns (total 6 columns):\n",
      " #   Column               Non-Null Count  Dtype  \n",
      "---  ------               --------------  -----  \n",
      " 0   Unnamed: 0           252 non-null    int64  \n",
      " 1   Title                252 non-null    object \n",
      " 2   Authors              252 non-null    object \n",
      " 3   Page numbers         252 non-null    object \n",
      " 4   DOI                  252 non-null    object \n",
      " 5   Year of publication  252 non-null    float64\n",
      "dtypes: float64(1), int64(1), object(4)\n",
      "memory usage: 13.8+ KB\n"
     ]
    }
   ],
   "source": [
    "#dropping erratum article from 2012\n",
    "df_2012.drop(df_2012[df_2012[\"Title\"].str.contains(\"Erratum\")].index, inplace = True)\n",
    "df_2012.info()"
   ]
  },
  {
   "cell_type": "code",
   "execution_count": 15,
   "id": "f3ed0cbb",
   "metadata": {},
   "outputs": [
    {
     "name": "stdout",
     "output_type": "stream",
     "text": [
      "<class 'pandas.core.frame.DataFrame'>\n",
      "Int64Index: 532 entries, 0 to 535\n",
      "Data columns (total 6 columns):\n",
      " #   Column               Non-Null Count  Dtype \n",
      "---  ------               --------------  ----- \n",
      " 0   Unnamed: 0           532 non-null    int64 \n",
      " 1   Title                532 non-null    object\n",
      " 2   Authors              532 non-null    object\n",
      " 3   Page numbers         532 non-null    object\n",
      " 4   DOI                  532 non-null    object\n",
      " 5   Year of publication  532 non-null    int64 \n",
      "dtypes: int64(2), object(4)\n",
      "memory usage: 29.1+ KB\n"
     ]
    }
   ],
   "source": [
    "#dropping corrections to articles from 2021 - still one more article found than according to \n",
    "#description on Springer!\n",
    "\n",
    "df_2021.drop(df_2021[df_2021[\"Title\"].str.contains(\"Correction to\")].index, inplace=True)\n",
    "df_2021.info()"
   ]
  },
  {
   "cell_type": "code",
   "execution_count": 27,
   "id": "fa84b105",
   "metadata": {},
   "outputs": [],
   "source": [
    "#looks at the titles and checks if the word classification, prediction or detection are present\n",
    "#creates a list of 0's and 1's accordingly\n",
    "def titleAnalysis(df):\n",
    "    class_list =[]\n",
    "    for index in df['Title']:\n",
    "        if index.lower().find(\"classification\") > 0 or index.lower().find(\"prediction\") > 0 or index.lower().find(\"detection\") > 0:\n",
    "            class_list.append(1)\n",
    "        else:\n",
    "            class_list.append(0)\n",
    "    return class_list"
   ]
  },
  {
   "cell_type": "code",
   "execution_count": 29,
   "id": "148f9e6d",
   "metadata": {},
   "outputs": [],
   "source": [
    "#calls method for inital title analysis and adds list to the dataframe\n",
    "classification_list = titleAnalysis(df_2012)\n",
    "\n",
    "df_2012['Classification indicated'] = classification_list"
   ]
  },
  {
   "cell_type": "code",
   "execution_count": 31,
   "id": "ce4f99f3",
   "metadata": {},
   "outputs": [
    {
     "data": {
      "text/html": [
       "<div>\n",
       "<style scoped>\n",
       "    .dataframe tbody tr th:only-of-type {\n",
       "        vertical-align: middle;\n",
       "    }\n",
       "\n",
       "    .dataframe tbody tr th {\n",
       "        vertical-align: top;\n",
       "    }\n",
       "\n",
       "    .dataframe thead th {\n",
       "        text-align: right;\n",
       "    }\n",
       "</style>\n",
       "<table border=\"1\" class=\"dataframe\">\n",
       "  <thead>\n",
       "    <tr style=\"text-align: right;\">\n",
       "      <th></th>\n",
       "      <th>Unnamed: 0</th>\n",
       "      <th>Title</th>\n",
       "      <th>Authors</th>\n",
       "      <th>Page numbers</th>\n",
       "      <th>DOI</th>\n",
       "      <th>Year of publication</th>\n",
       "      <th>Classification indicated</th>\n",
       "    </tr>\n",
       "  </thead>\n",
       "  <tbody>\n",
       "    <tr>\n",
       "      <th>0</th>\n",
       "      <td>0</td>\n",
       "      <td>Reliable Assessment of Perfusivity and Diffusi...</td>\n",
       "      <td>M. Freiman, S. D. Voss, R. V. Mulkern, J. M. P...</td>\n",
       "      <td>1-9</td>\n",
       "      <td>/chapter/10.1007/978-3-642-33415-3_1</td>\n",
       "      <td>2012.0</td>\n",
       "      <td>0</td>\n",
       "    </tr>\n",
       "    <tr>\n",
       "      <th>1</th>\n",
       "      <td>1</td>\n",
       "      <td>Multi-organ Abdominal CT Segmentation Using Hi...</td>\n",
       "      <td>Robin Wolz, Chengwen Chu, Kazunari Misawa, Ken...</td>\n",
       "      <td>10-17</td>\n",
       "      <td>/chapter/10.1007/978-3-642-33415-3_2</td>\n",
       "      <td>2012.0</td>\n",
       "      <td>0</td>\n",
       "    </tr>\n",
       "    <tr>\n",
       "      <th>2</th>\n",
       "      <td>2</td>\n",
       "      <td>Radiation-Free Drill Guidance in Interlocking ...</td>\n",
       "      <td>Benoit Diotte, Pascal Fallavollita, Lejing Wan...</td>\n",
       "      <td>18-25</td>\n",
       "      <td>/chapter/10.1007/978-3-642-33415-3_3</td>\n",
       "      <td>2012.0</td>\n",
       "      <td>0</td>\n",
       "    </tr>\n",
       "    <tr>\n",
       "      <th>3</th>\n",
       "      <td>3</td>\n",
       "      <td>Developing Essential Rigid-Flexible Outer Shea...</td>\n",
       "      <td>Siyang Zuo, Takeshi Ohdaira, Kenta Kuwana, Yos...</td>\n",
       "      <td>26-33</td>\n",
       "      <td>/chapter/10.1007/978-3-642-33415-3_4</td>\n",
       "      <td>2012.0</td>\n",
       "      <td>0</td>\n",
       "    </tr>\n",
       "    <tr>\n",
       "      <th>4</th>\n",
       "      <td>4</td>\n",
       "      <td>Surgical Gesture Classification from Video Data</td>\n",
       "      <td>BenjamÃ­n BÃ©jar Haro, Luca Zappella, RenÃ© Vidal</td>\n",
       "      <td>34-41</td>\n",
       "      <td>/chapter/10.1007/978-3-642-33415-3_5</td>\n",
       "      <td>2012.0</td>\n",
       "      <td>1</td>\n",
       "    </tr>\n",
       "  </tbody>\n",
       "</table>\n",
       "</div>"
      ],
      "text/plain": [
       "   Unnamed: 0                                              Title  \\\n",
       "0           0  Reliable Assessment of Perfusivity and Diffusi...   \n",
       "1           1  Multi-organ Abdominal CT Segmentation Using Hi...   \n",
       "2           2  Radiation-Free Drill Guidance in Interlocking ...   \n",
       "3           3  Developing Essential Rigid-Flexible Outer Shea...   \n",
       "4           4    Surgical Gesture Classification from Video Data   \n",
       "\n",
       "                                             Authors Page numbers  \\\n",
       "0  M. Freiman, S. D. Voss, R. V. Mulkern, J. M. P...          1-9   \n",
       "1  Robin Wolz, Chengwen Chu, Kazunari Misawa, Ken...        10-17   \n",
       "2  Benoit Diotte, Pascal Fallavollita, Lejing Wan...        18-25   \n",
       "3  Siyang Zuo, Takeshi Ohdaira, Kenta Kuwana, Yos...        26-33   \n",
       "4  BenjamÃ­n BÃ©jar Haro, Luca Zappella, RenÃ© Vidal        34-41   \n",
       "\n",
       "                                    DOI  Year of publication  \\\n",
       "0  /chapter/10.1007/978-3-642-33415-3_1               2012.0   \n",
       "1  /chapter/10.1007/978-3-642-33415-3_2               2012.0   \n",
       "2  /chapter/10.1007/978-3-642-33415-3_3               2012.0   \n",
       "3  /chapter/10.1007/978-3-642-33415-3_4               2012.0   \n",
       "4  /chapter/10.1007/978-3-642-33415-3_5               2012.0   \n",
       "\n",
       "   Classification indicated  \n",
       "0                         0  \n",
       "1                         0  \n",
       "2                         0  \n",
       "3                         0  \n",
       "4                         1  "
      ]
     },
     "execution_count": 31,
     "metadata": {},
     "output_type": "execute_result"
    }
   ],
   "source": [
    "#just a check that it seemed to work\n",
    "df_2012.head()"
   ]
  },
  {
   "cell_type": "code",
   "execution_count": 33,
   "id": "748bba88",
   "metadata": {},
   "outputs": [
    {
     "data": {
      "text/plain": [
       "Unnamed: 0                  35\n",
       "Title                       35\n",
       "Authors                     35\n",
       "Page numbers                35\n",
       "DOI                         35\n",
       "Year of publication         35\n",
       "Classification indicated    35\n",
       "dtype: int64"
      ]
     },
     "execution_count": 33,
     "metadata": {},
     "output_type": "execute_result"
    }
   ],
   "source": [
    "#apparently this found 35 articles\n",
    "df_2012[df_2012['Classification indicated'] == 1].count()"
   ]
  },
  {
   "cell_type": "code",
   "execution_count": 34,
   "id": "406208bd",
   "metadata": {},
   "outputs": [
    {
     "data": {
      "text/html": [
       "<div>\n",
       "<style scoped>\n",
       "    .dataframe tbody tr th:only-of-type {\n",
       "        vertical-align: middle;\n",
       "    }\n",
       "\n",
       "    .dataframe tbody tr th {\n",
       "        vertical-align: top;\n",
       "    }\n",
       "\n",
       "    .dataframe thead th {\n",
       "        text-align: right;\n",
       "    }\n",
       "</style>\n",
       "<table border=\"1\" class=\"dataframe\">\n",
       "  <thead>\n",
       "    <tr style=\"text-align: right;\">\n",
       "      <th></th>\n",
       "      <th>Unnamed: 0</th>\n",
       "      <th>Title</th>\n",
       "      <th>Authors</th>\n",
       "      <th>Page numbers</th>\n",
       "      <th>DOI</th>\n",
       "      <th>Year of publication</th>\n",
       "      <th>Classification indicated</th>\n",
       "    </tr>\n",
       "  </thead>\n",
       "  <tbody>\n",
       "    <tr>\n",
       "      <th>0</th>\n",
       "      <td>0</td>\n",
       "      <td>Noisy Labels are Treasure: Mean-Teacher-Assist...</td>\n",
       "      <td>Zhe Xu, Donghuan Lu, Yixin Wang, Jie Luo, Jaga...</td>\n",
       "      <td>3-13</td>\n",
       "      <td>/chapter/10.1007/978-3-030-87193-2_1</td>\n",
       "      <td>2021</td>\n",
       "      <td>0</td>\n",
       "    </tr>\n",
       "    <tr>\n",
       "      <th>1</th>\n",
       "      <td>1</td>\n",
       "      <td>TransFuse: Fusing Transformers and CNNs for Me...</td>\n",
       "      <td>Yundong Zhang, Huiye Liu, Qiang Hu</td>\n",
       "      <td>14-24</td>\n",
       "      <td>/chapter/10.1007/978-3-030-87193-2_2</td>\n",
       "      <td>2021</td>\n",
       "      <td>0</td>\n",
       "    </tr>\n",
       "    <tr>\n",
       "      <th>2</th>\n",
       "      <td>2</td>\n",
       "      <td>Pancreas CT Segmentation by Predictive Phenoty...</td>\n",
       "      <td>Yucheng Tang, Riqiang Gao, Hohin Lee, Qi Yang,...</td>\n",
       "      <td>25-35</td>\n",
       "      <td>/chapter/10.1007/978-3-030-87193-2_3</td>\n",
       "      <td>2021</td>\n",
       "      <td>0</td>\n",
       "    </tr>\n",
       "    <tr>\n",
       "      <th>3</th>\n",
       "      <td>3</td>\n",
       "      <td>Medical Transformer: Gated Axial-Attention for...</td>\n",
       "      <td>Jeya Maria Jose Valanarasu, Poojan Oza, Ilker ...</td>\n",
       "      <td>36-46</td>\n",
       "      <td>/chapter/10.1007/978-3-030-87193-2_4</td>\n",
       "      <td>2021</td>\n",
       "      <td>0</td>\n",
       "    </tr>\n",
       "    <tr>\n",
       "      <th>4</th>\n",
       "      <td>4</td>\n",
       "      <td>Anatomy-Constrained Contrastive Learning for S...</td>\n",
       "      <td>Bo Zhou, Chi Liu, James S. Duncan</td>\n",
       "      <td>47-56</td>\n",
       "      <td>/chapter/10.1007/978-3-030-87193-2_5</td>\n",
       "      <td>2021</td>\n",
       "      <td>0</td>\n",
       "    </tr>\n",
       "  </tbody>\n",
       "</table>\n",
       "</div>"
      ],
      "text/plain": [
       "   Unnamed: 0                                              Title  \\\n",
       "0           0  Noisy Labels are Treasure: Mean-Teacher-Assist...   \n",
       "1           1  TransFuse: Fusing Transformers and CNNs for Me...   \n",
       "2           2  Pancreas CT Segmentation by Predictive Phenoty...   \n",
       "3           3  Medical Transformer: Gated Axial-Attention for...   \n",
       "4           4  Anatomy-Constrained Contrastive Learning for S...   \n",
       "\n",
       "                                             Authors Page numbers  \\\n",
       "0  Zhe Xu, Donghuan Lu, Yixin Wang, Jie Luo, Jaga...         3-13   \n",
       "1                 Yundong Zhang, Huiye Liu, Qiang Hu        14-24   \n",
       "2  Yucheng Tang, Riqiang Gao, Hohin Lee, Qi Yang,...        25-35   \n",
       "3  Jeya Maria Jose Valanarasu, Poojan Oza, Ilker ...        36-46   \n",
       "4                  Bo Zhou, Chi Liu, James S. Duncan        47-56   \n",
       "\n",
       "                                    DOI  Year of publication  \\\n",
       "0  /chapter/10.1007/978-3-030-87193-2_1                 2021   \n",
       "1  /chapter/10.1007/978-3-030-87193-2_2                 2021   \n",
       "2  /chapter/10.1007/978-3-030-87193-2_3                 2021   \n",
       "3  /chapter/10.1007/978-3-030-87193-2_4                 2021   \n",
       "4  /chapter/10.1007/978-3-030-87193-2_5                 2021   \n",
       "\n",
       "   Classification indicated  \n",
       "0                         0  \n",
       "1                         0  \n",
       "2                         0  \n",
       "3                         0  \n",
       "4                         0  "
      ]
     },
     "execution_count": 34,
     "metadata": {},
     "output_type": "execute_result"
    }
   ],
   "source": [
    "#now replicating for 2021\n",
    "\n",
    "classification_list = titleAnalysis(df_2021)\n",
    "\n",
    "df_2021['Classification indicated'] = classification_list\n"
   ]
  },
  {
   "cell_type": "code",
   "execution_count": 35,
   "id": "f7b3aef4",
   "metadata": {},
   "outputs": [
    {
     "data": {
      "text/plain": [
       "Unnamed: 0                  104\n",
       "Title                       104\n",
       "Authors                     104\n",
       "Page numbers                104\n",
       "DOI                         104\n",
       "Year of publication         104\n",
       "Classification indicated    104\n",
       "dtype: int64"
      ]
     },
     "execution_count": 35,
     "metadata": {},
     "output_type": "execute_result"
    }
   ],
   "source": [
    "#found 104 articles in 2021\n",
    "df_2021[df_2021['Classification indicated'] == 1].count()"
   ]
  },
  {
   "cell_type": "code",
   "execution_count": 36,
   "id": "f80516af",
   "metadata": {},
   "outputs": [],
   "source": [
    "#this should probably output an edited csv for next section to work on!\n",
    "df_2012.to_csv(\"miccai_2012_first_wave.csv\")\n",
    "df_2021.to_csv(\"miccai_2021_first_wave.csv\")"
   ]
  },
  {
   "cell_type": "code",
   "execution_count": null,
   "id": "4ebfdc01",
   "metadata": {},
   "outputs": [],
   "source": []
  }
 ],
 "metadata": {
  "kernelspec": {
   "display_name": "Python 3 (ipykernel)",
   "language": "python",
   "name": "python3"
  },
  "language_info": {
   "codemirror_mode": {
    "name": "ipython",
    "version": 3
   },
   "file_extension": ".py",
   "mimetype": "text/x-python",
   "name": "python",
   "nbconvert_exporter": "python",
   "pygments_lexer": "ipython3",
   "version": "3.9.7"
  }
 },
 "nbformat": 4,
 "nbformat_minor": 5
}
