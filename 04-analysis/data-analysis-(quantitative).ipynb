{
 "cells": [
  {
   "cell_type": "code",
   "execution_count": 32,
   "id": "a31e1ade",
   "metadata": {},
   "outputs": [],
   "source": [
    "import pandas as pd\n",
    "import matplotlib.pyplot as plt\n",
    "import numpy as np\n",
    "import seaborn as sns"
   ]
  },
  {
   "cell_type": "code",
   "execution_count": 33,
   "id": "a643561e",
   "metadata": {},
   "outputs": [],
   "source": [
    "#reading in file\n",
    "df = pd.read_csv('annotations_data.csv')"
   ]
  },
  {
   "cell_type": "markdown",
   "id": "8c7d30d3",
   "metadata": {},
   "source": [
    "## Code for creating visualisations"
   ]
  },
  {
   "cell_type": "code",
   "execution_count": 3,
   "id": "af5311ea",
   "metadata": {},
   "outputs": [],
   "source": [
    "#helper method to count the number of times an answer appears in a column\n",
    "def count_answers(column):\n",
    "\n",
    "    method_dic = {}\n",
    "\n",
    "    for method in column:\n",
    "        options = method.split(\", \") \n",
    "        for option in options:\n",
    "            option = option.lower()\n",
    "            if option not in method_dic: #checks if it is a different answer           \n",
    "                method_dic[option] = 1\n",
    "            else: \n",
    "                method_dic[option] = method_dic.get(option)+1\n",
    "             \n",
    "    return method_dic"
   ]
  },
  {
   "cell_type": "code",
   "execution_count": 4,
   "id": "d259210d",
   "metadata": {},
   "outputs": [],
   "source": [
    "#helper method to add a threshold, so options that only are represented in one article are\n",
    "#gathered in an other option to be visualised\n",
    "\n",
    "def threshold_added(data):\n",
    "    \n",
    "    dataframe = pd.DataFrame.from_dict(data)\n",
    " \n",
    "    df = dataframe.fillna(0)\n",
    "\n",
    "    df['sum'] = df.sum(axis = 1)\n",
    "\n",
    "    other= [0,0] #[2012, 2021]\n",
    "\n",
    "    for index in range(len(df)):\n",
    "        if df.iloc[index, 0] + df.iloc[index, 1] <= 2: #testing the threshold value\n",
    "            other[0] = other[0] + df.iloc[index, 0]\n",
    "            other[1] = other[1] + df.iloc[index, 1]\n",
    "    \n",
    "    if other[0] != 0 and other[1] !=0: #making sure this only happens if the other category is used\n",
    "        \n",
    "        data = df.drop(df[df['sum'] <= 2].index) #testing the threshold value\n",
    "        data = data.drop('sum', axis = 1)\n",
    "        data = data.reset_index()\n",
    "    \n",
    "        data = data.append({'index': 'other','2012':other[0], '2021':other[1]}, ignore_index=True)\n",
    "    \n",
    "        data = data.set_index('index')\n",
    "    \n",
    "    else: data = dataframe #for the dataset type options this is not used, and we simply \n",
    "        #need the original dataframe\n",
    "    \n",
    "    return data\n"
   ]
  },
  {
   "cell_type": "code",
   "execution_count": 30,
   "id": "6c8f74aa",
   "metadata": {},
   "outputs": [],
   "source": [
    "#main method to create vizualisations \n",
    "\n",
    "def create_viz(df, column, name, count_option):\n",
    "    #narrowing down the df to classification labelled accurately and splitting into 2012 and 2021\n",
    "    df_true = df[df['Is the article accurately labelled as classification?'] == 'Yes']\n",
    "    df_2012 = df_true[df_true['Which year is the article from?'] == 2012]\n",
    "    df_2021 = df_true[df_true['Which year is the article from?'] == 2021]\n",
    "    \n",
    "    #counting the answers \n",
    "    if count_option == 'multiple choice':\n",
    "        data = {'2012': count_answers(df_2012.iloc[:, column]),\n",
    "       '2021': count_answers(df_2021.iloc[:, column])}\n",
    "        df = threshold_added(data)\n",
    "        color_dic = {'public': '#066570', 'private': '#5eb1bf'}\n",
    "    \n",
    "    elif count_option == 'pub/priv':\n",
    "        data = {'2012': count_pub_priv(df_2012, column),\n",
    "       '2021': count_pub_priv(df_2021, column)}\n",
    "        df = pd.DataFrame.from_dict(data)\n",
    "        row_names = {0:\"Public only\", 1:\"Private only\", 2: \"Mixed\"}  \n",
    "        df.rename(index= row_names, inplace=True)\n",
    "        color_dic = {'Public only': '#066570', 'Private only': '#5eb1bf', 'Mixed' : 'grey'}\n",
    "\n",
    "    elif count_option == 'y/n':\n",
    "        data = {'2012': count_yes_no(df_2012, column),\n",
    "       '2021': count_yes_no(df_2021, column)}\n",
    "        \n",
    "        df = pd.DataFrame.from_dict(data)\n",
    "        row_names = {0:\"Yes\", 1:\"No\"}  \n",
    "        df.rename(index= row_names, inplace=True)\n",
    "        color_dic = {'Yes': '#066570', 'No': '#5eb1bf'}\n",
    "          \n",
    "\n",
    "    #drawing the figure with a helper function\n",
    "    if 'used' in name:\n",
    "        color_dic = {'2012': '#066570', '2021': '#5eb1bf'} #fixing the colors for this type of viz\n",
    "        #sorting the df by total sum pr row\n",
    "        total=df.sum(axis = 1)\n",
    "        df['total'] = total\n",
    "        df = df.sort_values(by=['total'], ascending=True)\n",
    "        df.drop('total', axis = 1, inplace = True)\n",
    " \n",
    "        draw_fig(df, 'barh', name, False, color_dic, 0, 'hide')\n",
    "    \n",
    "    else:\n",
    "        df = df.transpose()\n",
    "        draw_fig(df, 'bar', name, True, color_dic, 45, 'show')\n",
    "          \n",
    "    return df\n"
   ]
  },
  {
   "cell_type": "code",
   "execution_count": 6,
   "id": "e7e0943f",
   "metadata": {},
   "outputs": [],
   "source": [
    "#helper function to actually draw non-ethics figures\n",
    "\n",
    "def draw_fig(df, plot_option, name, stacked_option, color_dic, rotation_angle, annotations_option):\n",
    "    fig = df.plot(kind = plot_option, title = name, stacked = stacked_option, color =color_dic)\n",
    "    plt.xticks(rotation = rotation_angle)\n",
    "    \n",
    "    if annotations_option == 'show':\n",
    "        fig.set_ylabel('number of articles')\n",
    "        for container in fig.containers:\n",
    "            annotations = fig.bar_label(container, label_type='center', color = 'white')\n",
    "            #removing annotations that are equal to 0 for nicer graphs\n",
    "            for annotation in annotations:\n",
    "                if int(annotation.get_text()) == 0:\n",
    "                    annotation.set(visible = False)\n",
    "    else:\n",
    "        fig.set_xlabel('number of articles')\n",
    "        fig.set_ylabel(name[:-5])\n",
    "    plt.savefig(name , bbox_inches='tight')\n",
    "    \n",
    "    return fig"
   ]
  },
  {
   "cell_type": "code",
   "execution_count": 19,
   "id": "2f2bebc7",
   "metadata": {},
   "outputs": [],
   "source": [
    "#used with a later method to create separate ethics vizualisations\n",
    "ethics_columns = [25, 27, 29, 31]"
   ]
  },
  {
   "cell_type": "code",
   "execution_count": 25,
   "id": "8a6b023f",
   "metadata": {},
   "outputs": [],
   "source": [
    "#helper method to count number of public/private answers in a column\n",
    "\n",
    "def count_pub_priv(df, column):\n",
    "    dataset_answer_list = [0,0,0] #[pub, priv, mixed]\n",
    "    for input in df[df.columns[column]]:\n",
    "        if input == 'Public':\n",
    "            dataset_answer_list[0] += 1\n",
    "        elif input == 'Private':\n",
    "            dataset_answer_list[1] += 1\n",
    "        elif ',' in input:\n",
    "            dataset_answer_list[2] += 1\n",
    "    \n",
    "    return dataset_answer_list\n"
   ]
  },
  {
   "cell_type": "code",
   "execution_count": 24,
   "id": "ff5ec62c",
   "metadata": {},
   "outputs": [],
   "source": [
    "#helper method to count number of yes/no answers in a column\n",
    "\n",
    "def count_yes_no(df, column):\n",
    "    answer_list = [0,0] #[yes, no]\n",
    "    for input in df[df.columns[column]]:\n",
    "        if input == 'Yes':\n",
    "            answer_list[0] += 1\n",
    "        elif input == 'No':\n",
    "            answer_list[1] += 1\n",
    "    return answer_list"
   ]
  },
  {
   "cell_type": "markdown",
   "id": "0edc539d",
   "metadata": {},
   "source": [
    "## Code for creating individual ethics visualisations"
   ]
  },
  {
   "cell_type": "code",
   "execution_count": 11,
   "id": "71d78b45",
   "metadata": {},
   "outputs": [],
   "source": [
    "#main method for creating sepearate ethics visualisations \n",
    "def create_ethics_viz(df, columns, plot_option, name, year):\n",
    "    #narrowing down the df to classification labelled accurately and splitting into 2012 and 2021\n",
    "    df_true = df[df['Is the article accurately labelled as classification?'] == 'Yes']\n",
    "    if year == 2012:\n",
    "        df = df_true[df_true['Which year is the article from?'] == 2012]\n",
    "    else:\n",
    "        df = df_true[df_true['Which year is the article from?'] == 2021]\n",
    "    \n",
    "    #counting the answers\n",
    "    data = {column:[] for column in columns}\n",
    "    for column in columns:\n",
    "        data[column] = count_yes_no(df, column)\n",
    "    df = pd.DataFrame(data) \n",
    "    \n",
    "    #renaming columns and rows\n",
    "\n",
    "    column_names = {columns[0]:'Respect for persons', columns[1]:'Benefience', \n",
    "                    columns[2]:'Justice', columns[3]:'Repect for law/public interest'}\n",
    "  \n",
    "    row_names = {0:\"Yes\", 1:\"No\"}\n",
    "\n",
    "    df.rename(index= row_names, columns = column_names, inplace=True)\n",
    "    \n",
    "    \n",
    "    color_dic = {'Yes': '#066570', 'No': '#5eb1bf'}\n",
    "    \n",
    "    \n",
    "    fig = df.transpose().plot(kind = plot_option, title = name, stacked = True, color = color_dic)\n",
    "    \n",
    "    for container in fig.containers:\n",
    "        annotations = fig.bar_label(container, label_type='center', color = 'white') \n",
    "        #removing annotations that are equal to 0 for nicer graphs\n",
    "        for annotation in annotations:\n",
    "            if int(annotation.get_text()) == 0:\n",
    "                annotation.set(visible = False)\n",
    "            \n",
    "            \n",
    "    fig.set_xlabel(\"number of articles\")\n",
    "    fig.legend( loc='lower center', ncol=3)\n",
    "    plt.savefig(name , bbox_inches='tight')\n",
    "\n",
    "\n",
    "\n",
    "    return df"
   ]
  },
  {
   "cell_type": "markdown",
   "id": "795b7590",
   "metadata": {},
   "source": [
    "## Creating the visualisations "
   ]
  },
  {
   "cell_type": "code",
   "execution_count": 12,
   "id": "8824055d",
   "metadata": {
    "scrolled": true
   },
   "outputs": [
    {
     "data": {
      "text/html": [
       "<div>\n",
       "<style scoped>\n",
       "    .dataframe tbody tr th:only-of-type {\n",
       "        vertical-align: middle;\n",
       "    }\n",
       "\n",
       "    .dataframe tbody tr th {\n",
       "        vertical-align: top;\n",
       "    }\n",
       "\n",
       "    .dataframe thead th {\n",
       "        text-align: right;\n",
       "    }\n",
       "</style>\n",
       "<table border=\"1\" class=\"dataframe\">\n",
       "  <thead>\n",
       "    <tr style=\"text-align: right;\">\n",
       "      <th></th>\n",
       "      <th>Yes</th>\n",
       "      <th>No</th>\n",
       "    </tr>\n",
       "  </thead>\n",
       "  <tbody>\n",
       "    <tr>\n",
       "      <th>2012</th>\n",
       "      <td>21</td>\n",
       "      <td>17</td>\n",
       "    </tr>\n",
       "    <tr>\n",
       "      <th>2021</th>\n",
       "      <td>11</td>\n",
       "      <td>62</td>\n",
       "    </tr>\n",
       "  </tbody>\n",
       "</table>\n",
       "</div>"
      ],
      "text/plain": [
       "      Yes  No\n",
       "2012   21  17\n",
       "2021   11  62"
      ]
     },
     "execution_count": 12,
     "metadata": {},
     "output_type": "execute_result"
    },
    {
     "data": {
      "image/png": "[encoded data removed]",
      "text/plain": [
       "<Figure size 432x288 with 1 Axes>"
      ]
     },
     "metadata": {
      "needs_background": "light"
     },
     "output_type": "display_data"
    }
   ],
   "source": [
    "create_viz(df, 10, 'Segmentation as preprocessing step', 'y/n')"
   ]
  },
  {
   "cell_type": "code",
   "execution_count": 31,
   "id": "179a2c08",
   "metadata": {
    "scrolled": false
   },
   "outputs": [
    {
     "data": {
      "text/html": [
       "<div>\n",
       "<style scoped>\n",
       "    .dataframe tbody tr th:only-of-type {\n",
       "        vertical-align: middle;\n",
       "    }\n",
       "\n",
       "    .dataframe tbody tr th {\n",
       "        vertical-align: top;\n",
       "    }\n",
       "\n",
       "    .dataframe thead th {\n",
       "        text-align: right;\n",
       "    }\n",
       "</style>\n",
       "<table border=\"1\" class=\"dataframe\">\n",
       "  <thead>\n",
       "    <tr style=\"text-align: right;\">\n",
       "      <th></th>\n",
       "      <th>Public only</th>\n",
       "      <th>Private only</th>\n",
       "      <th>Mixed</th>\n",
       "    </tr>\n",
       "  </thead>\n",
       "  <tbody>\n",
       "    <tr>\n",
       "      <th>2012</th>\n",
       "      <td>8</td>\n",
       "      <td>28</td>\n",
       "      <td>2</td>\n",
       "    </tr>\n",
       "    <tr>\n",
       "      <th>2021</th>\n",
       "      <td>43</td>\n",
       "      <td>21</td>\n",
       "      <td>9</td>\n",
       "    </tr>\n",
       "  </tbody>\n",
       "</table>\n",
       "</div>"
      ],
      "text/plain": [
       "      Public only  Private only  Mixed\n",
       "2012            8            28      2\n",
       "2021           43            21      9"
      ]
     },
     "execution_count": 31,
     "metadata": {},
     "output_type": "execute_result"
    },
    {
     "data": {
      "image/png": "[encoded data removed]",
      "text/plain": [
       "<Figure size 432x288 with 1 Axes>"
      ]
     },
     "metadata": {
      "needs_background": "light"
     },
     "output_type": "display_data"
    }
   ],
   "source": [
    "create_viz(df, 15, 'Dataset type', 'pub/priv')"
   ]
  },
  {
   "cell_type": "code",
   "execution_count": 14,
   "id": "ad683399",
   "metadata": {
    "scrolled": true
   },
   "outputs": [
    {
     "data": {
      "text/html": [
       "<div>\n",
       "<style scoped>\n",
       "    .dataframe tbody tr th:only-of-type {\n",
       "        vertical-align: middle;\n",
       "    }\n",
       "\n",
       "    .dataframe tbody tr th {\n",
       "        vertical-align: top;\n",
       "    }\n",
       "\n",
       "    .dataframe thead th {\n",
       "        text-align: right;\n",
       "    }\n",
       "</style>\n",
       "<table border=\"1\" class=\"dataframe\">\n",
       "  <thead>\n",
       "    <tr style=\"text-align: right;\">\n",
       "      <th></th>\n",
       "      <th>Yes</th>\n",
       "      <th>No</th>\n",
       "    </tr>\n",
       "  </thead>\n",
       "  <tbody>\n",
       "    <tr>\n",
       "      <th>2012</th>\n",
       "      <td>19</td>\n",
       "      <td>19</td>\n",
       "    </tr>\n",
       "    <tr>\n",
       "      <th>2021</th>\n",
       "      <td>58</td>\n",
       "      <td>15</td>\n",
       "    </tr>\n",
       "  </tbody>\n",
       "</table>\n",
       "</div>"
      ],
      "text/plain": [
       "      Yes  No\n",
       "2012   19  19\n",
       "2021   58  15"
      ]
     },
     "execution_count": 14,
     "metadata": {},
     "output_type": "execute_result"
    },
    {
     "data": {
      "image/png": "[encoded data removed]",
      "text/plain": [
       "<Figure size 432x288 with 1 Axes>"
      ]
     },
     "metadata": {
      "needs_background": "light"
     },
     "output_type": "display_data"
    }
   ],
   "source": [
    "create_viz(df, 23, 'Acknowledgment of funding', 'y/n')"
   ]
  },
  {
   "cell_type": "code",
   "execution_count": 15,
   "id": "91b67d9d",
   "metadata": {
    "scrolled": true
   },
   "outputs": [
    {
     "data": {
      "text/html": [
       "<div>\n",
       "<style scoped>\n",
       "    .dataframe tbody tr th:only-of-type {\n",
       "        vertical-align: middle;\n",
       "    }\n",
       "\n",
       "    .dataframe tbody tr th {\n",
       "        vertical-align: top;\n",
       "    }\n",
       "\n",
       "    .dataframe thead th {\n",
       "        text-align: right;\n",
       "    }\n",
       "</style>\n",
       "<table border=\"1\" class=\"dataframe\">\n",
       "  <thead>\n",
       "    <tr style=\"text-align: right;\">\n",
       "      <th></th>\n",
       "      <th>2012</th>\n",
       "      <th>2021</th>\n",
       "    </tr>\n",
       "    <tr>\n",
       "      <th>index</th>\n",
       "      <th></th>\n",
       "      <th></th>\n",
       "    </tr>\n",
       "  </thead>\n",
       "  <tbody>\n",
       "    <tr>\n",
       "      <th>logistic classifier</th>\n",
       "      <td>3.0</td>\n",
       "      <td>0.0</td>\n",
       "    </tr>\n",
       "    <tr>\n",
       "      <th>unsupervised learning</th>\n",
       "      <td>2.0</td>\n",
       "      <td>2.0</td>\n",
       "    </tr>\n",
       "    <tr>\n",
       "      <th>self supervised learning</th>\n",
       "      <td>0.0</td>\n",
       "      <td>8.0</td>\n",
       "    </tr>\n",
       "    <tr>\n",
       "      <th>graph analysis</th>\n",
       "      <td>4.0</td>\n",
       "      <td>7.0</td>\n",
       "    </tr>\n",
       "    <tr>\n",
       "      <th>svm</th>\n",
       "      <td>16.0</td>\n",
       "      <td>1.0</td>\n",
       "    </tr>\n",
       "    <tr>\n",
       "      <th>other</th>\n",
       "      <td>19.0</td>\n",
       "      <td>10.0</td>\n",
       "    </tr>\n",
       "    <tr>\n",
       "      <th>neural network</th>\n",
       "      <td>1.0</td>\n",
       "      <td>61.0</td>\n",
       "    </tr>\n",
       "  </tbody>\n",
       "</table>\n",
       "</div>"
      ],
      "text/plain": [
       "                          2012  2021\n",
       "index                               \n",
       "logistic classifier        3.0   0.0\n",
       "unsupervised learning      2.0   2.0\n",
       "self supervised learning   0.0   8.0\n",
       "graph analysis             4.0   7.0\n",
       "svm                       16.0   1.0\n",
       "other                     19.0  10.0\n",
       "neural network             1.0  61.0"
      ]
     },
     "execution_count": 15,
     "metadata": {},
     "output_type": "execute_result"
    },
    {
     "data": {
      "image/png": "[encoded data removed]",
      "text/plain": [
       "<Figure size 432x288 with 1 Axes>"
      ]
     },
     "metadata": {
      "needs_background": "light"
     },
     "output_type": "display_data"
    }
   ],
   "source": [
    "create_viz(df, 8, 'Classification methods used', 'multiple choice')"
   ]
  },
  {
   "cell_type": "code",
   "execution_count": 16,
   "id": "9afea744",
   "metadata": {},
   "outputs": [
    {
     "data": {
      "text/html": [
       "<div>\n",
       "<style scoped>\n",
       "    .dataframe tbody tr th:only-of-type {\n",
       "        vertical-align: middle;\n",
       "    }\n",
       "\n",
       "    .dataframe tbody tr th {\n",
       "        vertical-align: top;\n",
       "    }\n",
       "\n",
       "    .dataframe thead th {\n",
       "        text-align: right;\n",
       "    }\n",
       "</style>\n",
       "<table border=\"1\" class=\"dataframe\">\n",
       "  <thead>\n",
       "    <tr style=\"text-align: right;\">\n",
       "      <th></th>\n",
       "      <th>2012</th>\n",
       "      <th>2021</th>\n",
       "    </tr>\n",
       "    <tr>\n",
       "      <th>index</th>\n",
       "      <th></th>\n",
       "      <th></th>\n",
       "    </tr>\n",
       "  </thead>\n",
       "  <tbody>\n",
       "    <tr>\n",
       "      <th>concordance index</th>\n",
       "      <td>0.0</td>\n",
       "      <td>4.0</td>\n",
       "    </tr>\n",
       "    <tr>\n",
       "      <th>other</th>\n",
       "      <td>6.0</td>\n",
       "      <td>13.0</td>\n",
       "    </tr>\n",
       "    <tr>\n",
       "      <th>recall</th>\n",
       "      <td>9.0</td>\n",
       "      <td>14.0</td>\n",
       "    </tr>\n",
       "    <tr>\n",
       "      <th>specificity</th>\n",
       "      <td>8.0</td>\n",
       "      <td>15.0</td>\n",
       "    </tr>\n",
       "    <tr>\n",
       "      <th>sensitivity</th>\n",
       "      <td>11.0</td>\n",
       "      <td>14.0</td>\n",
       "    </tr>\n",
       "    <tr>\n",
       "      <th>precision</th>\n",
       "      <td>10.0</td>\n",
       "      <td>16.0</td>\n",
       "    </tr>\n",
       "    <tr>\n",
       "      <th>f1 score</th>\n",
       "      <td>3.0</td>\n",
       "      <td>23.0</td>\n",
       "    </tr>\n",
       "    <tr>\n",
       "      <th>auc</th>\n",
       "      <td>9.0</td>\n",
       "      <td>35.0</td>\n",
       "    </tr>\n",
       "    <tr>\n",
       "      <th>accuracy</th>\n",
       "      <td>26.0</td>\n",
       "      <td>38.0</td>\n",
       "    </tr>\n",
       "  </tbody>\n",
       "</table>\n",
       "</div>"
      ],
      "text/plain": [
       "                   2012  2021\n",
       "index                        \n",
       "concordance index   0.0   4.0\n",
       "other               6.0  13.0\n",
       "recall              9.0  14.0\n",
       "specificity         8.0  15.0\n",
       "sensitivity        11.0  14.0\n",
       "precision          10.0  16.0\n",
       "f1 score            3.0  23.0\n",
       "auc                 9.0  35.0\n",
       "accuracy           26.0  38.0"
      ]
     },
     "execution_count": 16,
     "metadata": {},
     "output_type": "execute_result"
    },
    {
     "data": {
      "image/png": "[encoded data removed]",
      "text/plain": [
       "<Figure size 432x288 with 1 Axes>"
      ]
     },
     "metadata": {
      "needs_background": "light"
     },
     "output_type": "display_data"
    }
   ],
   "source": [
    "create_viz(df, 9, 'Performance measures used', 'multiple choice')"
   ]
  },
  {
   "cell_type": "code",
   "execution_count": 17,
   "id": "554b6de9",
   "metadata": {},
   "outputs": [
    {
     "data": {
      "text/html": [
       "<div>\n",
       "<style scoped>\n",
       "    .dataframe tbody tr th:only-of-type {\n",
       "        vertical-align: middle;\n",
       "    }\n",
       "\n",
       "    .dataframe tbody tr th {\n",
       "        vertical-align: top;\n",
       "    }\n",
       "\n",
       "    .dataframe thead th {\n",
       "        text-align: right;\n",
       "    }\n",
       "</style>\n",
       "<table border=\"1\" class=\"dataframe\">\n",
       "  <thead>\n",
       "    <tr style=\"text-align: right;\">\n",
       "      <th></th>\n",
       "      <th>Respect for persons</th>\n",
       "      <th>Benefience</th>\n",
       "      <th>Justice</th>\n",
       "      <th>Repect for law/public interest</th>\n",
       "    </tr>\n",
       "  </thead>\n",
       "  <tbody>\n",
       "    <tr>\n",
       "      <th>Yes</th>\n",
       "      <td>1</td>\n",
       "      <td>1</td>\n",
       "      <td>0</td>\n",
       "      <td>8</td>\n",
       "    </tr>\n",
       "    <tr>\n",
       "      <th>No</th>\n",
       "      <td>37</td>\n",
       "      <td>37</td>\n",
       "      <td>38</td>\n",
       "      <td>30</td>\n",
       "    </tr>\n",
       "  </tbody>\n",
       "</table>\n",
       "</div>"
      ],
      "text/plain": [
       "     Respect for persons  Benefience  Justice  Repect for law/public interest\n",
       "Yes                    1           1        0                               8\n",
       "No                    37          37       38                              30"
      ]
     },
     "execution_count": 17,
     "metadata": {},
     "output_type": "execute_result"
    },
    {
     "data": {
      "image/png": "[encoded data removed]",
      "text/plain": [
       "<Figure size 432x288 with 1 Axes>"
      ]
     },
     "metadata": {
      "needs_background": "light"
     },
     "output_type": "display_data"
    }
   ],
   "source": [
    "create_ethics_viz(df, ethics_columns, 'barh', 'Mention of ethics 2012', 2012)"
   ]
  },
  {
   "cell_type": "code",
   "execution_count": 18,
   "id": "0c5a4225",
   "metadata": {},
   "outputs": [
    {
     "data": {
      "text/html": [
       "<div>\n",
       "<style scoped>\n",
       "    .dataframe tbody tr th:only-of-type {\n",
       "        vertical-align: middle;\n",
       "    }\n",
       "\n",
       "    .dataframe tbody tr th {\n",
       "        vertical-align: top;\n",
       "    }\n",
       "\n",
       "    .dataframe thead th {\n",
       "        text-align: right;\n",
       "    }\n",
       "</style>\n",
       "<table border=\"1\" class=\"dataframe\">\n",
       "  <thead>\n",
       "    <tr style=\"text-align: right;\">\n",
       "      <th></th>\n",
       "      <th>Respect for persons</th>\n",
       "      <th>Benefience</th>\n",
       "      <th>Justice</th>\n",
       "      <th>Repect for law/public interest</th>\n",
       "    </tr>\n",
       "  </thead>\n",
       "  <tbody>\n",
       "    <tr>\n",
       "      <th>Yes</th>\n",
       "      <td>8</td>\n",
       "      <td>2</td>\n",
       "      <td>0</td>\n",
       "      <td>45</td>\n",
       "    </tr>\n",
       "    <tr>\n",
       "      <th>No</th>\n",
       "      <td>65</td>\n",
       "      <td>71</td>\n",
       "      <td>73</td>\n",
       "      <td>28</td>\n",
       "    </tr>\n",
       "  </tbody>\n",
       "</table>\n",
       "</div>"
      ],
      "text/plain": [
       "     Respect for persons  Benefience  Justice  Repect for law/public interest\n",
       "Yes                    8           2        0                              45\n",
       "No                    65          71       73                              28"
      ]
     },
     "execution_count": 18,
     "metadata": {},
     "output_type": "execute_result"
    },
    {
     "data": {
      "image/png": "[encoded data removed]",
      "text/plain": [
       "<Figure size 432x288 with 1 Axes>"
      ]
     },
     "metadata": {
      "needs_background": "light"
     },
     "output_type": "display_data"
    }
   ],
   "source": [
    "create_ethics_viz(df, ethics_columns, 'barh', 'Mention of ethics 2021', 2021)"
   ]
  },
  {
   "cell_type": "markdown",
   "id": "598944da",
   "metadata": {},
   "source": [
    "## Creating combined ethics vizualisation"
   ]
  },
  {
   "cell_type": "code",
   "execution_count": 22,
   "id": "728c3325",
   "metadata": {},
   "outputs": [
    {
     "data": {
      "image/png": "[encoded data removed]",
      "text/plain": [
       "<Figure size 432x288 with 1 Axes>"
      ]
     },
     "metadata": {
      "needs_background": "light"
     },
     "output_type": "display_data"
    }
   ],
   "source": [
    "\n",
    "df_true = df[df['Is the article accurately labelled as classification?'] == 'Yes']\n",
    "df2012 = df_true[df_true['Which year is the article from?'] == 2012]\n",
    "df2021 = df_true[df_true['Which year is the article from?'] == 2021]\n",
    "\n",
    "columns =  [25, 27, 29, 31]\n",
    "\n",
    "ethics_data12 ={}\n",
    "ethics_data21={}\n",
    "for column in columns:\n",
    "    ethics_data12[column+12] = count_yes_no(df2012, column)\n",
    "    ethics_data21[column] =  count_yes_no(df2021, column)\n",
    "\n",
    "res = ethics_data12 | ethics_data21\n",
    "ethics_df = pd.DataFrame(res)\n",
    "#rearranging the dataframe so ethics categories are next to each other\n",
    "ethics_df = ethics_df[[25, 37, 27, 39, 29, 41, 31, 43]]\n",
    "\n",
    "column_names = {37:'', 39:'', \n",
    "                    41:'', 43:'',\n",
    "               25:'Respect for persons', 27:'Benefience', \n",
    "                    29:'Justice', 31:'Repect for law/public interest'}\n",
    "  \n",
    "row_names = {0:\"Yes\", 1:\"No\"}\n",
    "ethics_df.rename(index= row_names, columns = column_names, inplace=True)\n",
    "ethics_df = ethics_df.transpose()\n",
    "\n",
    "color_dic = {'Yes': '#066570', 'No': '#5eb1bf'}\n",
    "fig = ethics_df.plot(kind = 'barh', title = 'Mentions of ethics', stacked = True, color = color_dic, position = 1)\n",
    "fig.set_xlabel(\"number of articles\")\n",
    "plt.savefig(\"Mentions of ethics\" , bbox_inches='tight')\n",
    "\n",
    "\n",
    " "
   ]
  },
  {
   "cell_type": "code",
   "execution_count": null,
   "id": "b0537fe9",
   "metadata": {},
   "outputs": [],
   "source": []
  }
 ],
 "metadata": {
  "kernelspec": {
   "display_name": "Python 3 (ipykernel)",
   "language": "python",
   "name": "python3"
  },
  "language_info": {
   "codemirror_mode": {
    "name": "ipython",
    "version": 3
   },
   "file_extension": ".py",
   "mimetype": "text/x-python",
   "name": "python",
   "nbconvert_exporter": "python",
   "pygments_lexer": "ipython3",
   "version": "3.9.7"
  }
 },
 "nbformat": 4,
 "nbformat_minor": 5
}
