{
 "cells": [
  {
   "cell_type": "code",
   "execution_count": 1,
   "id": "8766aba9",
   "metadata": {},
   "outputs": [],
   "source": [
    "import pandas as pd\n",
    "import matplotlib.pyplot as plt\n",
    "import random\n",
    "import numpy as np"
   ]
  },
  {
   "cell_type": "code",
   "execution_count": 2,
   "id": "b3df13fc",
   "metadata": {},
   "outputs": [],
   "source": [
    "pd.set_option('display.max_rows', None)"
   ]
  },
  {
   "cell_type": "code",
   "execution_count": 3,
   "id": "6f7cd1c9",
   "metadata": {},
   "outputs": [],
   "source": [
    "dis = pd.read_csv(\"disease_data.csv\", sep = \";\")\n",
    "jus = pd.read_csv(\"justification_data.csv\", sep = \";\")\n",
    "anno = pd.read_csv(\"annotations_data.csv\")"
   ]
  },
  {
   "cell_type": "code",
   "execution_count": 354,
   "id": "89de4a2c",
   "metadata": {},
   "outputs": [],
   "source": [
    "dis = dis.fillna(0)\n",
    "jus = jus.fillna(0)"
   ]
  },
  {
   "cell_type": "code",
   "execution_count": 355,
   "id": "94404902",
   "metadata": {},
   "outputs": [],
   "source": [
    "df = anno.copy()"
   ]
  },
  {
   "cell_type": "markdown",
   "id": "f1cfded2",
   "metadata": {},
   "source": [
    "### Creating initial dataframe from annotations data\n",
    "Later disease data and justification data is added and all columns are encoded as numericals to be able to plot them in a 3d scatterplot"
   ]
  },
  {
   "cell_type": "code",
   "execution_count": 356,
   "id": "66c10c5b",
   "metadata": {},
   "outputs": [],
   "source": [
    "#narrowing down to classification true\n",
    "df = df[df['Is the article accurately labelled as classification?']=='Yes']"
   ]
  },
  {
   "cell_type": "code",
   "execution_count": 357,
   "id": "7f9e8196",
   "metadata": {},
   "outputs": [],
   "source": [
    "#defining the columns I am interested in\n",
    "col = [\"What is the article's index?\",\n",
    "\"Which year is the article from?\",\n",
    "\"Which method is used for classification?\",\n",
    "\"Which performance measures are used? \",\n",
    "\"What type is the dataset?\",\n",
    "\"Does the article mention the demographics of the patients/images included in the used dataset?\",\n",
    "\"Does the article disclose any affiliations?\",\n",
    "\"Does the article include anything about respect for persons (informed consent, voluntary participation) participating in the dataset? \",\n",
    "\"Does the article have any mention of benefience, minimising risk/maximising benefit of work? \",\n",
    "\"Does the article have any mention of justice (equal treatment, fair selection of subjects)?\",\n",
    "\"Does the article mention any respect for law/public interest (transparency in methods/results, accountability for actions)?\"]\n"
   ]
  },
  {
   "cell_type": "code",
   "execution_count": 358,
   "id": "9477d788",
   "metadata": {},
   "outputs": [],
   "source": [
    "#narrowing down to only these columns\n",
    "df = df.loc[:, col]"
   ]
  },
  {
   "cell_type": "code",
   "execution_count": 359,
   "id": "a9a87d24",
   "metadata": {
    "scrolled": true
   },
   "outputs": [],
   "source": [
    "#renaming the columns\n",
    "col_labels = {\"What is the article's index?\" : \"id\" ,\n",
    "\"Which year is the article from?\" : \"year\",\n",
    "\"Which method is used for classification?\" : \"method\",\n",
    "\"Which performance measures are used? \": \"measure\",\n",
    "\"What type is the dataset?\" : \"dataset type\",\n",
    "\"Does the article mention the demographics of the patients/images included in the used dataset?\" : \"demographics\",\n",
    "\"Does the article disclose any affiliations?\" : \"affiliations\",\n",
    "\"Does the article include anything about respect for persons (informed consent, voluntary participation) participating in the dataset? \" : \"ethics 1\",\n",
    "\"Does the article have any mention of benefience, minimising risk/maximising benefit of work? \": \"ethics 2\",\n",
    "\"Does the article have any mention of justice (equal treatment, fair selection of subjects)?\" : \"ethics 3\",\n",
    "\"Does the article mention any respect for law/public interest (transparency in methods/results, accountability for actions)?\" : \"ethics 4\"}\n",
    "\n",
    "df.rename(columns= col_labels, inplace=True)\n"
   ]
  },
  {
   "cell_type": "code",
   "execution_count": 360,
   "id": "8707c86c",
   "metadata": {},
   "outputs": [],
   "source": [
    "#generating an encoded ethics mentioned y/n list\n",
    "ethics_list=[]\n",
    "dataset_type = []\n",
    "for index in range(len(df)):\n",
    "    if df.iloc[index, 5] == 'Yes' or df.iloc[index, 6] == 'Yes' or df.iloc[index, 7] == 'Yes' or df.iloc[index, 8] == 'Yes':\n",
    "        ethics_list.append(1)\n",
    "    else:\n",
    "        ethics_list.append(0)"
   ]
  },
  {
   "cell_type": "code",
   "execution_count": 361,
   "id": "472a1e3a",
   "metadata": {},
   "outputs": [],
   "source": [
    "#updating the df with this new combined ethics list\n",
    "df['ethics encoded'] = ethics_list"
   ]
  },
  {
   "cell_type": "code",
   "execution_count": 362,
   "id": "1d585352",
   "metadata": {},
   "outputs": [],
   "source": [
    "#fixing method to be encoded for SVM, neural network or other\n",
    "method_list = []\n",
    "for index in range(len(df)):\n",
    "    if 'SVM' in df.iloc[index, 2]:\n",
    "        method_list.append(1)\n",
    "    elif 'Neural network' in df.iloc[index, 2]:\n",
    "        method_list.append(2)\n",
    "    else: method_list.append(0)\n",
    "\n",
    "df['method encoded'] = method_list"
   ]
  },
  {
   "cell_type": "code",
   "execution_count": 363,
   "id": "f530b5c4",
   "metadata": {},
   "outputs": [],
   "source": [
    "#fixing measure to be encoded accuracy or other\n",
    "method_list = []\n",
    "for index in range(len(df)):\n",
    "    if 'Accuracy' in df.iloc[index, 3]:\n",
    "        method_list.append(1)\n",
    "    else: method_list.append(0)\n",
    "\n",
    "df['measure encoded'] = method_list"
   ]
  },
  {
   "cell_type": "code",
   "execution_count": 364,
   "id": "32c60b87",
   "metadata": {},
   "outputs": [],
   "source": [
    "#removing old measure/method columns plus obsolete ethics columns\n",
    "df.drop(df.columns[[2,3, 7, 8, 9, 10]], axis=1, inplace=True)"
   ]
  },
  {
   "cell_type": "markdown",
   "id": "1750c700",
   "metadata": {},
   "source": [
    "### Merging justification"
   ]
  },
  {
   "cell_type": "code",
   "execution_count": 365,
   "id": "3b6f37d1",
   "metadata": {},
   "outputs": [],
   "source": [
    "#merging justification data\n",
    "df1 = pd.merge(df, jus, how='left', on=['id', 'year'])"
   ]
  },
  {
   "cell_type": "code",
   "execution_count": 366,
   "id": "d1f3307e",
   "metadata": {
    "scrolled": false
   },
   "outputs": [],
   "source": [
    "#method for encoding justification column specifically\n",
    "def encoding_justification(df, column):\n",
    "    jus_enc = []\n",
    "    for index in range(len(df)):\n",
    "        if ',' in str(df.iloc[index, column]):\n",
    "            jus_enc.append(0)\n",
    "        elif str(df.iloc[index, column]) == 'sci':\n",
    "            jus_enc.append(1)\n",
    "        elif str(df.iloc[index, column]) == 'dis':\n",
    "            jus_enc.append(2)\n",
    "        elif str(df.iloc[index, column]) == 'nov':\n",
    "            jus_enc.append(3)\n",
    "        elif str(df.iloc[index, column]) == 'hc':\n",
    "            jus_enc.append(4)\n",
    "    df['justification encoded'] = jus_enc\n",
    "    return df"
   ]
  },
  {
   "cell_type": "code",
   "execution_count": 367,
   "id": "28507739",
   "metadata": {},
   "outputs": [],
   "source": [
    "df1 = encoding_justification(df1, 8)"
   ]
  },
  {
   "cell_type": "markdown",
   "id": "e3d1b658",
   "metadata": {},
   "source": [
    "## Adding disease (cancer)"
   ]
  },
  {
   "cell_type": "code",
   "execution_count": 368,
   "id": "7de4d2b2",
   "metadata": {},
   "outputs": [],
   "source": [
    "#merging disease data\n",
    "df2 = pd.merge(df1, dis, how='left', on=['id', 'year'])"
   ]
  },
  {
   "cell_type": "code",
   "execution_count": 369,
   "id": "41c13fd3",
   "metadata": {},
   "outputs": [],
   "source": [
    "#encoding disease\n",
    "def encoding_disease(df, column, name, disease):\n",
    "    converted = []\n",
    "    for index in range(len(df)):\n",
    "        if df.iloc[index, column] == disease:\n",
    "            converted.append(1)\n",
    "        else:\n",
    "            converted.append(0)\n",
    "    df[name] = converted\n",
    "    return df"
   ]
  },
  {
   "cell_type": "code",
   "execution_count": 370,
   "id": "1993d09b",
   "metadata": {},
   "outputs": [],
   "source": [
    "df2 = encoding_disease(df2, 10, 'cancer encoded', 'cancer')"
   ]
  },
  {
   "cell_type": "markdown",
   "id": "7e7de927",
   "metadata": {},
   "source": [
    "## Encoding remaining data"
   ]
  },
  {
   "cell_type": "code",
   "execution_count": 372,
   "id": "b4ac176a",
   "metadata": {},
   "outputs": [],
   "source": [
    "#method used for encoding remaining data\n",
    "def encoding(df, column, name):\n",
    "    converted = []\n",
    "    for index in range(len(df)):\n",
    "        if df.iloc[index, column] == 'Yes' or df.iloc[index, column] == 'Public':\n",
    "            converted.append(1)\n",
    "        elif df.iloc[index, column] == 'No' or df.iloc[index, column] == 'Private':\n",
    "            converted.append(0)\n",
    "        elif \",\" in df.iloc[index, column]: #this corresponds to mixed option in dataset type\n",
    "            converted.append(2)\n",
    "    df[name] = converted\n",
    "    return df"
   ]
  },
  {
   "cell_type": "code",
   "execution_count": 373,
   "id": "86c17ba8",
   "metadata": {},
   "outputs": [],
   "source": [
    "df = encoding(df2, 2, 'dataset type encoded')\n",
    "df = encoding(df, 3, 'demographics encoded')\n",
    "df = encoding(df, 4, 'affiliations encoded')"
   ]
  },
  {
   "cell_type": "code",
   "execution_count": 375,
   "id": "5912b3b2",
   "metadata": {},
   "outputs": [
    {
     "data": {
      "text/plain": [
       "Index(['id', 'year', 'dataset type', 'demographics', 'affiliations',\n",
       "       'ethics encoded', 'method encoded', 'measure encoded', 'type',\n",
       "       'justification encoded', 'disease', 'body part', 'Zhou category',\n",
       "       'task', 'cancer encoded', 'dataset type encoded',\n",
       "       'demographics encoded', 'affiliations encoded'],\n",
       "      dtype='object')"
      ]
     },
     "execution_count": 375,
     "metadata": {},
     "output_type": "execute_result"
    }
   ],
   "source": [
    "#removing unencoded columns\n",
    "encoded = df.copy()"
   ]
  },
  {
   "cell_type": "code",
   "execution_count": 376,
   "id": "4d4216b8",
   "metadata": {},
   "outputs": [],
   "source": [
    "encoded.drop(encoded.columns[[2, 3, 4, 8, 10, 11, 12, 13]], axis=1, inplace=True)"
   ]
  },
  {
   "cell_type": "code",
   "execution_count": 378,
   "id": "5d9a3c18",
   "metadata": {},
   "outputs": [],
   "source": [
    "#splitting into 2012 data and 2021 data for the graph\n",
    "encoded2012 = encoded[encoded['year']==2012]\n",
    "encoded2021 = encoded[encoded['year']==2021]"
   ]
  },
  {
   "cell_type": "markdown",
   "id": "b83fc1ee",
   "metadata": {},
   "source": [
    "## Creating graphs"
   ]
  },
  {
   "cell_type": "code",
   "execution_count": 304,
   "id": "8c2eacd2",
   "metadata": {},
   "outputs": [],
   "source": [
    "#helper method to create gaussian based noise\n",
    "def create_noise(df):\n",
    "    mu = 0 #mean\n",
    "    sigma = 0.03 #standard deviation\n",
    "\n",
    "    numsx = []\n",
    "    numsy = []\n",
    "    numsz = []\n",
    "    for i in range(len(df)): \n",
    "        numsx.append(random.gauss(mu, sigma)) \n",
    "        numsy.append(random.gauss(mu, sigma)) \n",
    "        numsz.append(random.gauss(mu, sigma)) \n",
    "    numsx = np.array(numsx)\n",
    "    numsy = np.array(numsy)\n",
    "    numsz = np.array(numsz)\n",
    "    \n",
    "    return numsx, numsy, numsz"
   ]
  },
  {
   "cell_type": "code",
   "execution_count": 305,
   "id": "13ac1f95",
   "metadata": {},
   "outputs": [],
   "source": [
    "#generating x,y,z to be visualised from both years\n",
    "#not currently used\n",
    "numsx, numsy, numsz = create_noise(encoded)\n",
    "x = encoded['method encoded']+numsx\n",
    "y = encoded['measure encoded']+numsy\n",
    "z = encoded['cancer encoded']+numsz"
   ]
  },
  {
   "cell_type": "code",
   "execution_count": 306,
   "id": "ffc9c2d0",
   "metadata": {},
   "outputs": [],
   "source": [
    "#2012 data only for visualisation\n",
    "\n",
    "numsx, numsy, numsz = create_noise(encoded2012)\n",
    "\n",
    "x12 = encoded2012['ethics encoded']+numsx\n",
    "y12 = encoded2012['cancer encoded']+numsy\n",
    "z12 = encoded2012['demographics encoded']+numsz"
   ]
  },
  {
   "cell_type": "code",
   "execution_count": 307,
   "id": "905e9882",
   "metadata": {},
   "outputs": [],
   "source": [
    "#2021 data only for visualisation\n",
    "numsx, numsy, numsz = create_noise(encoded2021)\n",
    "\n",
    "x21 = encoded2021['ethics encoded']+numsx\n",
    "y21 = encoded2021['cancer encoded']+numsy\n",
    "z21 = encoded2021['demographics encoded']+numsz"
   ]
  },
  {
   "cell_type": "code",
   "execution_count": 382,
   "id": "9a3ac25e",
   "metadata": {},
   "outputs": [
    {
     "data": {
      "image/png": "[encoded data removed]",
      "text/plain": [
       "<Figure size 504x504 with 1 Axes>"
      ]
     },
     "metadata": {
      "needs_background": "light"
     },
     "output_type": "display_data"
    }
   ],
   "source": [
    "# Creating 3d scatterplot\n",
    "fig = plt.figure(figsize=(7, 7))\n",
    "ax = plt.axes(projection='3d')\n",
    "\n",
    "#plotting data\n",
    "#ax.scatter3D(x,y,z, s = 32, alpha = 0.5)\n",
    "\n",
    "ax.scatter3D(x21,y21,z21, s = 40, alpha = 0.5, c= 'Blue')\n",
    "ax.scatter3D(x12,y12,z12, s = 40, alpha = 0.5, c= 'Red')\n",
    "\n",
    "\n",
    "#remove grid\n",
    "ax.grid(False)\n",
    "\n",
    "#set tick labels\n",
    "\n",
    "plt.xticks([0, 1], ['no', 'yes'])\n",
    "plt.yticks([0, 1], ['no', 'yes'])\n",
    "\n",
    "ax.set_zticks([0, 1])\n",
    "ax.set_zticklabels(['no', 'yes'])\n",
    "\n",
    "#set legend\n",
    "plt.legend(['2021', '2012'])\n",
    "\n",
    "#set axis labels and title\n",
    "ax.set_xlabel('ethics mentioned')\n",
    "ax.set_ylabel('cancer')\n",
    "ax.set_zlabel('demographics mentioned')\n",
    "\n",
    "ax.set_title('Square 1 plot')\n",
    "\n",
    "#plt.savefig('square 1 with cancer, ethics and demographics.png')\n",
    "\n",
    "plt.show()\n"
   ]
  },
  {
   "cell_type": "code",
   "execution_count": null,
   "id": "bc25ff8a",
   "metadata": {},
   "outputs": [],
   "source": []
  }
 ],
 "metadata": {
  "kernelspec": {
   "display_name": "Python 3 (ipykernel)",
   "language": "python",
   "name": "python3"
  },
  "language_info": {
   "codemirror_mode": {
    "name": "ipython",
    "version": 3
   },
   "file_extension": ".py",
   "mimetype": "text/x-python",
   "name": "python",
   "nbconvert_exporter": "python",
   "pygments_lexer": "ipython3",
   "version": "3.9.7"
  }
 },
 "nbformat": 4,
 "nbformat_minor": 5
}
