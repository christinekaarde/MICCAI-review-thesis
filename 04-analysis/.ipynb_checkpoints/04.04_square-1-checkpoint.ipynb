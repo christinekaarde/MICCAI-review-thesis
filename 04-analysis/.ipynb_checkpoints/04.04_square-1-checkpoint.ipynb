{
 "cells": [
  {
   "cell_type": "code",
   "execution_count": 1,
   "id": "8766aba9",
   "metadata": {},
   "outputs": [],
   "source": [
    "import pandas as pd\n",
    "import matplotlib.pyplot as plt\n",
    "import random\n",
    "import numpy as np"
   ]
  },
  {
   "cell_type": "code",
   "execution_count": 51,
   "id": "b3df13fc",
   "metadata": {},
   "outputs": [],
   "source": [
    "pd.set_option('display.max_rows', None)"
   ]
  },
  {
   "cell_type": "code",
   "execution_count": 52,
   "id": "6f7cd1c9",
   "metadata": {},
   "outputs": [],
   "source": [
    "dis = pd.read_csv(\"disease_data.csv\", sep = \";\")\n",
    "jus = pd.read_csv(\"justification_data.csv\", sep = \";\")\n",
    "anno = pd.read_csv(\"annotations_data.csv\")"
   ]
  },
  {
   "cell_type": "code",
   "execution_count": 53,
   "id": "89de4a2c",
   "metadata": {},
   "outputs": [],
   "source": [
    "dis = dis.fillna(0)\n",
    "jus = jus.fillna(0)"
   ]
  },
  {
   "cell_type": "code",
   "execution_count": 54,
   "id": "94404902",
   "metadata": {},
   "outputs": [],
   "source": [
    "df = anno.copy()"
   ]
  },
  {
   "cell_type": "markdown",
   "id": "f1cfded2",
   "metadata": {},
   "source": [
    "### Creating initial dataframe from annotations data\n",
    "Later disease data and justification data is added and all columns are encoded as numericals to be able to plot them in a 4d scatterplot"
   ]
  },
  {
   "cell_type": "code",
   "execution_count": 55,
   "id": "66c10c5b",
   "metadata": {},
   "outputs": [],
   "source": [
    "#narrowing down to classification true\n",
    "df = df[df['Is the article accurately labelled as classification?']=='Yes']"
   ]
  },
  {
   "cell_type": "code",
   "execution_count": 56,
   "id": "7f9e8196",
   "metadata": {},
   "outputs": [],
   "source": [
    "#defining the columns I am interested in\n",
    "col = [\"What is the article's index?\",\n",
    "\"Which year is the article from?\",\n",
    "\"Which method is used for classification?\",\n",
    "\"Which performance measures are used? \",\n",
    "\"What type is the dataset?\",\n",
    "\"Does the article mention the demographics of the patients/images included in the used dataset?\",\n",
    "\"Does the article disclose any affiliations?\",\n",
    "\"Does the article include anything about respect for persons (informed consent, voluntary participation) participating in the dataset? \",\n",
    "\"Does the article have any mention of benefience, minimising risk/maximising benefit of work? \",\n",
    "\"Does the article have any mention of justice (equal treatment, fair selection of subjects)?\",\n",
    "\"Does the article mention any respect for law/public interest (transparency in methods/results, accountability for actions)?\"]\n"
   ]
  },
  {
   "cell_type": "code",
   "execution_count": 57,
   "id": "9477d788",
   "metadata": {},
   "outputs": [],
   "source": [
    "#narrowing down to only these columns\n",
    "df = df.loc[:, col]"
   ]
  },
  {
   "cell_type": "code",
   "execution_count": 58,
   "id": "a9a87d24",
   "metadata": {
    "scrolled": true
   },
   "outputs": [],
   "source": [
    "#renaming the columns\n",
    "col_labels = {\"What is the article's index?\" : \"id\" ,\n",
    "\"Which year is the article from?\" : \"year\",\n",
    "\"Which method is used for classification?\" : \"method\",\n",
    "\"Which performance measures are used? \": \"measure\",\n",
    "\"What type is the dataset?\" : \"dataset type\",\n",
    "\"Does the article mention the demographics of the patients/images included in the used dataset?\" : \"demographics\",\n",
    "\"Does the article disclose any affiliations?\" : \"affiliations\",\n",
    "\"Does the article include anything about respect for persons (informed consent, voluntary participation) participating in the dataset? \" : \"ethics 1\",\n",
    "\"Does the article have any mention of benefience, minimising risk/maximising benefit of work? \": \"ethics 2\",\n",
    "\"Does the article have any mention of justice (equal treatment, fair selection of subjects)?\" : \"ethics 3\",\n",
    "\"Does the article mention any respect for law/public interest (transparency in methods/results, accountability for actions)?\" : \"ethics 4\"}\n",
    "\n",
    "df.rename(columns= col_labels, inplace=True)\n"
   ]
  },
  {
   "cell_type": "code",
   "execution_count": 59,
   "id": "8707c86c",
   "metadata": {},
   "outputs": [],
   "source": [
    "#generating an encoded ethics mentioned y/n list\n",
    "ethics_list=[]\n",
    "dataset_type = []\n",
    "for index in range(len(df)):\n",
    "    if df.iloc[index, 5] == 'Yes' or df.iloc[index, 6] == 'Yes' or df.iloc[index, 7] == 'Yes' or df.iloc[index, 8] == 'Yes':\n",
    "        ethics_list.append(1)\n",
    "    else:\n",
    "        ethics_list.append(0)"
   ]
  },
  {
   "cell_type": "code",
   "execution_count": 60,
   "id": "472a1e3a",
   "metadata": {},
   "outputs": [],
   "source": [
    "#updating the df with this new combined ethics list\n",
    "df['ethics encoded'] = ethics_list"
   ]
  },
  {
   "cell_type": "code",
   "execution_count": 61,
   "id": "1d585352",
   "metadata": {},
   "outputs": [],
   "source": [
    "#fixing method to be encoded for SVM, neural network or other\n",
    "method_list = []\n",
    "for index in range(len(df)):\n",
    "    if 'SVM' in df.iloc[index, 2]:\n",
    "        method_list.append(1)\n",
    "    elif 'Neural network' in df.iloc[index, 2]:\n",
    "        method_list.append(2)\n",
    "    else: method_list.append(0)\n",
    "\n",
    "df['method encoded'] = method_list"
   ]
  },
  {
   "cell_type": "code",
   "execution_count": 62,
   "id": "f530b5c4",
   "metadata": {},
   "outputs": [],
   "source": [
    "#fixing measure to be encoded accuracy or other\n",
    "method_list = []\n",
    "for index in range(len(df)):\n",
    "    if 'Accuracy' in df.iloc[index, 3]:\n",
    "        method_list.append(1)\n",
    "    else: method_list.append(0)\n",
    "\n",
    "df['measure encoded'] = method_list"
   ]
  },
  {
   "cell_type": "code",
   "execution_count": 63,
   "id": "32c60b87",
   "metadata": {},
   "outputs": [],
   "source": [
    "#removing old measure/method columns plus obsolete ethics columns\n",
    "df.drop(df.columns[[2,3, 7, 8, 9, 10]], axis=1, inplace=True)"
   ]
  },
  {
   "cell_type": "markdown",
   "id": "1750c700",
   "metadata": {},
   "source": [
    "### Merging justification"
   ]
  },
  {
   "cell_type": "code",
   "execution_count": 64,
   "id": "3b6f37d1",
   "metadata": {},
   "outputs": [],
   "source": [
    "#merging justification data\n",
    "df1 = pd.merge(df, jus, how='left', on=['id', 'year'])"
   ]
  },
  {
   "cell_type": "code",
   "execution_count": 65,
   "id": "d1f3307e",
   "metadata": {
    "scrolled": false
   },
   "outputs": [],
   "source": [
    "#method for encoding justification column specifically\n",
    "def encoding_justification(df, column):\n",
    "    jus_enc = []\n",
    "    for index in range(len(df)):\n",
    "        if ',' in str(df.iloc[index, column]):\n",
    "            jus_enc.append(0)\n",
    "        elif str(df.iloc[index, column]) == 'sci':\n",
    "            jus_enc.append(1)\n",
    "        elif str(df.iloc[index, column]) == 'dis':\n",
    "            jus_enc.append(2)\n",
    "        elif str(df.iloc[index, column]) == 'nov':\n",
    "            jus_enc.append(3)\n",
    "        elif str(df.iloc[index, column]) == 'hc':\n",
    "            jus_enc.append(4)\n",
    "    df['justification encoded'] = jus_enc\n",
    "    return df"
   ]
  },
  {
   "cell_type": "code",
   "execution_count": 66,
   "id": "28507739",
   "metadata": {},
   "outputs": [],
   "source": [
    "df1 = encoding_justification(df1, 8)"
   ]
  },
  {
   "cell_type": "markdown",
   "id": "e3d1b658",
   "metadata": {},
   "source": [
    "## Adding disease (cancer)"
   ]
  },
  {
   "cell_type": "code",
   "execution_count": 67,
   "id": "7de4d2b2",
   "metadata": {},
   "outputs": [],
   "source": [
    "#merging disease data\n",
    "df2 = pd.merge(df1, dis, how='left', on=['id', 'year'])"
   ]
  },
  {
   "cell_type": "code",
   "execution_count": 71,
   "id": "4e83f944",
   "metadata": {},
   "outputs": [
    {
     "data": {
      "text/html": [
       "<div>\n",
       "<style scoped>\n",
       "    .dataframe tbody tr th:only-of-type {\n",
       "        vertical-align: middle;\n",
       "    }\n",
       "\n",
       "    .dataframe tbody tr th {\n",
       "        vertical-align: top;\n",
       "    }\n",
       "\n",
       "    .dataframe thead th {\n",
       "        text-align: right;\n",
       "    }\n",
       "</style>\n",
       "<table border=\"1\" class=\"dataframe\">\n",
       "  <thead>\n",
       "    <tr style=\"text-align: right;\">\n",
       "      <th></th>\n",
       "      <th>id</th>\n",
       "      <th>year</th>\n",
       "      <th>dataset type</th>\n",
       "      <th>demographics</th>\n",
       "      <th>affiliations</th>\n",
       "      <th>ethics encoded</th>\n",
       "      <th>method encoded</th>\n",
       "      <th>measure encoded</th>\n",
       "      <th>type</th>\n",
       "      <th>justification encoded</th>\n",
       "      <th>disease</th>\n",
       "      <th>body part</th>\n",
       "      <th>Zhou category</th>\n",
       "      <th>task</th>\n",
       "      <th>cancer encoded</th>\n",
       "      <th>neuro encoded</th>\n",
       "    </tr>\n",
       "  </thead>\n",
       "  <tbody>\n",
       "    <tr>\n",
       "      <th>0</th>\n",
       "      <td>4</td>\n",
       "      <td>2012</td>\n",
       "      <td>Private</td>\n",
       "      <td>No</td>\n",
       "      <td>Yes</td>\n",
       "      <td>1</td>\n",
       "      <td>0</td>\n",
       "      <td>1</td>\n",
       "      <td>sci</td>\n",
       "      <td>1</td>\n",
       "      <td>0</td>\n",
       "      <td>all</td>\n",
       "      <td>all</td>\n",
       "      <td>surgery</td>\n",
       "      <td>0</td>\n",
       "      <td>0</td>\n",
       "    </tr>\n",
       "    <tr>\n",
       "      <th>1</th>\n",
       "      <td>7</td>\n",
       "      <td>2012</td>\n",
       "      <td>Public</td>\n",
       "      <td>No</td>\n",
       "      <td>Yes</td>\n",
       "      <td>1</td>\n",
       "      <td>1</td>\n",
       "      <td>0</td>\n",
       "      <td>dis</td>\n",
       "      <td>2</td>\n",
       "      <td>glaucoma</td>\n",
       "      <td>eyes</td>\n",
       "      <td>eyes</td>\n",
       "      <td>0</td>\n",
       "      <td>0</td>\n",
       "      <td>0</td>\n",
       "    </tr>\n",
       "    <tr>\n",
       "      <th>2</th>\n",
       "      <td>9</td>\n",
       "      <td>2012</td>\n",
       "      <td>Private</td>\n",
       "      <td>No</td>\n",
       "      <td>No</td>\n",
       "      <td>0</td>\n",
       "      <td>0</td>\n",
       "      <td>1</td>\n",
       "      <td>nov</td>\n",
       "      <td>3</td>\n",
       "      <td>cancer</td>\n",
       "      <td>lungs</td>\n",
       "      <td>chest</td>\n",
       "      <td>0</td>\n",
       "      <td>1</td>\n",
       "      <td>0</td>\n",
       "    </tr>\n",
       "    <tr>\n",
       "      <th>3</th>\n",
       "      <td>10</td>\n",
       "      <td>2012</td>\n",
       "      <td>Public</td>\n",
       "      <td>No</td>\n",
       "      <td>Yes</td>\n",
       "      <td>1</td>\n",
       "      <td>1</td>\n",
       "      <td>1</td>\n",
       "      <td>sci</td>\n",
       "      <td>1</td>\n",
       "      <td>alzheimers</td>\n",
       "      <td>brain</td>\n",
       "      <td>neuro</td>\n",
       "      <td>0</td>\n",
       "      <td>0</td>\n",
       "      <td>1</td>\n",
       "    </tr>\n",
       "    <tr>\n",
       "      <th>4</th>\n",
       "      <td>13</td>\n",
       "      <td>2012</td>\n",
       "      <td>Private</td>\n",
       "      <td>No</td>\n",
       "      <td>Yes</td>\n",
       "      <td>1</td>\n",
       "      <td>0</td>\n",
       "      <td>1</td>\n",
       "      <td>sci</td>\n",
       "      <td>1</td>\n",
       "      <td>0</td>\n",
       "      <td>cell</td>\n",
       "      <td>microscopy</td>\n",
       "      <td>metabolic response of cells</td>\n",
       "      <td>0</td>\n",
       "      <td>0</td>\n",
       "    </tr>\n",
       "  </tbody>\n",
       "</table>\n",
       "</div>"
      ],
      "text/plain": [
       "   id  year dataset type demographics affiliations  ethics encoded  \\\n",
       "0   4  2012      Private           No          Yes               1   \n",
       "1   7  2012       Public           No          Yes               1   \n",
       "2   9  2012      Private           No           No               0   \n",
       "3  10  2012       Public           No          Yes               1   \n",
       "4  13  2012      Private           No          Yes               1   \n",
       "\n",
       "   method encoded  measure encoded type  justification encoded     disease  \\\n",
       "0               0                1  sci                      1           0   \n",
       "1               1                0  dis                      2   glaucoma    \n",
       "2               0                1  nov                      3      cancer   \n",
       "3               1                1  sci                      1  alzheimers   \n",
       "4               0                1  sci                      1           0   \n",
       "\n",
       "  body part Zhou category                         task  cancer encoded  \\\n",
       "0       all           all                      surgery               0   \n",
       "1      eyes          eyes                            0               0   \n",
       "2     lungs         chest                            0               1   \n",
       "3     brain         neuro                            0               0   \n",
       "4      cell    microscopy  metabolic response of cells               0   \n",
       "\n",
       "   neuro encoded  \n",
       "0              0  \n",
       "1              0  \n",
       "2              0  \n",
       "3              1  \n",
       "4              0  "
      ]
     },
     "execution_count": 71,
     "metadata": {},
     "output_type": "execute_result"
    }
   ],
   "source": [
    "df2.head()"
   ]
  },
  {
   "cell_type": "code",
   "execution_count": 69,
   "id": "41c13fd3",
   "metadata": {},
   "outputs": [],
   "source": [
    "#encoding disease\n",
    "def encoding_disease(df, column, name, disease):\n",
    "    converted = []\n",
    "    for index in range(len(df)):\n",
    "        if df.iloc[index, column] == disease:\n",
    "            converted.append(1)\n",
    "        else:\n",
    "            converted.append(0)\n",
    "    df[name] = converted\n",
    "    return df"
   ]
  },
  {
   "cell_type": "code",
   "execution_count": 70,
   "id": "1993d09b",
   "metadata": {},
   "outputs": [],
   "source": [
    "df2 = encoding_disease(df2, 10, 'cancer encoded', 'cancer')\n",
    "df2 = encoding_disease(df2, 12, 'neuro encoded', 'neuro')"
   ]
  },
  {
   "cell_type": "markdown",
   "id": "7e7de927",
   "metadata": {},
   "source": [
    "## Encoding remaining data"
   ]
  },
  {
   "cell_type": "code",
   "execution_count": 72,
   "id": "b4ac176a",
   "metadata": {},
   "outputs": [],
   "source": [
    "#method used for encoding remaining data\n",
    "def encoding(df, column, name):\n",
    "    converted = []\n",
    "    for index in range(len(df)):\n",
    "        if df.iloc[index, column] == 'Yes' or df.iloc[index, column] == 'Public':\n",
    "            converted.append(1)\n",
    "        elif df.iloc[index, column] == 'No' or df.iloc[index, column] == 'Private':\n",
    "            converted.append(0)\n",
    "        elif \",\" in df.iloc[index, column]: #this corresponds to mixed option in dataset type\n",
    "            converted.append(2)\n",
    "    df[name] = converted\n",
    "    return df"
   ]
  },
  {
   "cell_type": "code",
   "execution_count": 73,
   "id": "86c17ba8",
   "metadata": {},
   "outputs": [],
   "source": [
    "df = encoding(df2, 2, 'dataset type encoded')\n",
    "df = encoding(df, 3, 'demographics encoded')\n",
    "df = encoding(df, 4, 'affiliations encoded')"
   ]
  },
  {
   "cell_type": "code",
   "execution_count": 74,
   "id": "5912b3b2",
   "metadata": {},
   "outputs": [],
   "source": [
    "#removing unencoded columns\n",
    "encoded = df.copy()"
   ]
  },
  {
   "cell_type": "code",
   "execution_count": 75,
   "id": "4d4216b8",
   "metadata": {},
   "outputs": [],
   "source": [
    "encoded.drop(encoded.columns[[2, 3, 4, 8, 10, 11, 12, 13]], axis=1, inplace=True)"
   ]
  },
  {
   "cell_type": "code",
   "execution_count": 76,
   "id": "0e8e48ee",
   "metadata": {},
   "outputs": [
    {
     "data": {
      "text/html": [
       "<div>\n",
       "<style scoped>\n",
       "    .dataframe tbody tr th:only-of-type {\n",
       "        vertical-align: middle;\n",
       "    }\n",
       "\n",
       "    .dataframe tbody tr th {\n",
       "        vertical-align: top;\n",
       "    }\n",
       "\n",
       "    .dataframe thead th {\n",
       "        text-align: right;\n",
       "    }\n",
       "</style>\n",
       "<table border=\"1\" class=\"dataframe\">\n",
       "  <thead>\n",
       "    <tr style=\"text-align: right;\">\n",
       "      <th></th>\n",
       "      <th>id</th>\n",
       "      <th>year</th>\n",
       "      <th>ethics encoded</th>\n",
       "      <th>method encoded</th>\n",
       "      <th>measure encoded</th>\n",
       "      <th>justification encoded</th>\n",
       "      <th>cancer encoded</th>\n",
       "      <th>neuro encoded</th>\n",
       "      <th>dataset type encoded</th>\n",
       "      <th>demographics encoded</th>\n",
       "      <th>affiliations encoded</th>\n",
       "    </tr>\n",
       "  </thead>\n",
       "  <tbody>\n",
       "    <tr>\n",
       "      <th>0</th>\n",
       "      <td>4</td>\n",
       "      <td>2012</td>\n",
       "      <td>1</td>\n",
       "      <td>0</td>\n",
       "      <td>1</td>\n",
       "      <td>1</td>\n",
       "      <td>0</td>\n",
       "      <td>0</td>\n",
       "      <td>0</td>\n",
       "      <td>0</td>\n",
       "      <td>1</td>\n",
       "    </tr>\n",
       "    <tr>\n",
       "      <th>1</th>\n",
       "      <td>7</td>\n",
       "      <td>2012</td>\n",
       "      <td>1</td>\n",
       "      <td>1</td>\n",
       "      <td>0</td>\n",
       "      <td>2</td>\n",
       "      <td>0</td>\n",
       "      <td>0</td>\n",
       "      <td>1</td>\n",
       "      <td>0</td>\n",
       "      <td>1</td>\n",
       "    </tr>\n",
       "    <tr>\n",
       "      <th>2</th>\n",
       "      <td>9</td>\n",
       "      <td>2012</td>\n",
       "      <td>0</td>\n",
       "      <td>0</td>\n",
       "      <td>1</td>\n",
       "      <td>3</td>\n",
       "      <td>1</td>\n",
       "      <td>0</td>\n",
       "      <td>0</td>\n",
       "      <td>0</td>\n",
       "      <td>0</td>\n",
       "    </tr>\n",
       "    <tr>\n",
       "      <th>3</th>\n",
       "      <td>10</td>\n",
       "      <td>2012</td>\n",
       "      <td>1</td>\n",
       "      <td>1</td>\n",
       "      <td>1</td>\n",
       "      <td>1</td>\n",
       "      <td>0</td>\n",
       "      <td>1</td>\n",
       "      <td>1</td>\n",
       "      <td>0</td>\n",
       "      <td>1</td>\n",
       "    </tr>\n",
       "    <tr>\n",
       "      <th>4</th>\n",
       "      <td>13</td>\n",
       "      <td>2012</td>\n",
       "      <td>1</td>\n",
       "      <td>0</td>\n",
       "      <td>1</td>\n",
       "      <td>1</td>\n",
       "      <td>0</td>\n",
       "      <td>0</td>\n",
       "      <td>0</td>\n",
       "      <td>0</td>\n",
       "      <td>1</td>\n",
       "    </tr>\n",
       "  </tbody>\n",
       "</table>\n",
       "</div>"
      ],
      "text/plain": [
       "   id  year  ethics encoded  method encoded  measure encoded  \\\n",
       "0   4  2012               1               0                1   \n",
       "1   7  2012               1               1                0   \n",
       "2   9  2012               0               0                1   \n",
       "3  10  2012               1               1                1   \n",
       "4  13  2012               1               0                1   \n",
       "\n",
       "   justification encoded  cancer encoded  neuro encoded  dataset type encoded  \\\n",
       "0                      1               0              0                     0   \n",
       "1                      2               0              0                     1   \n",
       "2                      3               1              0                     0   \n",
       "3                      1               0              1                     1   \n",
       "4                      1               0              0                     0   \n",
       "\n",
       "   demographics encoded  affiliations encoded  \n",
       "0                     0                     1  \n",
       "1                     0                     1  \n",
       "2                     0                     0  \n",
       "3                     0                     1  \n",
       "4                     0                     1  "
      ]
     },
     "execution_count": 76,
     "metadata": {},
     "output_type": "execute_result"
    }
   ],
   "source": [
    "encoded.head()"
   ]
  },
  {
   "cell_type": "code",
   "execution_count": 77,
   "id": "5d9a3c18",
   "metadata": {},
   "outputs": [],
   "source": [
    "#splitting into 2012 data and 2021 data for the graph\n",
    "encoded2012 = encoded[encoded['year']==2012]\n",
    "encoded2021 = encoded[encoded['year']==2021]"
   ]
  },
  {
   "cell_type": "markdown",
   "id": "b83fc1ee",
   "metadata": {},
   "source": [
    "## Creating graphs"
   ]
  },
  {
   "cell_type": "code",
   "execution_count": 27,
   "id": "8c2eacd2",
   "metadata": {},
   "outputs": [],
   "source": [
    "#helper method to create gaussian based noise\n",
    "def create_noise(df):\n",
    "    mu = 0 #mean\n",
    "    sigma = 0.03 #standard deviation\n",
    "\n",
    "    numsx = []\n",
    "    numsy = []\n",
    "    numsz = []\n",
    "    for i in range(len(df)): \n",
    "        numsx.append(random.gauss(mu, sigma)) \n",
    "        numsy.append(random.gauss(mu, sigma)) \n",
    "        numsz.append(random.gauss(mu, sigma)) \n",
    "    numsx = np.array(numsx)\n",
    "    numsy = np.array(numsy)\n",
    "    numsz = np.array(numsz)\n",
    "    \n",
    "    return numsx, numsy, numsz"
   ]
  },
  {
   "cell_type": "code",
   "execution_count": 305,
   "id": "13ac1f95",
   "metadata": {},
   "outputs": [],
   "source": [
    "#generating x,y,z to be visualised from both years\n",
    "#not currently used\n",
    "numsx, numsy, numsz = create_noise(encoded)\n",
    "x = encoded['ethics encoded']+numsx\n",
    "y = encoded['demographics encoded']+numsy\n",
    "z = encoded['dataset type encoded']+numsz"
   ]
  },
  {
   "cell_type": "code",
   "execution_count": 92,
   "id": "ffc9c2d0",
   "metadata": {},
   "outputs": [],
   "source": [
    "#2012 data only for visualisation\n",
    "\n",
    "numsx, numsy, numsz = create_noise(encoded2012)\n",
    "\n",
    "x12 = encoded2012['ethics encoded']+numsx\n",
    "y12 = encoded2012['dataset type encoded']+numsy\n",
    "z12 = encoded2012['demographics encoded']+numsz"
   ]
  },
  {
   "cell_type": "code",
   "execution_count": 93,
   "id": "905e9882",
   "metadata": {},
   "outputs": [],
   "source": [
    "#2021 data only for visualisation\n",
    "numsx, numsy, numsz = create_noise(encoded2021)\n",
    "\n",
    "x21 = encoded2021['ethics encoded']+numsx\n",
    "y21 = encoded2021['dataset type encoded']+numsy\n",
    "z21 = encoded2021['demographics encoded']+numsz"
   ]
  },
  {
   "cell_type": "code",
   "execution_count": 96,
   "id": "9a3ac25e",
   "metadata": {},
   "outputs": [
    {
     "data": {
      "image/png": "[encoded data removed]",
      "text/plain": [
       "<Figure size 504x504 with 1 Axes>"
      ]
     },
     "metadata": {
      "needs_background": "light"
     },
     "output_type": "display_data"
    }
   ],
   "source": [
    "# Creating 3d scatterplot\n",
    "fig = plt.figure(figsize=(7, 7))\n",
    "ax = plt.axes(projection='3d')\n",
    "\n",
    "#plotting data\n",
    "#ax.scatter3D(x,y,z, s = 32, alpha = 0.5)\n",
    "\n",
    "ax.scatter3D(x12,y12,z12, s = 40, alpha = 1, c= '#9AC8E0')\n",
    "ax.scatter3D(x21,y21,z21, s = 40, alpha = 1, c= '#083979')\n",
    "\n",
    "#remove grid\n",
    "ax.grid(False)\n",
    "\n",
    "#set tick labels\n",
    "\n",
    "plt.xticks([0, 1], ['no', 'yes'])\n",
    "plt.yticks([0, 1, 2], ['private  ', 'public  ', 'mixed  '])\n",
    "\n",
    "ax.set_zticks([0, 1])\n",
    "ax.set_zticklabels(['no', 'yes'])\n",
    "\n",
    "#set legend\n",
    "plt.legend(['2012', '2021'])\n",
    "\n",
    "#set axis labels \n",
    "ax.set_xlabel('ethics mentioned')\n",
    "ax.set_ylabel('dataset type')\n",
    "ax.set_zlabel('demographics mentioned')\n",
    "\n",
    "#set title\n",
    "#ax.set_title('4d scatterplot')\n",
    "\n",
    "plt.savefig('square 1 with ethics, demographics, dataset type.png')\n",
    "\n",
    "plt.show()\n"
   ]
  },
  {
   "cell_type": "code",
   "execution_count": null,
   "id": "bc25ff8a",
   "metadata": {},
   "outputs": [],
   "source": []
  }
 ],
 "metadata": {
  "kernelspec": {
   "display_name": "Python 3 (ipykernel)",
   "language": "python",
   "name": "python3"
  },
  "language_info": {
   "codemirror_mode": {
    "name": "ipython",
    "version": 3
   },
   "file_extension": ".py",
   "mimetype": "text/x-python",
   "name": "python",
   "nbconvert_exporter": "python",
   "pygments_lexer": "ipython3",
   "version": "3.9.7"
  }
 },
 "nbformat": 4,
 "nbformat_minor": 5
}
