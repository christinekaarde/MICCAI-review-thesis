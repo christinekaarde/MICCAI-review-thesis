{
 "cells": [
  {
   "cell_type": "code",
   "execution_count": 319,
   "id": "6845edae",
   "metadata": {},
   "outputs": [],
   "source": [
    "import pandas as pd\n",
    "import matplotlib.pyplot as plt"
   ]
  },
  {
   "cell_type": "code",
   "execution_count": 333,
   "id": "5cb0ac7f",
   "metadata": {},
   "outputs": [],
   "source": [
    "#reading in files\n",
    "aff = pd.read_csv('affiliations_data.csv', sep = ';')\n",
    "jus = pd.read_csv('justification_data.csv', sep = ';')\n",
    "dis = pd.read_csv('disease_data.csv', sep = ';')"
   ]
  },
  {
   "cell_type": "code",
   "execution_count": 334,
   "id": "b6a8d4d0",
   "metadata": {},
   "outputs": [],
   "source": [
    "#filling in nan values with 0's for easier handling\n",
    "aff = aff.fillna(0)\n",
    "dis = dis.fillna(0)"
   ]
  },
  {
   "cell_type": "code",
   "execution_count": 335,
   "id": "1a384955",
   "metadata": {},
   "outputs": [],
   "source": [
    "#removing id columns for increased readability\n",
    "aff.drop([\"list of 2012 ids\", \"list of 2021 ids\"], axis = 1, inplace = True)"
   ]
  },
  {
   "cell_type": "markdown",
   "id": "d780b63a",
   "metadata": {},
   "source": [
    "## Affiliations\n",
    "\n",
    "sorted dataframe by counter\n",
    "\n",
    "stacked barchart of number of categories per category\n"
   ]
  },
  {
   "cell_type": "code",
   "execution_count": 323,
   "id": "6b5c7226",
   "metadata": {
    "scrolled": true
   },
   "outputs": [
    {
     "data": {
      "text/html": [
       "<div>\n",
       "<style scoped>\n",
       "    .dataframe tbody tr th:only-of-type {\n",
       "        vertical-align: middle;\n",
       "    }\n",
       "\n",
       "    .dataframe tbody tr th {\n",
       "        vertical-align: top;\n",
       "    }\n",
       "\n",
       "    .dataframe thead th {\n",
       "        text-align: right;\n",
       "    }\n",
       "</style>\n",
       "<table border=\"1\" class=\"dataframe\">\n",
       "  <thead>\n",
       "    <tr style=\"text-align: right;\">\n",
       "      <th></th>\n",
       "      <th>Counter 2012</th>\n",
       "      <th>Counter 2021</th>\n",
       "      <th>Type</th>\n",
       "      <th>Country</th>\n",
       "      <th>Name</th>\n",
       "      <th>Total count</th>\n",
       "    </tr>\n",
       "  </thead>\n",
       "  <tbody>\n",
       "    <tr>\n",
       "      <th>49</th>\n",
       "      <td>3.0</td>\n",
       "      <td>13.0</td>\n",
       "      <td>gov</td>\n",
       "      <td>China</td>\n",
       "      <td>NSFC, National Natural Science Foundation of C...</td>\n",
       "      <td>16.0</td>\n",
       "    </tr>\n",
       "    <tr>\n",
       "      <th>206</th>\n",
       "      <td>7.0</td>\n",
       "      <td>7.0</td>\n",
       "      <td>gov</td>\n",
       "      <td>USA</td>\n",
       "      <td>NIH</td>\n",
       "      <td>14.0</td>\n",
       "    </tr>\n",
       "    <tr>\n",
       "      <th>235</th>\n",
       "      <td>3.0</td>\n",
       "      <td>3.0</td>\n",
       "      <td>uni</td>\n",
       "      <td>USA</td>\n",
       "      <td>University of North Carolina at Chapel Hill</td>\n",
       "      <td>6.0</td>\n",
       "    </tr>\n",
       "    <tr>\n",
       "      <th>46</th>\n",
       "      <td>0.0</td>\n",
       "      <td>5.0</td>\n",
       "      <td>gov</td>\n",
       "      <td>China</td>\n",
       "      <td>National Key Research and Development Program ...</td>\n",
       "      <td>5.0</td>\n",
       "    </tr>\n",
       "    <tr>\n",
       "      <th>236</th>\n",
       "      <td>4.0</td>\n",
       "      <td>1.0</td>\n",
       "      <td>uni</td>\n",
       "      <td>USA</td>\n",
       "      <td>University of Pennsylvania</td>\n",
       "      <td>5.0</td>\n",
       "    </tr>\n",
       "    <tr>\n",
       "      <th>58</th>\n",
       "      <td>2.0</td>\n",
       "      <td>3.0</td>\n",
       "      <td>uni</td>\n",
       "      <td>China</td>\n",
       "      <td>Shanghai Jiao Tong University, China</td>\n",
       "      <td>5.0</td>\n",
       "    </tr>\n",
       "    <tr>\n",
       "      <th>209</th>\n",
       "      <td>2.0</td>\n",
       "      <td>3.0</td>\n",
       "      <td>gov</td>\n",
       "      <td>USA</td>\n",
       "      <td>NSF</td>\n",
       "      <td>5.0</td>\n",
       "    </tr>\n",
       "    <tr>\n",
       "      <th>29</th>\n",
       "      <td>0.0</td>\n",
       "      <td>5.0</td>\n",
       "      <td>uni</td>\n",
       "      <td>China</td>\n",
       "      <td>Chinese Academy of Sciences</td>\n",
       "      <td>5.0</td>\n",
       "    </tr>\n",
       "    <tr>\n",
       "      <th>197</th>\n",
       "      <td>2.0</td>\n",
       "      <td>3.0</td>\n",
       "      <td>uni</td>\n",
       "      <td>USA</td>\n",
       "      <td>Johns Hopkins University</td>\n",
       "      <td>5.0</td>\n",
       "    </tr>\n",
       "    <tr>\n",
       "      <th>84</th>\n",
       "      <td>1.0</td>\n",
       "      <td>3.0</td>\n",
       "      <td>gov</td>\n",
       "      <td>EU</td>\n",
       "      <td>European Commission</td>\n",
       "      <td>4.0</td>\n",
       "    </tr>\n",
       "  </tbody>\n",
       "</table>\n",
       "</div>"
      ],
      "text/plain": [
       "     Counter 2012  Counter 2021 Type Country  \\\n",
       "49            3.0          13.0  gov   China   \n",
       "206           7.0           7.0  gov     USA   \n",
       "235           3.0           3.0  uni     USA   \n",
       "46            0.0           5.0  gov   China   \n",
       "236           4.0           1.0  uni     USA   \n",
       "58            2.0           3.0  uni   China   \n",
       "209           2.0           3.0  gov     USA   \n",
       "29            0.0           5.0  uni   China   \n",
       "197           2.0           3.0  uni     USA   \n",
       "84            1.0           3.0  gov      EU   \n",
       "\n",
       "                                                  Name  Total count  \n",
       "49   NSFC, National Natural Science Foundation of C...         16.0  \n",
       "206                                                NIH         14.0  \n",
       "235        University of North Carolina at Chapel Hill          6.0  \n",
       "46   National Key Research and Development Program ...          5.0  \n",
       "236                         University of Pennsylvania          5.0  \n",
       "58                Shanghai Jiao Tong University, China          5.0  \n",
       "209                                                NSF          5.0  \n",
       "29                         Chinese Academy of Sciences          5.0  \n",
       "197                           Johns Hopkins University          5.0  \n",
       "84                                 European Commission          4.0  "
      ]
     },
     "execution_count": 323,
     "metadata": {},
     "output_type": "execute_result"
    }
   ],
   "source": [
    "count_list = []\n",
    "for index in range(len(aff)):\n",
    "    count_list.append(aff.iloc[index, 0] + aff.iloc[index, 1]) \n",
    "\n",
    "aff['Total count'] = count_list\n",
    "\n",
    "#change column to sort by 2012 or 2021 exclusively\n",
    "sort_aff = aff.sort_values(by=['Total count'], ascending = False)\n",
    "\n",
    "sort_aff.head(10)"
   ]
  },
  {
   "cell_type": "code",
   "execution_count": 324,
   "id": "3bf9ce20",
   "metadata": {},
   "outputs": [],
   "source": [
    "#dictionary with country as key and categories as list items in value\n",
    "\n",
    "def create_country_cat(df):\n",
    "    dic = {}\n",
    "    for index in range(len(df)):\n",
    "        country = df.iloc[index, 3]\n",
    "        category = df.iloc[index, 2]\n",
    "        if country not in dic:         \n",
    "            dic[country] = [category] #add new empty list if country not in dic\n",
    "        else: \n",
    "            dic[country].append(category)\n",
    "    return dic\n"
   ]
  },
  {
   "cell_type": "code",
   "execution_count": 325,
   "id": "3c8f167d",
   "metadata": {},
   "outputs": [],
   "source": [
    "#[gov, uni, hosp, corp]\n",
    "def count_country_cat(dic):\n",
    "    count_dic = {}\n",
    "    for key in dic.keys():\n",
    "        count_list = [0,0,0,0]\n",
    "        for category in dic.get(key):\n",
    "            if category == 'gov':\n",
    "                count_list[0]+=1\n",
    "            elif category == 'uni':\n",
    "                count_list[1]+=1\n",
    "            elif category == 'hosp':\n",
    "                count_list[2]+=1\n",
    "            elif category == 'corp':\n",
    "                count_list[3]+=1\n",
    "            #making them percentages instead\n",
    "            total = sum(count_list)\n",
    "            if total != 0:\n",
    "                count_list[0] = count_list[0]/total*100\n",
    "                count_list[1] = count_list[1]/total*100\n",
    "                count_list[2] = count_list[2]/total*100\n",
    "                count_list[3] = count_list[3]/total*100\n",
    "            \n",
    "        count_dic[key] = count_list\n",
    "    return count_dic"
   ]
  },
  {
   "cell_type": "code",
   "execution_count": 336,
   "id": "3ec174b5",
   "metadata": {},
   "outputs": [],
   "source": [
    "country_category = count_country_cat(create_country_cat(aff))\n",
    "df = pd.DataFrame.from_dict(country_category)\n",
    "row_names = {0:'Government', 1:'University', 2:'Hospital', 3: 'Corporation'}\n",
    "df.rename(index= row_names, inplace=True)\n",
    "df = df.transpose()\n",
    "#testing different subsets to viz, here df is the ones that are affiliated with more than one\n",
    "#category\n",
    "#df = df.loc[(df['University']!= 100) & (df['Corporation']!= 100)& (df['Hospital']!= 100)& (df['Government']!= 100)]\n",
    "\n"
   ]
  },
  {
   "cell_type": "code",
   "execution_count": 338,
   "id": "961c0e11",
   "metadata": {},
   "outputs": [
    {
     "data": {
      "image/png": "[encoded data removed]",
      "text/plain": [
       "<Figure size 864x864 with 1 Axes>"
      ]
     },
     "metadata": {
      "needs_background": "light"
     },
     "output_type": "display_data"
    }
   ],
   "source": [
    "fig = plt.figure(figsize=(12, 12))\n",
    "ax = fig.add_subplot(projection='3d')\n",
    "\n",
    "\n",
    "ax.scatter(df['Hospital'], df['Corporation'], df['Government'])\n",
    "\n",
    "ax.set_xlabel('Hosp')\n",
    "ax.set_ylabel('Corp')\n",
    "ax.set_zlabel('Gov')\n",
    "\n",
    "plt.show()"
   ]
  },
  {
   "cell_type": "code",
   "execution_count": 306,
   "id": "70f6536c",
   "metadata": {},
   "outputs": [
    {
     "data": {
      "image/png": "[encoded data removed]",
      "text/plain": [
       "<Figure size 720x216 with 1 Axes>"
      ]
     },
     "metadata": {
      "needs_background": "light"
     },
     "output_type": "display_data"
    }
   ],
   "source": [
    "\n",
    "color_dic = {'Government': '#5eb1bf', 'University': '#066570', 'Hospital': '#8FE3CF', \n",
    "             'Corporation': 'green'}\n",
    "\n",
    "fig = df.plot(kind = 'bar', title = 'Category per country', stacked = True, color = color_dic, figsize=(10,3), legend = False )\n",
    "\n",
    "fig.set_ylabel(\"percent of articles per category\")\n",
    "#can I alter the x-ticks to be 25, 50 and 100?\n",
    "#also some form of sorting would be really good\n",
    "\n",
    "fig.set_xlabel(\"countries\")\n",
    "\n",
    "\n",
    "plt.savefig('category per country', bbox_inches='tight')"
   ]
  },
  {
   "cell_type": "markdown",
   "id": "eb1f4412",
   "metadata": {},
   "source": [
    "This works, but is basically unreadable.. Everything is too squished together. So need a better representation!\n",
    "\n",
    "Making the plot larger helped, but still a lot of blank space!\n",
    "Can I normalise by number of articles - that would probably help\n",
    "\n",
    "Hvis det nu var hvert lands fordeling i % i stedet for faktiske tal? Lidt bedre, men fordelingen \n",
    "er bare virkelig skæv, så det er stadig ulæseligt...\n",
    "Selv hvis jeg fjerner alle dem der kun har 1 category\n",
    "\n"
   ]
  },
  {
   "cell_type": "markdown",
   "id": "65ee825b",
   "metadata": {},
   "source": [
    "## Justification"
   ]
  },
  {
   "cell_type": "code",
   "execution_count": 241,
   "id": "f627bbff",
   "metadata": {},
   "outputs": [],
   "source": [
    "def count_cat(df, year):\n",
    "    df = df[df['year'] == year]\n",
    "    dic = {}\n",
    "    option_list= []\n",
    "    for element in df.iloc[:, 1]:\n",
    "        if \",\" in element:\n",
    "            multiples = element.split(\", \")\n",
    "            for option in multiples:\n",
    "                option_list.append(option)\n",
    "        else:\n",
    "            option_list.append(element)\n",
    "    for option in option_list:\n",
    "        if option not in dic:\n",
    "            dic[option] = 1\n",
    "        else:\n",
    "            dic[option] = dic.get(option) + 1 \n",
    "    return dic"
   ]
  },
  {
   "cell_type": "code",
   "execution_count": 253,
   "id": "1da700d0",
   "metadata": {},
   "outputs": [],
   "source": [
    "cat2012 = count_cat(jus, 2012)\n",
    "cat2021 = count_cat(jus, 2021)"
   ]
  },
  {
   "cell_type": "code",
   "execution_count": 249,
   "id": "90f4b6c8",
   "metadata": {},
   "outputs": [
    {
     "data": {
      "text/plain": [
       "{'sci': 23, 'dis': 11, 'nov': 9}"
      ]
     },
     "execution_count": 249,
     "metadata": {},
     "output_type": "execute_result"
    }
   ],
   "source": [
    "cat2012"
   ]
  },
  {
   "cell_type": "code",
   "execution_count": 250,
   "id": "bdb6c585",
   "metadata": {},
   "outputs": [
    {
     "data": {
      "text/plain": [
       "{'sci': 55, 'dis': 26, 'nov': 17, 'hc': 22}"
      ]
     },
     "execution_count": 250,
     "metadata": {},
     "output_type": "execute_result"
    }
   ],
   "source": [
    "cat2021"
   ]
  },
  {
   "cell_type": "code",
   "execution_count": 251,
   "id": "c7b88097",
   "metadata": {},
   "outputs": [],
   "source": [
    "df = pd.DataFrame.from_dict([cat])\n",
    "\n",
    "column_names = {'sci':'Science based', 'dis':'Disease based', 'nov':'Novel approach', \n",
    "                'hc': 'Improved healthcare'}\n",
    "\n",
    "df.rename(columns= column_names, inplace=True)"
   ]
  },
  {
   "cell_type": "code",
   "execution_count": 252,
   "id": "9f667d8a",
   "metadata": {},
   "outputs": [
    {
     "data": {
      "text/html": [
       "<div>\n",
       "<style scoped>\n",
       "    .dataframe tbody tr th:only-of-type {\n",
       "        vertical-align: middle;\n",
       "    }\n",
       "\n",
       "    .dataframe tbody tr th {\n",
       "        vertical-align: top;\n",
       "    }\n",
       "\n",
       "    .dataframe thead th {\n",
       "        text-align: right;\n",
       "    }\n",
       "</style>\n",
       "<table border=\"1\" class=\"dataframe\">\n",
       "  <thead>\n",
       "    <tr style=\"text-align: right;\">\n",
       "      <th></th>\n",
       "      <th>Science based</th>\n",
       "      <th>Disease based</th>\n",
       "      <th>Novel approach</th>\n",
       "      <th>Improved healthcare</th>\n",
       "    </tr>\n",
       "  </thead>\n",
       "  <tbody>\n",
       "    <tr>\n",
       "      <th>0</th>\n",
       "      <td>78</td>\n",
       "      <td>37</td>\n",
       "      <td>26</td>\n",
       "      <td>22</td>\n",
       "    </tr>\n",
       "  </tbody>\n",
       "</table>\n",
       "</div>"
      ],
      "text/plain": [
       "   Science based  Disease based  Novel approach  Improved healthcare\n",
       "0             78             37              26                   22"
      ]
     },
     "execution_count": 252,
     "metadata": {},
     "output_type": "execute_result"
    }
   ],
   "source": [
    "df"
   ]
  },
  {
   "cell_type": "markdown",
   "id": "8a3bec04",
   "metadata": {},
   "source": [
    "## Disease type/task/body part"
   ]
  },
  {
   "cell_type": "code",
   "execution_count": 155,
   "id": "613bd320",
   "metadata": {},
   "outputs": [],
   "source": [
    "def count_column(df, column):\n",
    "    dic = {}\n",
    "    option_list= []\n",
    "    for element in df.iloc[:, column]:\n",
    "        if element != 0:\n",
    "            option_list.append(element)\n",
    "    for option in option_list:\n",
    "        if option not in dic:\n",
    "            dic[option] = 1\n",
    "        else:\n",
    "            dic[option] = dic.get(option) + 1 \n",
    "    return dic"
   ]
  },
  {
   "cell_type": "code",
   "execution_count": 231,
   "id": "f4de349e",
   "metadata": {},
   "outputs": [],
   "source": [
    "def option_per_zhou(df, year):\n",
    "    df = df[df['year'] == year]\n",
    "    zhou = count_column(df, 3)\n",
    "    \n",
    "    for key in zhou.keys():\n",
    "        counter = zhou.get(key)\n",
    "        cat = df[df['Zhou category'] == key]\n",
    "        dis = count_column(cat, 1)\n",
    "        task = count_column(cat, 4)\n",
    "        res = dis | task #merging the two dictionaries\n",
    "        zhou[key] = res\n",
    "        zhou.get(key)['counter'] = counter\n",
    "        \n",
    "    return zhou\n"
   ]
  },
  {
   "cell_type": "code",
   "execution_count": 232,
   "id": "668eac22",
   "metadata": {},
   "outputs": [],
   "source": [
    "test12 = option_per_zhou(dis, 2012)\n",
    "test21 = option_per_zhou(dis, 2021)"
   ]
  },
  {
   "cell_type": "code",
   "execution_count": 233,
   "id": "a5d96e5c",
   "metadata": {},
   "outputs": [
    {
     "data": {
      "text/plain": [
       "{'all': {'surgery': 1,\n",
       "  'detect regional differences in images for different diseases': 1,\n",
       "  'surgery robotic': 1,\n",
       "  'counter': 3},\n",
       " 'eyes': {'glaucoma ': 1,\n",
       "  'location of foveola for different diseases': 1,\n",
       "  'counter': 2},\n",
       " 'chest': {'cancer': 2, 'tuberculosis': 1, 'counter': 3},\n",
       " 'neuro': {'alzheimers': 3,\n",
       "  'cancer': 1,\n",
       "  'mild cognitive impairment': 1,\n",
       "  'autism': 2,\n",
       "  'multiple sclerosis': 1,\n",
       "  \"parkinson's disease\": 2,\n",
       "  'measuring nerve fibers': 1,\n",
       "  'population based pattern recognition brain in particular': 1,\n",
       "  'neonate brain mapping': 1,\n",
       "  'different applications': 1,\n",
       "  'counter': 14},\n",
       " 'microscopy': {'cancer': 2,\n",
       "  'metabolic response of cells': 1,\n",
       "  'cell death event detection': 1,\n",
       "  'cell feature analysis': 1,\n",
       "  'cell detection': 1,\n",
       "  'vesicle fusion/undocking': 1,\n",
       "  'phase contrast microscopy': 1,\n",
       "  'counter': 8},\n",
       " 'abdomen': {'cancer': 2, 'verebral body fractures': 1, 'counter': 3},\n",
       " 'cardiovascular': {'coronary artery disease': 2,\n",
       "  'capturing morphological changes over time': 1,\n",
       "  'counter': 3}}"
      ]
     },
     "execution_count": 233,
     "metadata": {},
     "output_type": "execute_result"
    }
   ],
   "source": [
    "test12"
   ]
  },
  {
   "cell_type": "code",
   "execution_count": 234,
   "id": "3bf91eb7",
   "metadata": {},
   "outputs": [
    {
     "data": {
      "text/plain": [
       "{'eyes': {'gender prediction': 1,\n",
       "  'managing imbalanced datasets': 1,\n",
       "  'fixing overfitting models': 1,\n",
       "  'imbalanced datasets': 1,\n",
       "  'unsupervised anomoly detection': 1,\n",
       "  'counter': 5},\n",
       " 'neuro': {'alzheimers': 4,\n",
       "  'bipolar': 1,\n",
       "  'schizophrenia': 1,\n",
       "  'intercranial hemorrhage': 1,\n",
       "  'cancer': 4,\n",
       "  'autism': 1,\n",
       "  \"parkinson's disease\": 1,\n",
       "  'brain disease': 1,\n",
       "  'neurodegenerative disorders': 1,\n",
       "  'Subjective cognitive decline': 1,\n",
       "  'mild cognitive impairment': 1,\n",
       "  'major depression disorder': 1,\n",
       "  'brain midline delineation': 1,\n",
       "  'harmonization of medical data': 1,\n",
       "  'data labelling': 1,\n",
       "  'counter': 21},\n",
       " 'abdomen': {'cancer': 10,\n",
       "  'liver steatosis': 1,\n",
       "  \"crohn's disease\": 1,\n",
       "  'lumbar degeneration disease': 1,\n",
       "  'ulcerative colitis': 1,\n",
       "  'nonalcoholic fatty liver disease': 1,\n",
       "  'adolescent idopathic scoliosis': 1,\n",
       "  'gastrointestinal abnormalities': 1,\n",
       "  'embryo development stage detection': 1,\n",
       "  'evaluation of spinal bone lesions': 1,\n",
       "  'anatomy site recognition': 1,\n",
       "  'managing imbalanced datasets': 1,\n",
       "  'tumor classification': 1,\n",
       "  'histopathological image visual representation': 1,\n",
       "  'unsupervised anomoly detection': 1,\n",
       "  'counter': 24},\n",
       " 'chest': {'cancer': 6,\n",
       "  'covid': 3,\n",
       "  'pneumothorax': 1,\n",
       "  'lung disease': 1,\n",
       "  'pneumonia': 1,\n",
       "  'screening thoracic diseases': 1,\n",
       "  'alleviating data imbalance': 1,\n",
       "  'predicting survival time': 1,\n",
       "  'content based image retrieval for radiology': 1,\n",
       "  'mammography lesion matching': 1,\n",
       "  'labeling chest X-rays': 1,\n",
       "  'multi-view medical image analysis': 2,\n",
       "  'detecting pathologies and assesing pulmonary edema severity': 1,\n",
       "  'outlier detection': 1,\n",
       "  'preventing overfitting of models': 1,\n",
       "  'counter': 23},\n",
       " 'all': {'epilepsy': 1,\n",
       "  'cancer': 1,\n",
       "  'alleviating data imbalance': 1,\n",
       "  'predicting survival time': 1,\n",
       "  'universal lesion detection': 1,\n",
       "  'harmonization of medical data': 1,\n",
       "  'counter': 6},\n",
       " 'face': {'gender prediction': 1, 'counter': 1},\n",
       " 'microscopy': {'cancer': 3,\n",
       "  'alleviating data imbalance': 1,\n",
       "  'classifying rare diseases': 1,\n",
       "  'continual learning for intelligent diagnosis systems': 1,\n",
       "  'fixing overfitting models': 1,\n",
       "  'data labelling': 1,\n",
       "  'fixing degrading models (retrogress)': 1,\n",
       "  'imbalanced datasets': 1,\n",
       "  'preventing overfitting of models': 2,\n",
       "  'counter': 12},\n",
       " 'mouth': {'tooth localization': 1, 'counter': 1},\n",
       " 'thyroid': {'cancer': 1, 'counter': 1},\n",
       " 'cardiovascular': {'outlier detection': 1, 'counter': 1}}"
      ]
     },
     "execution_count": 234,
     "metadata": {},
     "output_type": "execute_result"
    }
   ],
   "source": [
    "test21"
   ]
  },
  {
   "cell_type": "code",
   "execution_count": null,
   "id": "20cf8228",
   "metadata": {},
   "outputs": [],
   "source": []
  }
 ],
 "metadata": {
  "kernelspec": {
   "display_name": "Python 3 (ipykernel)",
   "language": "python",
   "name": "python3"
  },
  "language_info": {
   "codemirror_mode": {
    "name": "ipython",
    "version": 3
   },
   "file_extension": ".py",
   "mimetype": "text/x-python",
   "name": "python",
   "nbconvert_exporter": "python",
   "pygments_lexer": "ipython3",
   "version": "3.9.7"
  }
 },
 "nbformat": 4,
 "nbformat_minor": 5
}
