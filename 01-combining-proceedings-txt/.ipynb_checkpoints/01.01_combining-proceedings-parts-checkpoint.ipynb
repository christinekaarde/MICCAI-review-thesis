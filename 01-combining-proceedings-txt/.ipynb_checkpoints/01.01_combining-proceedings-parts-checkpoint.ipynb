{
 "cells": [
  {
   "cell_type": "code",
   "execution_count": 6,
   "id": "68ddf5d7",
   "metadata": {},
   "outputs": [],
   "source": [
    "import pandas as pd\n",
    "import re"
   ]
  },
  {
   "cell_type": "code",
   "execution_count": 7,
   "id": "7fdb6e77",
   "metadata": {},
   "outputs": [],
   "source": [
    "#function that takes the separate txt files of the part of the proceedings and adds them together, saving to a combined file\n",
    "def combine_txt(list_of_txt, title):\n",
    "    file = open(list_of_txt[0], \"r\",encoding='utf-8')\n",
    "    part = file.read() \n",
    "    \n",
    "    for i in range(len(list_of_txt)-1):\n",
    "        file = open(list_of_txt[i+1], \"r\",encoding='utf-8')\n",
    "        next_part = file.read() \n",
    "        part = part + \"\\n\" + next_part #adding each part together\n",
    "        i = i+1\n",
    "\n",
    "    with open(title + \".txt\", 'w', encoding='utf-8') as fp:\n",
    "            fp.write(part) #writing the whole thing to a file\n",
    "       \n",
    "    return part"
   ]
  },
  {
   "cell_type": "code",
   "execution_count": 8,
   "id": "a6f9550e",
   "metadata": {},
   "outputs": [],
   "source": [
    "list_of_2012_txt=['miccai 2012 part 1.txt', 'miccai 2012 part 2.txt','miccai 2012 part 3.txt']\n",
    "list_of_2021_txt=['miccai 2021 part 1.txt','miccai 2021 part 2.txt','miccai 2021 part 3.txt',\n",
    "                  'miccai 2021 part 4.txt','miccai 2021 part 5.txt','miccai 2021 part 6.txt',\n",
    "                  'miccai 2021 part 7.txt','miccai 2021 part 8.txt']"
   ]
  },
  {
   "cell_type": "code",
   "execution_count": 10,
   "id": "3a7b1b1e",
   "metadata": {},
   "outputs": [],
   "source": [
    "txt_2012 = combine_txt(list_of_2012_txt, \"miccai_2012_full_txt\")\n",
    "txt_2021 = combine_txt(list_of_2021_txt, \"miccai_2021_full_txt\")"
   ]
  },
  {
   "cell_type": "code",
   "execution_count": null,
   "id": "7d7b842f",
   "metadata": {},
   "outputs": [],
   "source": []
  }
 ],
 "metadata": {
  "kernelspec": {
   "display_name": "Python 3 (ipykernel)",
   "language": "python",
   "name": "python3"
  },
  "language_info": {
   "codemirror_mode": {
    "name": "ipython",
    "version": 3
   },
   "file_extension": ".py",
   "mimetype": "text/x-python",
   "name": "python",
   "nbconvert_exporter": "python",
   "pygments_lexer": "ipython3",
   "version": "3.9.7"
  }
 },
 "nbformat": 4,
 "nbformat_minor": 5
}
