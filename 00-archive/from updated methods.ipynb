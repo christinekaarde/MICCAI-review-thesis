{
 "cells": [
  {
   "cell_type": "code",
   "execution_count": null,
   "id": "5f4da9ea",
   "metadata": {},
   "outputs": [],
   "source": [
    "from nltk.stem import PorterStemmer\n",
    "from nltk.tokenize import word_tokenize"
   ]
  },
  {
   "cell_type": "code",
   "execution_count": null,
   "id": "14851028",
   "metadata": {},
   "outputs": [],
   "source": [
    "#helper method to find the root of the keywords, and adding them to the list\n",
    "#omitted currently\n",
    "def word_root(keywords):    \n",
    "    ps = PorterStemmer()\n",
    "    for i in range(len(keywords)):\n",
    "        if keywords[i] == 'classification':\n",
    "            keywords.append('classify') #manually fixing this, which otherwise would become 'classif'\n",
    "        else:\n",
    "            keywords.append(ps.stem(keywords[i]))\n",
    "    return keywords"
   ]
  },
  {
   "cell_type": "code",
   "execution_count": null,
   "id": "f8522f36",
   "metadata": {},
   "outputs": [],
   "source": []
  }
 ],
 "metadata": {
  "kernelspec": {
   "display_name": "Python 3 (ipykernel)",
   "language": "python",
   "name": "python3"
  },
  "language_info": {
   "codemirror_mode": {
    "name": "ipython",
    "version": 3
   },
   "file_extension": ".py",
   "mimetype": "text/x-python",
   "name": "python",
   "nbconvert_exporter": "python",
   "pygments_lexer": "ipython3",
   "version": "3.9.7"
  }
 },
 "nbformat": 4,
 "nbformat_minor": 5
}
