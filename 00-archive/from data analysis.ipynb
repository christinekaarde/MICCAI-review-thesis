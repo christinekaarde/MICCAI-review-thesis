{
 "cells": [
  {
   "cell_type": "code",
   "execution_count": 1,
   "id": "85f0e6a2",
   "metadata": {},
   "outputs": [],
   "source": [
    "\n",
    "word_list = ['SVM', 'Graph analysis', 'Supervised learning', 'Unsupervised learning', \n",
    "             'Transfer learning', 'Neural network','bag of features','multiple kernel learning',\n",
    "              'self supervised learning','Other']"
   ]
  },
  {
   "cell_type": "code",
   "execution_count": 2,
   "id": "1920f420",
   "metadata": {},
   "outputs": [],
   "source": [
    "perf_list = ['AUC', 'Specificity', 'Accuracy', 'Recall', 'F1 score', 'Sensitivity', 'mean', \n",
    "             'median', 'standard deviation', 'matthews correlation coefficient', 'Other']\n"
   ]
  },
  {
   "cell_type": "code",
   "execution_count": null,
   "id": "2d555044",
   "metadata": {},
   "outputs": [],
   "source": [
    "demo = df[df.iloc[:,17] == 'Yes']\n",
    "demo = demo.iloc[:,[1,18]]\n",
    "demo.reset_index()\n",
    "print('Number of articles mentioning dataset survey/method: ', len(demo))\n",
    "\n",
    "\n",
    "for index in range(len(demo)):\n",
    "    print(demo.iloc[index, 0])\n",
    "    print(demo.iloc[index, 1])\n",
    "    print('---')"
   ]
  },
  {
   "cell_type": "code",
   "execution_count": null,
   "id": "6f4bab0a",
   "metadata": {},
   "outputs": [],
   "source": [
    "df = pd.DataFrame.from_dict([cat])\n",
    "\n",
    "column_names = {'sci':'Science based', 'dis':'Disease based', 'nov':'Novel approach', \n",
    "                'hc': 'Improved healthcare'}\n",
    "\n",
    "df.rename(columns= column_names, inplace=True)"
   ]
  },
  {
   "cell_type": "code",
   "execution_count": null,
   "id": "00c3747d",
   "metadata": {},
   "outputs": [],
   "source": [
    "import seaborn as sns\n",
    "\n",
    "# the sample dataframe from the OP\n",
    "practice = pd.DataFrame([['g1', 'c1', 10], ['g1', 'c2', 12], ['g1', 'c3', 13], ['g2', 'c1', 8], ['g2', 'c2', 10], ['g2', 'c3', 12]], columns=['group', 'column', 'val'])\n",
    "# plot with seaborn barplot\n",
    "sns.barplot(data=practice, x='column', y='val', hue='group')"
   ]
  },
  {
   "cell_type": "code",
   "execution_count": null,
   "id": "94497619",
   "metadata": {},
   "outputs": [],
   "source": [
    "def create_comb_ethics_viz(df, columns, plot_option, name, year):\n",
    "    #narrowing down the df to classification labelled accurately and splitting into 2012 and 2021\n",
    "    df_true = df[df['Is the article accurately labelled as classification?'] == 'Yes']\n",
    "    if year == 2012:\n",
    "        df = df_true[df_true['Which year is the article from?'] == 2012]\n",
    "    else:\n",
    "        df = df_true[df_true['Which year is the article from?'] == 2021]\n",
    "    \n",
    "    #counting the answers\n",
    "    data = {column:[] for column in columns}\n",
    "    for column in columns:\n",
    "        data[column] = count_yes_no(df, column)\n",
    "    df = pd.DataFrame(data) \n",
    "    \n",
    "    #renaming columns and rows\n",
    "\n",
    "    column_names = {columns[0]:'Respect for persons', columns[1]:'Benefience', \n",
    "                    columns[2]:'Justice', columns[3]:'Repect for law/public interest'}\n",
    "  \n",
    "    row_names = {0:\"Yes\", 1:\"No\"}\n",
    "\n",
    "    df.rename(index= row_names, columns = column_names, inplace=True)\n",
    "    \n",
    "    #could I append the two years together?\n",
    "    \n",
    "    color_dic = {'Yes': '#066570', 'No': '#5eb1bf'}\n",
    "    \n",
    "    \n",
    "    fig = df.transpose().plot(kind = plot_option, title = name, stacked = True, color = color_dic)\n",
    "    \n",
    "    for container in fig.containers:\n",
    "        annotations = fig.bar_label(container, label_type='center', color = 'white') \n",
    "        #removing annotations that are equal to 0 for nicer graphs\n",
    "        for annotation in annotations:\n",
    "            if int(annotation.get_text()) == 0:\n",
    "                annotation.set(visible = False)\n",
    "            \n",
    "            \n",
    "    fig.set_xlabel(\"number of articles\")\n",
    "    fig.legend( loc='lower center', ncol=3)\n",
    "    #plt.savefig(name , bbox_inches='tight')\n",
    "\n",
    "\n",
    "\n",
    "    return fig"
   ]
  },
  {
   "cell_type": "code",
   "execution_count": null,
   "id": "73453529",
   "metadata": {},
   "outputs": [],
   "source": [
    "testingagain = pd.DataFrame(ethics_data12)\n",
    "a = testingagain.transpose()\n",
    "a['year'] = 2012\n",
    "a['ethics'] = ['Respect for persons', 'Benefience', \n",
    "                    'Justice', 'Repect for law/public interest']\n",
    "\n",
    "column_names = { 0:'No', 1:'Yes'}\n",
    "a.rename(columns = column_names, inplace=True)\n",
    "a"
   ]
  },
  {
   "cell_type": "code",
   "execution_count": null,
   "id": "7123b4a6",
   "metadata": {},
   "outputs": [],
   "source": [
    "testingagain = pd.DataFrame(ethics_data21)\n",
    "b = testingagain.transpose()\n",
    "b['year'] = 2021\n",
    "b['ethics'] = ['Respect for persons', 'Benefience', \n",
    "                    'Justice', 'Repect for law/public interest']\n",
    "\n",
    "column_names = { 0:'No', 1:'Yes'}\n",
    "b.rename(columns = column_names, inplace=True)\n",
    "b"
   ]
  },
  {
   "cell_type": "code",
   "execution_count": null,
   "id": "e13c07b2",
   "metadata": {},
   "outputs": [],
   "source": [
    "c= a.append(b)\n",
    "sns.barplot(data=c, x='ethics', y='Yes', hue='year')"
   ]
  },
  {
   "cell_type": "code",
   "execution_count": null,
   "id": "5e988f05",
   "metadata": {},
   "outputs": [],
   "source": [
    "#testing different subsets to viz, here df is the ones that are affiliated with more than one\n",
    "#category\n",
    "#df = df.loc[(df['University']!= 100) & (df['Corporation']!= 100)& (df['Hospital']!= 100)& (df['Government']!= 100)]\n",
    "fig = plt.figure(figsize=(12, 12))\n",
    "ax = fig.add_subplot(projection='3d')\n",
    "\n",
    "\n",
    "ax.scatter(df['Hospital'], df['Corporation'], df['Government'])\n",
    "\n",
    "ax.set_xlabel('Hosp')\n",
    "ax.set_ylabel('Corp')\n",
    "ax.set_zlabel('Gov')\n",
    "\n",
    "plt.show()Imp"
   ]
  }
 ],
 "metadata": {
  "kernelspec": {
   "display_name": "Python 3 (ipykernel)",
   "language": "python",
   "name": "python3"
  },
  "language_info": {
   "codemirror_mode": {
    "name": "ipython",
    "version": 3
   },
   "file_extension": ".py",
   "mimetype": "text/x-python",
   "name": "python",
   "nbconvert_exporter": "python",
   "pygments_lexer": "ipython3",
   "version": "3.9.7"
  }
 },
 "nbformat": 4,
 "nbformat_minor": 5
}
